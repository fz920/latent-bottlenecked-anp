{
 "cells": [
  {
   "cell_type": "markdown",
   "id": "c7bdb0bd-6778-4665-b121-ccbcaea17c87",
   "metadata": {},
   "source": [
    "# INFERENCE"
   ]
  },
  {
   "cell_type": "markdown",
   "id": "a238291e-b632-4bdc-8e09-fbb4cb338c55",
   "metadata": {},
   "source": [
    "Predict function of the np models \n",
    "with pre computed context encodings i forgot the batch size i was using \n",
    "to measure the memory change i used either gpustat or nvidia smi, making sure to clean the memory after every inference "
   ]
  },
  {
   "cell_type": "markdown",
   "id": "857a9986-2b7a-41d5-bd1b-2588a2efde64",
   "metadata": {},
   "source": [
    "## Example of Evaluation Run with Defined Num Context and Target"
   ]
  },
  {
   "cell_type": "code",
   "execution_count": 1,
   "id": "3e9f8d33-5c12-4085-b2b8-8df1ba4ea5d0",
   "metadata": {
    "tags": []
   },
   "outputs": [
    {
     "name": "stdout",
     "output_type": "stream",
     "text": [
      "Overriding argument num_latents: 64\n",
      "Overriding argument d_model: 64\n",
      "Overriding argument emb_depth: 4\n",
      "Overriding argument dim_feedforward: 128\n",
      "Overriding argument nhead: 4\n",
      "Overriding argument dropout: 0.0\n",
      "Overriding argument num_layers: 6\n",
      "True\n",
      "generating evaluation sets...\n",
      "Generating Evaluation Sets with rbf kernel\n",
      "Generating Evaluation sets with context and target points:   10 10\n"
     ]
    },
    {
     "name": "stderr",
     "output_type": "stream",
     "text": [
      "100%|##########| 1/1 [00:00<00:00,  9.08it/s]\n"
     ]
    },
    {
     "name": "stdout",
     "output_type": "stream",
     "text": [
      "Starting evaluation\n"
     ]
    },
    {
     "name": "stderr",
     "output_type": "stream",
     "text": [
      "  0%|          | 0/1 [00:00<?, ?it/s]"
     ]
    },
    {
     "name": "stdout",
     "output_type": "stream",
     "text": [
      "Output from nvidia-smi: ['memory.used [MiB]\\r', '218']\n",
      "SMI1: Initial GPU memory usage: [218]\n"
     ]
    },
    {
     "name": "stderr",
     "output_type": "stream",
     "text": [
      "100%|##########| 1/1 [00:00<00:00,  1.19it/s]\n",
      "lbanp:lbanp-num_latents-64_rbf rbf tar_ll 0.8357 loss -0.8357 (0.847 secs)\n"
     ]
    },
    {
     "name": "stdout",
     "output_type": "stream",
     "text": [
      "Memory used for inference: 0.00244140625 MB\n",
      "Output from nvidia-smi: ['memory.used [MiB]\\r', '222']\n",
      "SMI1: Final GPU memory usage: [222]\n",
      "SMI1: GPU memory usage during execution: [4]\n",
      "Eval has finished\n"
     ]
    }
   ],
   "source": [
    "%run gp_track.py --mode eval --expid lbanp-num_latents-64_rbf --model lbanp --num_latents 64 --custom_eval True --num_tar 10 --num_ctx 10 --eval_num_batches 1"
   ]
  },
  {
   "cell_type": "code",
   "execution_count": null,
   "id": "2838cf41-649d-4fbb-9d12-714c97ab940d",
   "metadata": {},
   "outputs": [],
   "source": []
  },
  {
   "cell_type": "markdown",
   "id": "add156c3-1c0b-4c55-99a6-adfed98b877e",
   "metadata": {},
   "source": [
    "## MEMORY AND TIME COMPLEXITY MEASUREMENT\n",
    "This needs to pre compute the encodings"
   ]
  },
  {
   "cell_type": "code",
   "execution_count": 1,
   "id": "7cd6942e-b782-46d4-a0bd-c091e1a79584",
   "metadata": {
    "tags": []
   },
   "outputs": [
    {
     "name": "stdout",
     "output_type": "stream",
     "text": [
      "lbanp-num_latents-128\n",
      "lbanp-num_latents-128_matern\n",
      "lbanp-num_latents-128_periodic\n",
      "lbanp-num_latents-128_rbf\n",
      "lbanp-num_latents-64_rbf\n",
      "lbanp-num_latents-8\n",
      "lbanp-num_latents-8_matern\n",
      "lbanp-num_latents-8_periodic\n",
      "lbanp-wamup\n",
      "lbanp1-num_latents-8\n",
      "lbanp_warmup\n"
     ]
    }
   ],
   "source": [
    "import os\n",
    "directory = \"/rds/user/fz287/hpc-work/MLMI4/results/gp/lbanp\"\n",
    "# List files in the directory\n",
    "files = os.listdir(directory)\n",
    "# Print the list of files\n",
    "for file in files:\n",
    "    print(file)"
   ]
  },
  {
   "cell_type": "code",
   "execution_count": 171,
   "id": "1ae6ac9d-a31e-43d4-b1f5-4292f378a342",
   "metadata": {
    "tags": []
   },
   "outputs": [
    {
     "name": "stdout",
     "output_type": "stream",
     "text": [
      "isanp2-num_latents-128_matern_0\n",
      "isanp2-num_latents-128_periodic_0\n",
      "isanp2-num_latents-128_rbf_0\n",
      "isanp2-num_latents-128_rbf_100\n",
      "isanp2-num_latents-16_rbf_100\n",
      "isanp2-num_latents-256_rbf_100\n",
      "isanp2-num_latents-32_rbf_100\n",
      "isanp2-num_latents-64_rbf_100\n",
      "isanp2-num_latents-8_matern_0\n",
      "isanp2-num_latents-8_periodic_0\n",
      "isanp2-num_latents-8_rbf_0\n",
      "isanp2-num_latents-8_rbf_100\n"
     ]
    }
   ],
   "source": [
    "directory = \"/rds/user/fz287/hpc-work/MLMI4/results/gp/isanp2\"\n",
    "# List files in the directory\n",
    "files = os.listdir(directory)\n",
    "# Print the list of files\n",
    "for file in files:\n",
    "    print(file)"
   ]
  },
  {
   "cell_type": "code",
   "execution_count": 1,
   "id": "ed8ca702-db8d-47bb-9631-a0b9a86840ef",
   "metadata": {
    "tags": []
   },
   "outputs": [],
   "source": [
    "import os\n",
    "import torch\n",
    "from utils.misc import load_module\n",
    "import yaml\n",
    "\n",
    "def load_saved_model(model_name, model_id,lbanp_latents=None):\n",
    "  # Define the directory path\n",
    "    if lbanp_latents==None:\n",
    "        directory = \"/rds/user/fz287/hpc-work/MLMI4/results/gp/\"+model_name+\"/\"+model_id\n",
    "    else:\n",
    "        directory = \"/rds/user/fz287/hpc-work/MLMI4/results/gp/\"+model_name+\"/\"+model_id\n",
    "    \n",
    "    args={\n",
    "    'model':model_name,\n",
    "    # LBANP Arguments\n",
    "    'num_latents':lbanp_latents,\n",
    "    'num_latents_per_layer':8,\n",
    "    'd_model':64,\n",
    "    'emb_depth':4,\n",
    "    'dim_feedforward':128,\n",
    "    'nhead':4,\n",
    "    'dropout':0.0,\n",
    "    'num_layers':6,\n",
    "    # OOD settings\n",
    "    'eval_kernel':'rbf',\n",
    "    't_noise':None,\n",
    "    'root':directory,\n",
    "    'eval_logfile':None,\n",
    "    'eval_seed':0,\n",
    "    'eval_num_batches':1,\n",
    "    'eval_batch_size':16,\n",
    "    'max_num_points':50\n",
    "    }\n",
    "    \n",
    "    model_cls = getattr(load_module(f'models/'+args['model']+'.py'), args['model'].upper())\n",
    "\n",
    "    with open(f'configs/gp/'+args['model']+'.yaml', 'r') as f:\n",
    "        config = yaml.safe_load(f)\n",
    "\n",
    "    print(config)\n",
    "\n",
    "    for key, val in args.items(): # Override the default arguments\n",
    "        if key in config:\n",
    "            config[key] = val\n",
    "            print(f\"Overriding argument {key}: {config[key]}\")\n",
    "    \n",
    "    model = model_cls(**config)\n",
    "    model.cuda()\n",
    "    \n",
    "\n",
    "    # Define the path to the checkpoint file\n",
    "    checkpoint_path = directory+'/ckpt.tar'\n",
    "    # Load the checkpoint\n",
    "    checkpoint = torch.load(checkpoint_path)\n",
    "    # Access the model state from the loaded checkpoint\n",
    "    model_state = checkpoint['model']\n",
    "    # Assuming you have already created your model object, load the model state\n",
    "    model.load_state_dict(model_state)\n",
    "    return model, args"
   ]
  },
  {
   "cell_type": "code",
   "execution_count": 2,
   "id": "709f4b77-0c0a-490f-b4a2-1d5bd778a315",
   "metadata": {
    "tags": []
   },
   "outputs": [],
   "source": [
    "from utils.paths import results_path, evalsets_path\n",
    "import os.path as osp\n",
    "from utils.log import get_logger, RunningAverage\n",
    "from data.gp import *\n",
    "from attrdict import AttrDict\n",
    "from tqdm import tqdm"
   ]
  },
  {
   "cell_type": "code",
   "execution_count": 3,
   "id": "11e7afa6-5630-44ac-ac02-366386fd2df4",
   "metadata": {
    "tags": []
   },
   "outputs": [
    {
     "data": {
      "text/plain": [
       "'/rds/user/fz287/hpc-work/MLMI4/evalsets'"
      ]
     },
     "execution_count": 3,
     "metadata": {},
     "output_type": "execute_result"
    }
   ],
   "source": [
    "evalsets_path"
   ]
  },
  {
   "cell_type": "code",
   "execution_count": 4,
   "id": "866d2500-73ec-44f1-bac2-1323fcb9052d",
   "metadata": {
    "tags": []
   },
   "outputs": [
    {
     "name": "stdout",
     "output_type": "stream",
     "text": [
      "matern-seed0.tar\n",
      "matern-seed100.tar\n",
      "periodic-seed0.tar\n",
      "periodic-seed100.tar\n",
      "rbf-seed0.tar\n",
      "rbf-seed100.tar\n",
      "rbf-seed500.tar\n"
     ]
    }
   ],
   "source": [
    "# List files in the directory\n",
    "files = os.listdir(osp.join(evalsets_path, 'gp'))\n",
    "# Print the list of files\n",
    "for file in files:\n",
    "    print(file)"
   ]
  },
  {
   "cell_type": "code",
   "execution_count": 4,
   "id": "6d233b5e-ef07-4115-b55c-847134751fd8",
   "metadata": {
    "tags": []
   },
   "outputs": [],
   "source": [
    "def get_eval_path(args):\n",
    "    path = osp.join(evalsets_path, 'gp')\n",
    "    filename = f'rbf-seed500.tar'\n",
    "    return path, filename"
   ]
  },
  {
   "cell_type": "code",
   "execution_count": 5,
   "id": "5805e7e9-50dd-441d-a1c2-82632cabb714",
   "metadata": {
    "tags": []
   },
   "outputs": [],
   "source": [
    "def gen_evalset(args):\n",
    "    kernel = RBFKernel()\n",
    "    print(f\"Generating Evaluation Sets with rbf kernel\")\n",
    "    print('Generating Evaluation sets with context and target points:  ', args['num_ctx'], args['num_tar'])\n",
    "    \n",
    "    sampler = GPSampler(kernel, t_noise=args['t_noise'], seed=args['eval_seed'], num_ctx=args['num_ctx'], num_tar=args['num_tar'])\n",
    "    batches = []\n",
    "    for i in tqdm(range(args['eval_num_batches']), ascii=True):\n",
    "        batches.append(sampler.sample(\n",
    "            batch_size=args['eval_batch_size'],\n",
    "            max_num_points=args['max_num_points'],\n",
    "            device='cuda'))\n",
    "\n",
    "    #torch.manual_seed(time.time())\n",
    "    #torch.cuda.manual_seed(time.time())\n",
    "\n",
    "    path, filename = get_eval_path(args)\n",
    "    if not osp.isdir(path):\n",
    "        os.makedirs(path)\n",
    "    torch.save(batches, osp.join(path, filename))"
   ]
  },
  {
   "cell_type": "code",
   "execution_count": 6,
   "id": "cd0c44e2-ca75-42c5-9f44-f4a4628ff7fa",
   "metadata": {
    "tags": []
   },
   "outputs": [],
   "source": [
    "def create_eval_batches(args, num_ctx, num_tar):\n",
    "    \n",
    "    args['num_ctx']=num_ctx\n",
    "    args['num_tar']=num_tar\n",
    "\n",
    "    if args['eval_logfile'] is None:\n",
    "        eval_logfile = f'eval_rbf'\n",
    "        eval_logfile += '.log'\n",
    "    else:\n",
    "        eval_logfile = args['eval_logfile']\n",
    "        \n",
    "    filename = os.path.join(args['root'], eval_logfile)\n",
    "    logger = get_logger(filename, mode='w')\n",
    "    \n",
    "    path, filename = get_eval_path(args)\n",
    "    \n",
    "    gen_evalset(args)\n",
    "    \n",
    "    eval_batches = torch.load(osp.join(path, filename))\n",
    "    \n",
    "    #just works with 1 batch\n",
    "    for batch in tqdm(eval_batches, ascii=True):    \n",
    "        for key, val in batch.items():\n",
    "            batch[key] = val.cuda()\n",
    "    \n",
    "    return batch #eval_batches\n",
    "\n",
    "# Function to clear memory cache\n",
    "def empty_cache():\n",
    "    gc.collect()\n",
    "    torch.cuda.empty_cache()"
   ]
  },
  {
   "cell_type": "code",
   "execution_count": 7,
   "id": "3c1413e9-1b2c-48b5-aeae-86c5efc94b93",
   "metadata": {
    "tags": []
   },
   "outputs": [],
   "source": [
    "import subprocess\n",
    "import gc\n",
    "def get_gpu_memory_usage():\n",
    "    result = subprocess.run(['nvidia-smi', '--query-gpu=memory.used', '--format=csv,nounits'],\n",
    "                            stdout=subprocess.PIPE)\n",
    "    output = result.stdout.decode('utf-8').strip().split('\\n')\n",
    "    #print(\"Output from nvidia-smi:\", output)\n",
    "\n",
    "    # Check if the output contains at least two elements\n",
    "    if len(output) >= 2:\n",
    "        # Extract memory usage value from the second element\n",
    "        memory_usage = int(output[1])\n",
    "        return [memory_usage]\n",
    "    else:\n",
    "        # If output format is unexpected, return an empty list\n",
    "        print(\"Unexpected output format from nvidia-smi\")\n",
    "        return []\n",
    "    \n",
    "# Function to clear memory cache\n",
    "def empty_cache():\n",
    "    gc.collect()\n",
    "    torch.cuda.empty_cache()"
   ]
  },
  {
   "cell_type": "code",
   "execution_count": 8,
   "id": "f4f5b8e3-fdd4-4ea9-b8a9-84ded83666f4",
   "metadata": {
    "tags": []
   },
   "outputs": [],
   "source": [
    "torch.manual_seed(0)\n",
    "torch.cuda.manual_seed(0)\n",
    "\n",
    "ravg = RunningAverage()"
   ]
  },
  {
   "cell_type": "code",
   "execution_count": 12,
   "id": "c2f4614d-3749-46ee-9bba-b112fed52488",
   "metadata": {
    "collapsed": true,
    "jupyter": {
     "outputs_hidden": true
    },
    "tags": []
   },
   "outputs": [
    {
     "data": {
      "text/plain": [
       "LBANP(\n",
       "  (embedder): Sequential(\n",
       "    (0): Linear(in_features=2, out_features=64, bias=True)\n",
       "    (1): ReLU(inplace=True)\n",
       "    (2): Linear(in_features=64, out_features=64, bias=True)\n",
       "    (3): ReLU(inplace=True)\n",
       "    (4): Linear(in_features=64, out_features=64, bias=True)\n",
       "    (5): ReLU(inplace=True)\n",
       "    (6): Linear(in_features=64, out_features=64, bias=True)\n",
       "  )\n",
       "  (encoder): LBANPEncoder(\n",
       "    (layers): ModuleList(\n",
       "      (0-5): 6 x LBANPEncoderLayer(\n",
       "        (latent_self_attn): PreNorm(\n",
       "          (fn): Attention(\n",
       "            (to_q): Linear(in_features=64, out_features=64, bias=False)\n",
       "            (to_kv): Linear(in_features=64, out_features=128, bias=False)\n",
       "            (dropout): Dropout(p=0.0, inplace=False)\n",
       "            (to_out): Linear(in_features=64, out_features=64, bias=True)\n",
       "          )\n",
       "          (norm): LayerNorm((64,), eps=1e-05, elementwise_affine=True)\n",
       "        )\n",
       "        (latent_ff): PreNorm(\n",
       "          (fn): FeedForward(\n",
       "            (net): Sequential(\n",
       "              (0): Linear(in_features=64, out_features=256, bias=True)\n",
       "              (1): GEGLU()\n",
       "              (2): Linear(in_features=128, out_features=64, bias=True)\n",
       "              (3): Dropout(p=0.0, inplace=False)\n",
       "            )\n",
       "          )\n",
       "          (norm): LayerNorm((64,), eps=1e-05, elementwise_affine=True)\n",
       "        )\n",
       "        (cross_attn): PreNorm(\n",
       "          (fn): Attention(\n",
       "            (to_q): Linear(in_features=64, out_features=64, bias=False)\n",
       "            (to_kv): Linear(in_features=64, out_features=128, bias=False)\n",
       "            (dropout): Dropout(p=0.0, inplace=False)\n",
       "            (to_out): Linear(in_features=64, out_features=64, bias=True)\n",
       "          )\n",
       "          (norm): LayerNorm((64,), eps=1e-05, elementwise_affine=True)\n",
       "          (norm_context): LayerNorm((64,), eps=1e-05, elementwise_affine=True)\n",
       "        )\n",
       "        (cross_ff): PreNorm(\n",
       "          (fn): FeedForward(\n",
       "            (net): Sequential(\n",
       "              (0): Linear(in_features=64, out_features=256, bias=True)\n",
       "              (1): GEGLU()\n",
       "              (2): Linear(in_features=128, out_features=64, bias=True)\n",
       "              (3): Dropout(p=0.0, inplace=False)\n",
       "            )\n",
       "          )\n",
       "          (norm): LayerNorm((64,), eps=1e-05, elementwise_affine=True)\n",
       "        )\n",
       "      )\n",
       "    )\n",
       "  )\n",
       "  (query_embedder): Sequential(\n",
       "    (0): Linear(in_features=1, out_features=64, bias=True)\n",
       "    (1): ReLU(inplace=True)\n",
       "    (2): Linear(in_features=64, out_features=64, bias=True)\n",
       "    (3): ReLU(inplace=True)\n",
       "    (4): Linear(in_features=64, out_features=64, bias=True)\n",
       "    (5): ReLU(inplace=True)\n",
       "    (6): Linear(in_features=64, out_features=64, bias=True)\n",
       "  )\n",
       "  (decoder): NPDecoder(\n",
       "    (layers): ModuleList(\n",
       "      (0-5): 6 x NPDecoderLayer(\n",
       "        (cross_attn): PreNorm(\n",
       "          (fn): Attention(\n",
       "            (to_q): Linear(in_features=64, out_features=64, bias=False)\n",
       "            (to_kv): Linear(in_features=64, out_features=128, bias=False)\n",
       "            (dropout): Dropout(p=0.0, inplace=False)\n",
       "            (to_out): Linear(in_features=64, out_features=64, bias=True)\n",
       "          )\n",
       "          (norm): LayerNorm((64,), eps=1e-05, elementwise_affine=True)\n",
       "          (norm_context): LayerNorm((64,), eps=1e-05, elementwise_affine=True)\n",
       "        )\n",
       "        (cross_ff): PreNorm(\n",
       "          (fn): FeedForward(\n",
       "            (net): Sequential(\n",
       "              (0): Linear(in_features=64, out_features=256, bias=True)\n",
       "              (1): GEGLU()\n",
       "              (2): Linear(in_features=128, out_features=64, bias=True)\n",
       "              (3): Dropout(p=0.0, inplace=False)\n",
       "            )\n",
       "          )\n",
       "          (norm): LayerNorm((64,), eps=1e-05, elementwise_affine=True)\n",
       "        )\n",
       "      )\n",
       "    )\n",
       "  )\n",
       "  (norm): LayerNorm((64,), eps=1e-05, elementwise_affine=True)\n",
       "  (predictor): Sequential(\n",
       "    (0): Linear(in_features=64, out_features=128, bias=True)\n",
       "    (1): ReLU()\n",
       "    (2): Linear(in_features=128, out_features=2, bias=True)\n",
       "  )\n",
       ")"
      ]
     },
     "execution_count": 12,
     "metadata": {},
     "output_type": "execute_result"
    }
   ],
   "source": []
  },
  {
   "cell_type": "code",
   "execution_count": 9,
   "id": "4ce3931d-7da2-481c-ad17-434e4df69767",
   "metadata": {
    "tags": []
   },
   "outputs": [],
   "source": [
    "def run_meas(model, eval_batches, maxit=100):\n",
    "    #precompute encodings\n",
    "    if model.__class__.__name__!='TNPD':\n",
    "        encod=model.get_context_encoding(eval_batches)\n",
    "    \n",
    "    cm=0 #to save memory metrics\n",
    "    tm=0 #to save time metrics\n",
    "    \n",
    "    for i in range(maxit):\n",
    "        #start measurement\n",
    "        empty_cache()\n",
    "        starter, ender = torch.cuda.Event(enable_timing=True), torch.cuda.Event(enable_timing=True)        \n",
    "        starter.record()\n",
    "        initial_memory_usage = get_gpu_memory_usage()\n",
    "        #print(\"SMI1: Initial GPU memory usage:\", initial_memory_usage)\n",
    "\n",
    "        #predict with precomputed encodings\n",
    "        if model.__class__.__name__!='TNPD':\n",
    "            pred_tar = model.predict(eval_batches['xc'], eval_batches['yc'], eval_batches['xt'], context_encodings=encod)\n",
    "        else:\n",
    "            pred_tar = model.predict(eval_batches['xc'], eval_batches['yc'], eval_batches['xt'])\n",
    "\n",
    "        #check memory\n",
    "        final_memory_usage = get_gpu_memory_usage()\n",
    "        #print(\"SMI1: Final GPU memory usage:\", final_memory_usage)\n",
    "        memory_usage_during_execution = [final - initial for final, initial in zip(final_memory_usage, initial_memory_usage)]\n",
    "        #print(\"SMI1: GPU memory usage during execution:\", memory_usage_during_execution)\n",
    "        #check time\n",
    "        ender.record()\n",
    "        torch.cuda.synchronize()\n",
    "        curr_time = starter.elapsed_time(ender)\n",
    "        #sum memory\n",
    "        cm+=memory_usage_during_execution[0]\n",
    "        #sum time\n",
    "        tm+=curr_time\n",
    "        del pred_tar\n",
    "        \n",
    "    if model.__class__.__name__!='TNPD':\n",
    "        del encod\n",
    "        \n",
    "    return cm/maxit, tm/maxit"
   ]
  },
  {
   "cell_type": "code",
   "execution_count": 157,
   "id": "0083d884-f959-4c83-8d21-e50fc788dffe",
   "metadata": {
    "tags": []
   },
   "outputs": [
    {
     "name": "stdout",
     "output_type": "stream",
     "text": [
      "AVG MEMORY USED:  268.875\n"
     ]
    }
   ],
   "source": [
    "#run_meas(model=modelito128rbf, eval_batches=eval_batches10)"
   ]
  },
  {
   "cell_type": "code",
   "execution_count": 158,
   "id": "4151a8ba-7a03-4d51-bb8e-4f971d9a8ad7",
   "metadata": {
    "tags": []
   },
   "outputs": [
    {
     "name": "stdout",
     "output_type": "stream",
     "text": [
      "AVG MEMORY USED:  268.625\n"
     ]
    }
   ],
   "source": [
    "#run_meas(model=modelito128rbf, eval_batches=eval_batches10)"
   ]
  },
  {
   "cell_type": "code",
   "execution_count": 159,
   "id": "7da958a9-2b88-440e-9b44-220f73d3fa8f",
   "metadata": {
    "tags": []
   },
   "outputs": [
    {
     "name": "stdout",
     "output_type": "stream",
     "text": [
      "AVG MEMORY USED:  227.95\n"
     ]
    }
   ],
   "source": [
    "#run_meas(model=modelito64rbf, eval_batches=eval_batches10)"
   ]
  },
  {
   "cell_type": "code",
   "execution_count": 161,
   "id": "df242430-5d12-4856-92ce-0b4c98b1d4ea",
   "metadata": {
    "tags": []
   },
   "outputs": [
    {
     "name": "stdout",
     "output_type": "stream",
     "text": [
      "AVG MEMORY USED:  226.6\n"
     ]
    }
   ],
   "source": [
    "#run_meas(model=modelito64rbf, eval_batches=eval_batches100)"
   ]
  },
  {
   "cell_type": "code",
   "execution_count": 12,
   "id": "561a248a-7e4d-46c9-b5ca-194258a99c36",
   "metadata": {
    "tags": []
   },
   "outputs": [
    {
     "name": "stdout",
     "output_type": "stream",
     "text": [
      "{'num_latents': 8, 'dim_x': 1, 'dim_y': 1, 'd_model': 64, 'emb_depth': 4, 'dim_feedforward': 128, 'nhead': 4, 'dropout': 0.0, 'num_layers': 6, 'norm_first': True}\n",
      "Overriding argument num_latents: 8\n",
      "Overriding argument d_model: 64\n",
      "Overriding argument emb_depth: 4\n",
      "Overriding argument dim_feedforward: 128\n",
      "Overriding argument nhead: 4\n",
      "Overriding argument dropout: 0.0\n",
      "Overriding argument num_layers: 6\n"
     ]
    }
   ],
   "source": [
    "lbanp_8, args64=load_saved_model(model_name='lbanp', model_id='lbanp1-num_latents-8', lbanp_latents=8)\n"
   ]
  },
  {
   "cell_type": "code",
   "execution_count": 10,
   "id": "8548cde3-59f0-4f54-bbc5-9b1bd8cb6519",
   "metadata": {
    "collapsed": true,
    "jupyter": {
     "outputs_hidden": true
    },
    "tags": []
   },
   "outputs": [
    {
     "name": "stdout",
     "output_type": "stream",
     "text": [
      "{'num_latents': 8, 'dim_x': 1, 'dim_y': 1, 'd_model': 64, 'emb_depth': 4, 'dim_feedforward': 128, 'nhead': 4, 'dropout': 0.0, 'num_layers': 6, 'norm_first': True}\n",
      "Overriding argument num_latents: 8\n",
      "Overriding argument d_model: 64\n",
      "Overriding argument emb_depth: 4\n",
      "Overriding argument dim_feedforward: 128\n",
      "Overriding argument nhead: 4\n",
      "Overriding argument dropout: 0.0\n",
      "Overriding argument num_layers: 6\n",
      "{'num_latents': 8, 'dim_x': 1, 'dim_y': 1, 'd_model': 64, 'emb_depth': 4, 'dim_feedforward': 128, 'nhead': 4, 'dropout': 0.0, 'num_layers': 6, 'norm_first': True}\n",
      "Overriding argument num_latents: 64\n",
      "Overriding argument d_model: 64\n",
      "Overriding argument emb_depth: 4\n",
      "Overriding argument dim_feedforward: 128\n",
      "Overriding argument nhead: 4\n",
      "Overriding argument dropout: 0.0\n",
      "Overriding argument num_layers: 6\n",
      "{'num_latents': 8, 'dim_x': 1, 'dim_y': 1, 'd_model': 64, 'emb_depth': 4, 'dim_feedforward': 128, 'nhead': 4, 'dropout': 0.0, 'num_layers': 6, 'norm_first': True}\n",
      "Overriding argument num_latents: 128\n",
      "Overriding argument d_model: 64\n",
      "Overriding argument emb_depth: 4\n",
      "Overriding argument dim_feedforward: 128\n",
      "Overriding argument nhead: 4\n",
      "Overriding argument dropout: 0.0\n",
      "Overriding argument num_layers: 6\n",
      "{'num_latents': 8, 'dim_x': 1, 'dim_y': 1, 'd_model': 64, 'emb_depth': 4, 'dim_feedforward': 128, 'nhead': 4, 'dropout': 0.0, 'num_layers': 6, 'norm_first': True}\n",
      "Overriding argument num_latents: 8\n",
      "Overriding argument d_model: 64\n",
      "Overriding argument emb_depth: 4\n",
      "Overriding argument dim_feedforward: 128\n",
      "Overriding argument nhead: 4\n",
      "Overriding argument dropout: 0.0\n",
      "Overriding argument num_layers: 6\n",
      "{'num_latents': 8, 'dim_x': 1, 'dim_y': 1, 'd_model': 64, 'emb_depth': 4, 'dim_feedforward': 128, 'nhead': 4, 'dropout': 0.0, 'num_layers': 6, 'norm_first': True}\n",
      "Overriding argument num_latents: 64\n",
      "Overriding argument d_model: 64\n",
      "Overriding argument emb_depth: 4\n",
      "Overriding argument dim_feedforward: 128\n",
      "Overriding argument nhead: 4\n",
      "Overriding argument dropout: 0.0\n",
      "Overriding argument num_layers: 6\n",
      "{'num_latents': 8, 'dim_x': 1, 'dim_y': 1, 'd_model': 64, 'emb_depth': 4, 'dim_feedforward': 128, 'nhead': 4, 'dropout': 0.0, 'num_layers': 6, 'norm_first': True}\n",
      "Overriding argument num_latents: 128\n",
      "Overriding argument d_model: 64\n",
      "Overriding argument emb_depth: 4\n",
      "Overriding argument dim_feedforward: 128\n",
      "Overriding argument nhead: 4\n",
      "Overriding argument dropout: 0.0\n",
      "Overriding argument num_layers: 6\n",
      "{'num_latents': 8, 'dim_x': 1, 'dim_y': 1, 'd_model': 64, 'emb_depth': 4, 'dim_feedforward': 128, 'nhead': 4, 'dropout': 0.0, 'num_layers': 6, 'norm_first': True}\n",
      "Overriding argument num_latents: 8\n",
      "Overriding argument d_model: 64\n",
      "Overriding argument emb_depth: 4\n",
      "Overriding argument dim_feedforward: 128\n",
      "Overriding argument nhead: 4\n",
      "Overriding argument dropout: 0.0\n",
      "Overriding argument num_layers: 6\n",
      "{'num_latents': 8, 'dim_x': 1, 'dim_y': 1, 'd_model': 64, 'emb_depth': 4, 'dim_feedforward': 128, 'nhead': 4, 'dropout': 0.0, 'num_layers': 6, 'norm_first': True}\n",
      "Overriding argument num_latents: 64\n",
      "Overriding argument d_model: 64\n",
      "Overriding argument emb_depth: 4\n",
      "Overriding argument dim_feedforward: 128\n",
      "Overriding argument nhead: 4\n",
      "Overriding argument dropout: 0.0\n",
      "Overriding argument num_layers: 6\n",
      "{'num_latents': 8, 'dim_x': 1, 'dim_y': 1, 'd_model': 64, 'emb_depth': 4, 'dim_feedforward': 128, 'nhead': 4, 'dropout': 0.0, 'num_layers': 6, 'norm_first': True}\n",
      "Overriding argument num_latents: 128\n",
      "Overriding argument d_model: 64\n",
      "Overriding argument emb_depth: 4\n",
      "Overriding argument dim_feedforward: 128\n",
      "Overriding argument nhead: 4\n",
      "Overriding argument dropout: 0.0\n",
      "Overriding argument num_layers: 6\n",
      "{'dim_x': 1, 'dim_y': 1, 'd_model': 64, 'emb_depth': 4, 'dim_feedforward': 128, 'nhead': 4, 'dropout': 0.0, 'num_layers': 6}\n",
      "Overriding argument d_model: 64\n",
      "Overriding argument emb_depth: 4\n",
      "Overriding argument dim_feedforward: 128\n",
      "Overriding argument nhead: 4\n",
      "Overriding argument dropout: 0.0\n",
      "Overriding argument num_layers: 6\n"
     ]
    }
   ],
   "source": [
    "#load models \n",
    "lbanp_8, args64=load_saved_model(model_name='lbanp', model_id='lbanp1-num_latents-8', lbanp_latents=8)\n",
    "lbanp_64, _=load_saved_model(model_name='lbanp', model_id='lbanp-num_latents-64_rbf', lbanp_latents=64)\n",
    "lbanp_128, _=load_saved_model(model_name='lbanp', model_id='lbanp-num_latents-128_rbf', lbanp_latents=128)\n",
    "isanp_8, _=load_saved_model(model_name='isanp', model_id='isanp-num_latents-8_rbf', lbanp_latents=8)\n",
    "isanp_64, _=load_saved_model(model_name='isanp', model_id='isanp-num_latents-64_rbf_0', lbanp_latents=64)\n",
    "isanp_128, _=load_saved_model(model_name='isanp', model_id='isanp-num_latents-128_rbf_0', lbanp_latents=128)\n",
    "isanp2_8, _=load_saved_model(model_name='isanp2', model_id='isanp2-num_latents-8_rbf_0', lbanp_latents=8)\n",
    "isanp2_64, _=load_saved_model(model_name='isanp2', model_id='isanp2-num_latents-64_rbf_100', lbanp_latents=64)\n",
    "isanp2_128, _=load_saved_model(model_name='isanp2', model_id='isanp2-num_latents-128_rbf_0', lbanp_latents=128)\n",
    "\n",
    "tnp_d, _=load_saved_model(model_name='tnpd', model_id='tnpd')"
   ]
  },
  {
   "cell_type": "code",
   "execution_count": 10,
   "id": "6c61cf84-fc85-4e62-a053-5726f3e94c06",
   "metadata": {
    "tags": []
   },
   "outputs": [
    {
     "name": "stdout",
     "output_type": "stream",
     "text": [
      "{'dim_x': 1, 'dim_y': 1, 'd_model': 64, 'emb_depth': 4, 'dim_feedforward': 128, 'nhead': 4, 'dropout': 0.0, 'num_layers': 6}\n",
      "Overriding argument d_model: 64\n",
      "Overriding argument emb_depth: 4\n",
      "Overriding argument dim_feedforward: 128\n",
      "Overriding argument nhead: 4\n",
      "Overriding argument dropout: 0.0\n",
      "Overriding argument num_layers: 6\n"
     ]
    }
   ],
   "source": [
    "#tnp_d, _=load_saved_model(model_name='tnpd', model_id='tnpd')"
   ]
  },
  {
   "cell_type": "code",
   "execution_count": 11,
   "id": "37ce33c4-d5d8-4973-baea-61e268001efb",
   "metadata": {
    "tags": []
   },
   "outputs": [
    {
     "name": "stdout",
     "output_type": "stream",
     "text": [
      "Generating Evaluation Sets with rbf kernel\n",
      "Generating Evaluation sets with context and target points:   10 1000\n"
     ]
    },
    {
     "name": "stderr",
     "output_type": "stream",
     "text": [
      "100%|####################################################################################| 1/1 [00:00<00:00,  5.68it/s]\n",
      "100%|############################################################################################| 1/1 [00:00<?, ?it/s]\n"
     ]
    },
    {
     "name": "stdout",
     "output_type": "stream",
     "text": [
      "Generating Evaluation Sets with rbf kernel\n",
      "Generating Evaluation sets with context and target points:   150 1000\n"
     ]
    },
    {
     "name": "stderr",
     "output_type": "stream",
     "text": [
      "100%|####################################################################################| 1/1 [00:00<00:00, 18.47it/s]\n",
      "100%|############################################################################################| 1/1 [00:00<?, ?it/s]\n"
     ]
    },
    {
     "name": "stdout",
     "output_type": "stream",
     "text": [
      "Generating Evaluation Sets with rbf kernel\n",
      "Generating Evaluation sets with context and target points:   500 1000\n"
     ]
    },
    {
     "name": "stderr",
     "output_type": "stream",
     "text": [
      "100%|####################################################################################| 1/1 [00:00<00:00,  9.99it/s]\n",
      "100%|##################################################################################| 1/1 [00:00<00:00, 1850.16it/s]\n"
     ]
    },
    {
     "name": "stdout",
     "output_type": "stream",
     "text": [
      "Generating Evaluation Sets with rbf kernel\n",
      "Generating Evaluation sets with context and target points:   1000 1000\n"
     ]
    },
    {
     "name": "stderr",
     "output_type": "stream",
     "text": [
      "100%|####################################################################################| 1/1 [00:00<00:00,  4.40it/s]\n",
      "100%|############################################################################################| 1/1 [00:00<?, ?it/s]\n"
     ]
    },
    {
     "name": "stdout",
     "output_type": "stream",
     "text": [
      "Generating Evaluation Sets with rbf kernel\n",
      "Generating Evaluation sets with context and target points:   1500 1000\n"
     ]
    },
    {
     "name": "stderr",
     "output_type": "stream",
     "text": [
      "100%|####################################################################################| 1/1 [00:00<00:00,  3.42it/s]\n",
      "100%|############################################################################################| 1/1 [00:00<?, ?it/s]\n"
     ]
    },
    {
     "name": "stdout",
     "output_type": "stream",
     "text": [
      "Generating Evaluation Sets with rbf kernel\n",
      "Generating Evaluation sets with context and target points:   2000 1000\n"
     ]
    },
    {
     "name": "stderr",
     "output_type": "stream",
     "text": [
      "100%|####################################################################################| 1/1 [00:00<00:00,  2.44it/s]\n",
      "100%|############################################################################################| 1/1 [00:00<?, ?it/s]\n"
     ]
    },
    {
     "name": "stdout",
     "output_type": "stream",
     "text": [
      "Generating Evaluation Sets with rbf kernel\n",
      "Generating Evaluation sets with context and target points:   2500 1000\n"
     ]
    },
    {
     "name": "stderr",
     "output_type": "stream",
     "text": [
      "100%|####################################################################################| 1/1 [00:21<00:00, 21.97s/it]\n",
      "100%|############################################################################################| 1/1 [00:00<?, ?it/s]\n"
     ]
    },
    {
     "name": "stdout",
     "output_type": "stream",
     "text": [
      "Generating Evaluation Sets with rbf kernel\n",
      "Generating Evaluation sets with context and target points:   3000 1000\n"
     ]
    },
    {
     "name": "stderr",
     "output_type": "stream",
     "text": [
      "100%|###################################################################################| 1/1 [02:00<00:00, 120.57s/it]\n",
      "100%|############################################################################################| 1/1 [00:00<?, ?it/s]\n"
     ]
    }
   ],
   "source": [
    "#create eval batches, it doesnt matter which args we use for this\n",
    "eval_batches10= create_eval_batches(args=args64, num_ctx=10, num_tar=1000)\n",
    "eval_batches150= create_eval_batches(args=args64, num_ctx=150, num_tar=1000)\n",
    "eval_batches500= create_eval_batches(args=args64, num_ctx=500, num_tar=1000)\n",
    "eval_batches1000= create_eval_batches(args=args64, num_ctx=1000, num_tar=1000)\n",
    "eval_batches1500= create_eval_batches(args=args64, num_ctx=1500, num_tar=1000)\n",
    "eval_batches2000= create_eval_batches(args=args64, num_ctx=2000, num_tar=1000)\n",
    "eval_batches2500= create_eval_batches(args=args64, num_ctx=2500, num_tar=1000)\n",
    "eval_batches3000= create_eval_batches(args=args64, num_ctx=3000, num_tar=1000)\n",
    "\n",
    "#eval_batches1000= create_eval_batches(args=args64, num_ctx=10000, num_tar=1000)"
   ]
  },
  {
   "cell_type": "code",
   "execution_count": null,
   "id": "4119f485-e72b-4362-8b58-e8b3534ef15a",
   "metadata": {},
   "outputs": [],
   "source": [
    "#modelito64rbf.eval()\n",
    "#modelito128rbf.eval()"
   ]
  },
  {
   "cell_type": "code",
   "execution_count": 18,
   "id": "90ffbe27-c35d-43cf-a16a-6b2b336ce93c",
   "metadata": {
    "tags": []
   },
   "outputs": [],
   "source": [
    "def run_tests(models, models_names,evalbatches, batch_size):\n",
    "    # Create an empty DataFrame to store results\n",
    "    results_list = []\n",
    "\n",
    "    # Loop through each combination of model and evaluation batch\n",
    "    for i in range(len(models)):\n",
    "        print(models_names[i])\n",
    "        for j in range(len(evalbatches)):\n",
    "            memory, time=run_meas(model=models[i], eval_batches=evalbatches[j], maxit=120)\n",
    "            results_list.append({'Model': models_names[i], 'Context Size': str(batch_size[j]),\n",
    "                                  'Memory Used (MB)': memory, 'Inference Time (ms)':time})\n",
    "\n",
    "    results = pd.DataFrame(results_list)\n",
    "    return results"
   ]
  },
  {
   "cell_type": "code",
   "execution_count": 13,
   "id": "850e2a22-52bd-4e02-bd2f-00adf0c44add",
   "metadata": {
    "tags": []
   },
   "outputs": [],
   "source": [
    "def run_tests(models, models_names,evalbatches, batch_size):\n",
    "    # Create an empty DataFrame to store results\n",
    "    results_list = []\n",
    "\n",
    "    # Loop through each combination of model and evaluation batch\n",
    "\n",
    "    print(models_names)\n",
    "    for j in range(len(evalbatches)):\n",
    "        memory, time=run_meas(model=models, eval_batches=evalbatches[j], maxit=120)\n",
    "        results_list.append({'Model': models_names, 'Context Size': str(batch_size[j]),\n",
    "                              'Memory Used (MB)': memory, 'Inference Time (ms)':time})\n",
    "\n",
    "    results = pd.DataFrame(results_list)\n",
    "    return results"
   ]
  },
  {
   "cell_type": "code",
   "execution_count": 14,
   "id": "0ac088db-abb5-42f9-a597-9795aecf1acc",
   "metadata": {
    "tags": []
   },
   "outputs": [],
   "source": [
    "import pandas as pd\n",
    "\n",
    "# Define the models, model names, and evaluation batches\n",
    "models=[lbanp_8, lbanp_64, lbanp_128, isanp_8, isanp_64, isanp_128, isanp2_8, isanp2_64, isanp2_128, tnp_d]\n",
    "models_names=['LBANP(8)', 'LBANP(64)', 'LBANP(128)', 'ISANP(8)', 'ISANP(64)', 'ISANP(128)', 'ISANPv2(8)', 'ISANPv2(64)', 'ISANPv2(128)', 'TNPD']\n"
   ]
  },
  {
   "cell_type": "code",
   "execution_count": 15,
   "id": "fc65a318-a4fc-4257-8125-c71bd998f2b3",
   "metadata": {
    "tags": []
   },
   "outputs": [],
   "source": [
    "evalbatches = [eval_batches10, eval_batches150, eval_batches500, eval_batches1000, eval_batches1500, eval_batches2000, eval_batches2500, eval_batches3000]\n",
    "batch_size = [10, 150, 500, 1000, 1500, 2000, 2500, 3000]"
   ]
  },
  {
   "cell_type": "code",
   "execution_count": 21,
   "id": "8fb06faa-e3c8-434f-908a-62bb4d4dfcfc",
   "metadata": {
    "tags": []
   },
   "outputs": [
    {
     "name": "stdout",
     "output_type": "stream",
     "text": [
      "LBANP(8)\n"
     ]
    }
   ],
   "source": [
    "torch.cuda.reset_max_memory_allocated()\n",
    "empty_cache()\n",
    "df_lbanp0=run_tests(models=models[0], models_names=models_names[0],evalbatches=evalbatches, batch_size=batch_size)\n",
    "df_lbanp0.to_csv('lbanp_0inference_results.csv', index=False)"
   ]
  },
  {
   "cell_type": "code",
   "execution_count": 22,
   "id": "906ec174-d91e-4572-8323-09bf45cf5aa9",
   "metadata": {
    "tags": []
   },
   "outputs": [
    {
     "name": "stderr",
     "output_type": "stream",
     "text": [
      "C:\\Users\\jmlr9\\AppData\\Roaming\\Python\\Python311\\site-packages\\torch\\cuda\\memory.py:303: FutureWarning: torch.cuda.reset_max_memory_allocated now calls torch.cuda.reset_peak_memory_stats, which resets /all/ peak memory stats.\n",
      "  warnings.warn(\n"
     ]
    },
    {
     "name": "stdout",
     "output_type": "stream",
     "text": [
      "LBANP(64)\n"
     ]
    }
   ],
   "source": [
    "torch.cuda.reset_max_memory_allocated()\n",
    "empty_cache()\n",
    "df_lbanp1=run_tests(models=models[1], models_names=models_names[1],evalbatches=evalbatches, batch_size=batch_size)\n",
    "df_lbanp1.to_csv('lbanp_1inference_results.csv', index=False)"
   ]
  },
  {
   "cell_type": "code",
   "execution_count": 23,
   "id": "2137d66e-1f80-4c19-b5e0-2a3b330f0166",
   "metadata": {
    "tags": []
   },
   "outputs": [
    {
     "name": "stdout",
     "output_type": "stream",
     "text": [
      "LBANP(128)\n"
     ]
    }
   ],
   "source": [
    "torch.cuda.reset_max_memory_allocated()\n",
    "empty_cache()\n",
    "df_lbanp2=run_tests(models=models[2], models_names=models_names[2],evalbatches=evalbatches, batch_size=batch_size)\n",
    "df_lbanp2.to_csv('lbanp_2inference_results.csv', index=False)"
   ]
  },
  {
   "cell_type": "code",
   "execution_count": 24,
   "id": "075a6650-9307-4f89-9b73-ac136c781c25",
   "metadata": {
    "tags": []
   },
   "outputs": [
    {
     "name": "stdout",
     "output_type": "stream",
     "text": [
      "ISANP(8)\n"
     ]
    }
   ],
   "source": [
    "torch.cuda.reset_max_memory_allocated()\n",
    "empty_cache()\n",
    "df3_isanp=run_tests(models=models[3], models_names=models_names[3],evalbatches=evalbatches, batch_size=batch_size)\n",
    "df3_isanp.to_csv('isanp_3inference_results.csv', index=False)"
   ]
  },
  {
   "cell_type": "code",
   "execution_count": 25,
   "id": "326edc80-a0e3-4ebf-ade5-12e238099bb8",
   "metadata": {
    "tags": []
   },
   "outputs": [
    {
     "name": "stdout",
     "output_type": "stream",
     "text": [
      "ISANP(64)\n"
     ]
    }
   ],
   "source": [
    "torch.cuda.reset_max_memory_allocated()\n",
    "empty_cache()\n",
    "df4_isanp=run_tests(models=models[4], models_names=models_names[4],evalbatches=evalbatches, batch_size=batch_size)\n",
    "df4_isanp.to_csv('isanp_4inference_results.csv', index=False)"
   ]
  },
  {
   "cell_type": "code",
   "execution_count": 26,
   "id": "89b376cf-7dae-4721-9ee0-9fa6e4a282a3",
   "metadata": {
    "tags": []
   },
   "outputs": [
    {
     "name": "stdout",
     "output_type": "stream",
     "text": [
      "ISANP(128)\n"
     ]
    }
   ],
   "source": [
    "torch.cuda.reset_max_memory_allocated()\n",
    "empty_cache()\n",
    "df5_isanp=run_tests(models=models[5], models_names=models_names[5],evalbatches=evalbatches, batch_size=batch_size)\n",
    "df5_isanp.to_csv('isanp_5inference_results.csv', index=False)"
   ]
  },
  {
   "cell_type": "code",
   "execution_count": 27,
   "id": "d3d29a40-9d44-4025-8ba9-2e0a5dcfd2da",
   "metadata": {
    "tags": []
   },
   "outputs": [
    {
     "name": "stdout",
     "output_type": "stream",
     "text": [
      "ISANPv2(8)\n"
     ]
    }
   ],
   "source": [
    "torch.cuda.reset_max_memory_allocated()\n",
    "empty_cache()\n",
    "df6_isanp2=run_tests(models=models[6], models_names=models_names[6],evalbatches=evalbatches, batch_size=batch_size)\n",
    "df6_isanp2.to_csv('isanp2_6inference_results.csv', index=False)"
   ]
  },
  {
   "cell_type": "code",
   "execution_count": 28,
   "id": "312337f2-467c-49a7-8c1b-3cbfa9b7531b",
   "metadata": {
    "tags": []
   },
   "outputs": [
    {
     "name": "stdout",
     "output_type": "stream",
     "text": [
      "ISANPv2(64)\n"
     ]
    }
   ],
   "source": [
    "torch.cuda.reset_max_memory_allocated()\n",
    "empty_cache()\n",
    "df7_isanp2=run_tests(models=models[7], models_names=models_names[7],evalbatches=evalbatches, batch_size=batch_size)\n",
    "df7_isanp2.to_csv('isanp2_7inference_results.csv', index=False)"
   ]
  },
  {
   "cell_type": "code",
   "execution_count": 29,
   "id": "cb426c57-15b5-4272-8c57-99809e797238",
   "metadata": {
    "tags": []
   },
   "outputs": [
    {
     "name": "stdout",
     "output_type": "stream",
     "text": [
      "ISANPv2(128)\n"
     ]
    }
   ],
   "source": [
    "torch.cuda.reset_max_memory_allocated()\n",
    "empty_cache()\n",
    "df8_isanp2=run_tests(models=models[8], models_names=models_names[8],evalbatches=evalbatches, batch_size=batch_size)\n",
    "df8_isanp2.to_csv('isanp2_8inference_results.csv', index=False)"
   ]
  },
  {
   "cell_type": "code",
   "execution_count": 18,
   "id": "9313444f-99f3-4f61-8560-7145a86a7ecc",
   "metadata": {
    "tags": []
   },
   "outputs": [],
   "source": [
    "import pandas as pd"
   ]
  },
  {
   "cell_type": "code",
   "execution_count": 19,
   "id": "9fb65ec8-c4f9-400a-823b-6fd551ab253b",
   "metadata": {
    "tags": []
   },
   "outputs": [
    {
     "name": "stderr",
     "output_type": "stream",
     "text": [
      "C:\\Users\\jmlr9\\AppData\\Roaming\\Python\\Python311\\site-packages\\torch\\cuda\\memory.py:303: FutureWarning: torch.cuda.reset_max_memory_allocated now calls torch.cuda.reset_peak_memory_stats, which resets /all/ peak memory stats.\n",
      "  warnings.warn(\n"
     ]
    },
    {
     "name": "stdout",
     "output_type": "stream",
     "text": [
      "TNPD\n"
     ]
    }
   ],
   "source": [
    "torch.cuda.reset_max_memory_allocated()\n",
    "empty_cache()\n",
    "df_tnpd=run_tests(models=tnp_d, models_names='TNPD',evalbatches=evalbatches[:3], batch_size=batch_size[:3])\n",
    "df_tnpd.to_csv('tnpd1_inference_results.csv', index=False)"
   ]
  },
  {
   "cell_type": "code",
   "execution_count": 20,
   "id": "a5da375b-0e46-4aae-9ecb-51e05efcaa8b",
   "metadata": {
    "tags": []
   },
   "outputs": [
    {
     "name": "stdout",
     "output_type": "stream",
     "text": [
      "TNPD\n"
     ]
    }
   ],
   "source": [
    "torch.cuda.reset_max_memory_allocated()\n",
    "empty_cache()\n",
    "df_tnpd=run_tests(models=tnp_d, models_names='TNPD',evalbatches=evalbatches[3:5], batch_size=batch_size[3:5])\n",
    "df_tnpd.to_csv('tnpd2_inference_results.csv', index=False)"
   ]
  },
  {
   "cell_type": "markdown",
   "id": "963c21b5-5fe7-4ac6-8f86-be26f0786279",
   "metadata": {
    "tags": []
   },
   "source": [
    "The following were memory intensive:\n",
    "\n",
    "torch.cuda.reset_max_memory_allocated()\n",
    "empty_cache()\n",
    "df_tnpd=run_tests(models=tnp_d, models_names='TNPD',evalbatches=evalbatches[5], batch_size=batch_size[5:7])\n",
    "df_tnpd.to_csv('tnpd3_inference_results.csv', index=False)"
   ]
  },
  {
   "cell_type": "markdown",
   "id": "1e79b6ea-21f3-45d4-bce6-c7c0057a9b22",
   "metadata": {
    "tags": []
   },
   "source": [
    "torch.cuda.reset_max_memory_allocated()\n",
    "empty_cache()\n",
    "df_tnpd=run_tests(models=tnp_d, models_names='TNPD',evalbatches=evalbatches[6], batch_size=batch_size[6])\n",
    "df_tnpd.to_csv('tnpd4_inference_results.csv', index=False)"
   ]
  },
  {
   "cell_type": "markdown",
   "id": "1e83c2d0-e59e-4457-84de-7c857774580b",
   "metadata": {
    "tags": []
   },
   "source": [
    "torch.cuda.reset_max_memory_allocated()\n",
    "empty_cache()\n",
    "df_tnpd=run_tests(models=tnp_d, models_names='TNPD',evalbatches=evalbatches[7], batch_size=batch_size[7:9])\n",
    "df_tnpd.to_csv('tnpd5_inference_results.csv', index=False)"
   ]
  },
  {
   "cell_type": "markdown",
   "id": "f454e898-d636-49d9-bbe9-21a962c53bb0",
   "metadata": {
    "tags": []
   },
   "source": [
    "torch.cuda.reset_max_memory_allocated()\n",
    "empty_cache()\n",
    "df_tnpd=run_tests(models=tnp_d, models_names='TNPD',evalbatches=evalbatches[8], batch_size=batch_size[8])\n",
    "df_tnpd.to_csv('tnpd6_inference_results.csv', index=False)"
   ]
  },
  {
   "cell_type": "code",
   "execution_count": 35,
   "id": "69c07060-bea3-4ade-9d3c-e2e7b25046bd",
   "metadata": {
    "tags": []
   },
   "outputs": [
    {
     "data": {
      "text/plain": [
       "[10, 150, 500, 1000, 1500, 2000, 2500, 3000]"
      ]
     },
     "execution_count": 35,
     "metadata": {},
     "output_type": "execute_result"
    }
   ],
   "source": [
    "batch_size"
   ]
  },
  {
   "cell_type": "code",
   "execution_count": 16,
   "id": "1a490f22-f43b-4c36-a05e-579691d1b83b",
   "metadata": {
    "tags": []
   },
   "outputs": [
    {
     "data": {
      "text/plain": [
       "['ISANPv2(8)', 'ISANPv2(64)', 'ISANPv2(128)']"
      ]
     },
     "execution_count": 16,
     "metadata": {},
     "output_type": "execute_result"
    }
   ],
   "source": [
    "models_names[6:9]"
   ]
  },
  {
   "cell_type": "code",
   "execution_count": 19,
   "id": "e8c144a1-2d91-4275-a5be-6c382b6b3a41",
   "metadata": {
    "tags": []
   },
   "outputs": [
    {
     "name": "stdout",
     "output_type": "stream",
     "text": [
      "ISANPv2(8)\n",
      "ISANPv2(64)\n",
      "ISANPv2(128)\n"
     ]
    }
   ],
   "source": [
    "torch.cuda.reset_max_memory_allocated()\n",
    "empty_cache()\n",
    "df6_isanp2=run_tests(models=models[6:9], models_names=models_names[6:9],evalbatches=evalbatches, batch_size=batch_size)\n",
    "df6_isanp2.to_csv('isanp2_6inference_results2.csv', index=False)"
   ]
  },
  {
   "cell_type": "code",
   "execution_count": 52,
   "id": "36ff806b-d9fb-4f37-bf31-41ce0ed85e2b",
   "metadata": {
    "tags": []
   },
   "outputs": [],
   "source": []
  },
  {
   "cell_type": "markdown",
   "id": "0ccb54c9-6375-450b-9f61-26a51250f83b",
   "metadata": {},
   "source": [
    "## INFERENCE RUNS WITH DIFFERENT EVALUATION SEEDS"
   ]
  },
  {
   "cell_type": "code",
   "execution_count": 22,
   "id": "ecece5f6-ace5-4537-84d3-903900ae18b0",
   "metadata": {
    "tags": []
   },
   "outputs": [
    {
     "name": "stdout",
     "output_type": "stream",
     "text": [
      "isanp-num_latents-128_matern\n",
      "isanp-num_latents-128_rbf_0\n",
      "isanp-num_latents-16_rbf_0\n",
      "isanp-num_latents-16_rbf_100\n",
      "isanp-num_latents-256_rbf_0\n",
      "isanp-num_latents-256_rbf_100\n",
      "isanp-num_latents-32_rbf_0\n",
      "isanp-num_latents-32_rbf_100\n",
      "isanp-num_latents-64_rbf_0\n",
      "isanp-num_latents-64_rbf_100\n",
      "isanp-num_latents-8_matern\n",
      "isanp-num_latents-8_periodic\n",
      "isanp-num_latents-8_rbf\n",
      "lbanp-num_latents-128_matern\n",
      "lbanp-num_latents-128_periodic\n",
      "lbanp-num_latents-8_matern\n"
     ]
    }
   ],
   "source": [
    "import os\n",
    "directory = \"/rds/user/fz287/hpc-work/MLMI4/results/gp/isanp\"\n",
    "# List files in the directory\n",
    "files = os.listdir(directory)\n",
    "# Print the list of files\n",
    "for file in files:\n",
    "    print(file)"
   ]
  },
  {
   "cell_type": "markdown",
   "id": "88e85013-45e0-42a6-9ef5-41eabbf60cba",
   "metadata": {},
   "source": [
    "### RBF"
   ]
  },
  {
   "cell_type": "code",
   "execution_count": 20,
   "id": "a95f3908-a792-46d6-b98d-8562fc5b6bd9",
   "metadata": {
    "collapsed": true,
    "jupyter": {
     "outputs_hidden": true
    },
    "tags": []
   },
   "outputs": [
    {
     "name": "stdout",
     "output_type": "stream",
     "text": [
      "###############MODEL:  cnp\n",
      "###############SEED:  0\n",
      "True\n",
      "generating evaluation sets...\n",
      "Generating Evaluation Sets with rbf kernel\n",
      "Generating Evaluation sets with context and target points:   None None\n"
     ]
    },
    {
     "name": "stderr",
     "output_type": "stream",
     "text": [
      "100%|##########| 3000/3000 [00:12<00:00, 236.38it/s]\n"
     ]
    },
    {
     "name": "stdout",
     "output_type": "stream",
     "text": [
      "Starting evaluation\n",
      "ROOT:  /rds/user/fz287/hpc-work/MLMI4/results\\gp\\cnp\\cnp\n"
     ]
    },
    {
     "name": "stderr",
     "output_type": "stream",
     "text": [
      "100%|##########| 3000/3000 [00:14<00:00, 201.73it/s]\n",
      "cnp:cnp rbf ctx_ll 0.5416 tar_ll 0.1377 (14.874 secs)\n"
     ]
    },
    {
     "name": "stdout",
     "output_type": "stream",
     "text": [
      "Eval has finished\n",
      "###############SEED:  58\n",
      "True\n",
      "generating evaluation sets...\n",
      "Generating Evaluation Sets with rbf kernel\n",
      "Generating Evaluation sets with context and target points:   None None\n"
     ]
    },
    {
     "name": "stderr",
     "output_type": "stream",
     "text": [
      "100%|##########| 3000/3000 [00:13<00:00, 223.89it/s]\n"
     ]
    },
    {
     "name": "stdout",
     "output_type": "stream",
     "text": [
      "Starting evaluation\n",
      "ROOT:  /rds/user/fz287/hpc-work/MLMI4/results\\gp\\cnp\\cnp\n"
     ]
    },
    {
     "name": "stderr",
     "output_type": "stream",
     "text": [
      "100%|##########| 3000/3000 [00:10<00:00, 284.40it/s]\n",
      "cnp:cnp rbf ctx_ll 0.5283 tar_ll 0.1198 (10.551 secs)\n"
     ]
    },
    {
     "name": "stdout",
     "output_type": "stream",
     "text": [
      "Eval has finished\n",
      "###############SEED:  100\n",
      "True\n",
      "generating evaluation sets...\n",
      "Generating Evaluation Sets with rbf kernel\n",
      "Generating Evaluation sets with context and target points:   None None\n"
     ]
    },
    {
     "name": "stderr",
     "output_type": "stream",
     "text": [
      "100%|##########| 3000/3000 [00:08<00:00, 336.78it/s]\n"
     ]
    },
    {
     "name": "stdout",
     "output_type": "stream",
     "text": [
      "Starting evaluation\n",
      "ROOT:  /rds/user/fz287/hpc-work/MLMI4/results\\gp\\cnp\\cnp\n"
     ]
    },
    {
     "name": "stderr",
     "output_type": "stream",
     "text": [
      "100%|##########| 3000/3000 [00:10<00:00, 296.74it/s]\n",
      "cnp:cnp rbf ctx_ll 0.5371 tar_ll 0.1390 (10.114 secs)\n"
     ]
    },
    {
     "name": "stdout",
     "output_type": "stream",
     "text": [
      "Eval has finished\n",
      "###############SEED:  250\n",
      "True\n",
      "generating evaluation sets...\n",
      "Generating Evaluation Sets with rbf kernel\n",
      "Generating Evaluation sets with context and target points:   None None\n"
     ]
    },
    {
     "name": "stderr",
     "output_type": "stream",
     "text": [
      "100%|##########| 3000/3000 [00:09<00:00, 327.47it/s]\n"
     ]
    },
    {
     "name": "stdout",
     "output_type": "stream",
     "text": [
      "Starting evaluation\n",
      "ROOT:  /rds/user/fz287/hpc-work/MLMI4/results\\gp\\cnp\\cnp\n"
     ]
    },
    {
     "name": "stderr",
     "output_type": "stream",
     "text": [
      "100%|##########| 3000/3000 [00:10<00:00, 286.79it/s]\n",
      "cnp:cnp rbf ctx_ll 0.5266 tar_ll 0.1128 (10.465 secs)\n"
     ]
    },
    {
     "name": "stdout",
     "output_type": "stream",
     "text": [
      "Eval has finished\n",
      "###############SEED:  550\n",
      "True\n",
      "generating evaluation sets...\n",
      "Generating Evaluation Sets with rbf kernel\n",
      "Generating Evaluation sets with context and target points:   None None\n"
     ]
    },
    {
     "name": "stderr",
     "output_type": "stream",
     "text": [
      "100%|##########| 3000/3000 [00:09<00:00, 317.26it/s]\n"
     ]
    },
    {
     "name": "stdout",
     "output_type": "stream",
     "text": [
      "Starting evaluation\n",
      "ROOT:  /rds/user/fz287/hpc-work/MLMI4/results\\gp\\cnp\\cnp\n"
     ]
    },
    {
     "name": "stderr",
     "output_type": "stream",
     "text": [
      "100%|##########| 3000/3000 [00:10<00:00, 285.84it/s]\n",
      "cnp:cnp rbf ctx_ll 0.5239 tar_ll 0.1159 (10.499 secs)\n"
     ]
    },
    {
     "name": "stdout",
     "output_type": "stream",
     "text": [
      "Eval has finished\n",
      "###############SEED:  1200\n",
      "True\n",
      "generating evaluation sets...\n",
      "Generating Evaluation Sets with rbf kernel\n",
      "Generating Evaluation sets with context and target points:   None None\n"
     ]
    },
    {
     "name": "stderr",
     "output_type": "stream",
     "text": [
      "100%|##########| 3000/3000 [00:09<00:00, 318.49it/s]\n"
     ]
    },
    {
     "name": "stdout",
     "output_type": "stream",
     "text": [
      "Starting evaluation\n",
      "ROOT:  /rds/user/fz287/hpc-work/MLMI4/results\\gp\\cnp\\cnp\n"
     ]
    },
    {
     "name": "stderr",
     "output_type": "stream",
     "text": [
      "100%|##########| 3000/3000 [00:11<00:00, 271.38it/s]\n",
      "cnp:cnp rbf ctx_ll 0.5345 tar_ll 0.1306 (11.057 secs)\n"
     ]
    },
    {
     "name": "stdout",
     "output_type": "stream",
     "text": [
      "Eval has finished\n",
      "###############MODEL:  canp\n",
      "###############SEED:  0\n",
      "True\n",
      "generating evaluation sets...\n",
      "Generating Evaluation Sets with rbf kernel\n",
      "Generating Evaluation sets with context and target points:   None None\n"
     ]
    },
    {
     "name": "stderr",
     "output_type": "stream",
     "text": [
      "100%|##########| 3000/3000 [00:09<00:00, 322.69it/s]\n"
     ]
    },
    {
     "name": "stdout",
     "output_type": "stream",
     "text": [
      "Starting evaluation\n",
      "ROOT:  /rds/user/fz287/hpc-work/MLMI4/results\\gp\\canp\\canp\n"
     ]
    },
    {
     "name": "stderr",
     "output_type": "stream",
     "text": [
      "100%|##########| 3000/3000 [00:21<00:00, 141.07it/s]\n",
      "canp:canp rbf ctx_ll 1.3380 tar_ll 0.6786 (21.271 secs)\n"
     ]
    },
    {
     "name": "stdout",
     "output_type": "stream",
     "text": [
      "Eval has finished\n",
      "###############SEED:  58\n",
      "True\n",
      "generating evaluation sets...\n",
      "Generating Evaluation Sets with rbf kernel\n",
      "Generating Evaluation sets with context and target points:   None None\n"
     ]
    },
    {
     "name": "stderr",
     "output_type": "stream",
     "text": [
      "100%|##########| 3000/3000 [00:10<00:00, 288.27it/s]\n"
     ]
    },
    {
     "name": "stdout",
     "output_type": "stream",
     "text": [
      "Starting evaluation\n",
      "ROOT:  /rds/user/fz287/hpc-work/MLMI4/results\\gp\\canp\\canp\n"
     ]
    },
    {
     "name": "stderr",
     "output_type": "stream",
     "text": [
      "100%|##########| 3000/3000 [00:22<00:00, 134.25it/s]\n",
      "canp:canp rbf ctx_ll 1.3371 tar_ll 0.6669 (22.351 secs)\n"
     ]
    },
    {
     "name": "stdout",
     "output_type": "stream",
     "text": [
      "Eval has finished\n",
      "###############SEED:  100\n",
      "True\n",
      "generating evaluation sets...\n",
      "Generating Evaluation Sets with rbf kernel\n",
      "Generating Evaluation sets with context and target points:   None None\n"
     ]
    },
    {
     "name": "stderr",
     "output_type": "stream",
     "text": [
      "100%|##########| 3000/3000 [00:09<00:00, 319.40it/s]\n"
     ]
    },
    {
     "name": "stdout",
     "output_type": "stream",
     "text": [
      "Starting evaluation\n",
      "ROOT:  /rds/user/fz287/hpc-work/MLMI4/results\\gp\\canp\\canp\n"
     ]
    },
    {
     "name": "stderr",
     "output_type": "stream",
     "text": [
      "100%|##########| 3000/3000 [00:21<00:00, 139.40it/s]\n",
      "canp:canp rbf ctx_ll 1.3377 tar_ll 0.6822 (21.525 secs)\n"
     ]
    },
    {
     "name": "stdout",
     "output_type": "stream",
     "text": [
      "Eval has finished\n",
      "###############SEED:  250\n",
      "True\n",
      "generating evaluation sets...\n",
      "Generating Evaluation Sets with rbf kernel\n",
      "Generating Evaluation sets with context and target points:   None None\n"
     ]
    },
    {
     "name": "stderr",
     "output_type": "stream",
     "text": [
      "100%|##########| 3000/3000 [00:10<00:00, 291.88it/s]\n"
     ]
    },
    {
     "name": "stdout",
     "output_type": "stream",
     "text": [
      "Starting evaluation\n",
      "ROOT:  /rds/user/fz287/hpc-work/MLMI4/results\\gp\\canp\\canp\n"
     ]
    },
    {
     "name": "stderr",
     "output_type": "stream",
     "text": [
      "100%|##########| 3000/3000 [00:22<00:00, 130.73it/s]\n",
      "canp:canp rbf ctx_ll 1.3362 tar_ll 0.6506 (22.951 secs)\n"
     ]
    },
    {
     "name": "stdout",
     "output_type": "stream",
     "text": [
      "Eval has finished\n",
      "###############SEED:  550\n",
      "True\n",
      "generating evaluation sets...\n",
      "Generating Evaluation Sets with rbf kernel\n",
      "Generating Evaluation sets with context and target points:   None None\n"
     ]
    },
    {
     "name": "stderr",
     "output_type": "stream",
     "text": [
      "100%|##########| 3000/3000 [00:12<00:00, 248.85it/s]\n"
     ]
    },
    {
     "name": "stdout",
     "output_type": "stream",
     "text": [
      "Starting evaluation\n",
      "ROOT:  /rds/user/fz287/hpc-work/MLMI4/results\\gp\\canp\\canp\n"
     ]
    },
    {
     "name": "stderr",
     "output_type": "stream",
     "text": [
      "100%|##########| 3000/3000 [00:24<00:00, 121.86it/s]\n",
      "canp:canp rbf ctx_ll 1.3366 tar_ll 0.6595 (24.622 secs)\n"
     ]
    },
    {
     "name": "stdout",
     "output_type": "stream",
     "text": [
      "Eval has finished\n",
      "###############SEED:  1200\n",
      "True\n",
      "generating evaluation sets...\n",
      "Generating Evaluation Sets with rbf kernel\n",
      "Generating Evaluation sets with context and target points:   None None\n"
     ]
    },
    {
     "name": "stderr",
     "output_type": "stream",
     "text": [
      "100%|##########| 3000/3000 [00:11<00:00, 258.76it/s]\n"
     ]
    },
    {
     "name": "stdout",
     "output_type": "stream",
     "text": [
      "Starting evaluation\n",
      "ROOT:  /rds/user/fz287/hpc-work/MLMI4/results\\gp\\canp\\canp\n"
     ]
    },
    {
     "name": "stderr",
     "output_type": "stream",
     "text": [
      "100%|##########| 3000/3000 [00:23<00:00, 125.39it/s]\n",
      "canp:canp rbf ctx_ll 1.3371 tar_ll 0.6680 (23.929 secs)\n"
     ]
    },
    {
     "name": "stdout",
     "output_type": "stream",
     "text": [
      "Eval has finished\n",
      "###############MODEL:  np\n",
      "###############SEED:  0\n",
      "True\n",
      "generating evaluation sets...\n",
      "Generating Evaluation Sets with rbf kernel\n",
      "Generating Evaluation sets with context and target points:   None None\n"
     ]
    },
    {
     "name": "stderr",
     "output_type": "stream",
     "text": [
      "100%|##########| 3000/3000 [00:11<00:00, 268.74it/s]\n"
     ]
    },
    {
     "name": "stdout",
     "output_type": "stream",
     "text": [
      "Starting evaluation\n",
      "ROOT:  /rds/user/fz287/hpc-work/MLMI4/results\\gp\\np\\np\n"
     ]
    },
    {
     "name": "stderr",
     "output_type": "stream",
     "text": [
      "100%|##########| 3000/3000 [00:19<00:00, 156.82it/s]\n",
      "np:np rbf ctx_ll 0.5942 tar_ll -0.0852 (19.133 secs)\n"
     ]
    },
    {
     "name": "stdout",
     "output_type": "stream",
     "text": [
      "Eval has finished\n",
      "###############SEED:  58\n",
      "True\n",
      "generating evaluation sets...\n",
      "Generating Evaluation Sets with rbf kernel\n",
      "Generating Evaluation sets with context and target points:   None None\n"
     ]
    },
    {
     "name": "stderr",
     "output_type": "stream",
     "text": [
      "100%|##########| 3000/3000 [00:13<00:00, 228.86it/s]\n"
     ]
    },
    {
     "name": "stdout",
     "output_type": "stream",
     "text": [
      "Starting evaluation\n",
      "ROOT:  /rds/user/fz287/hpc-work/MLMI4/results\\gp\\np\\np\n"
     ]
    },
    {
     "name": "stderr",
     "output_type": "stream",
     "text": [
      "100%|##########| 3000/3000 [00:25<00:00, 116.53it/s]\n",
      "np:np rbf ctx_ll 0.5851 tar_ll -0.1087 (25.748 secs)\n"
     ]
    },
    {
     "name": "stdout",
     "output_type": "stream",
     "text": [
      "Eval has finished\n",
      "###############SEED:  100\n",
      "True\n",
      "generating evaluation sets...\n",
      "Generating Evaluation Sets with rbf kernel\n",
      "Generating Evaluation sets with context and target points:   None None\n"
     ]
    },
    {
     "name": "stderr",
     "output_type": "stream",
     "text": [
      "100%|##########| 3000/3000 [00:12<00:00, 244.12it/s]\n"
     ]
    },
    {
     "name": "stdout",
     "output_type": "stream",
     "text": [
      "Starting evaluation\n",
      "ROOT:  /rds/user/fz287/hpc-work/MLMI4/results\\gp\\np\\np\n"
     ]
    },
    {
     "name": "stderr",
     "output_type": "stream",
     "text": [
      "100%|##########| 3000/3000 [00:24<00:00, 122.30it/s]\n",
      "np:np rbf ctx_ll 0.5890 tar_ll -0.0738 (24.532 secs)\n"
     ]
    },
    {
     "name": "stdout",
     "output_type": "stream",
     "text": [
      "Eval has finished\n",
      "###############SEED:  250\n",
      "True\n",
      "generating evaluation sets...\n",
      "Generating Evaluation Sets with rbf kernel\n",
      "Generating Evaluation sets with context and target points:   None None\n"
     ]
    },
    {
     "name": "stderr",
     "output_type": "stream",
     "text": [
      "100%|##########| 3000/3000 [00:12<00:00, 246.81it/s]\n"
     ]
    },
    {
     "name": "stdout",
     "output_type": "stream",
     "text": [
      "Starting evaluation\n",
      "ROOT:  /rds/user/fz287/hpc-work/MLMI4/results\\gp\\np\\np\n"
     ]
    },
    {
     "name": "stderr",
     "output_type": "stream",
     "text": [
      "100%|##########| 3000/3000 [00:21<00:00, 139.59it/s]\n",
      "np:np rbf ctx_ll 0.5831 tar_ll -0.1164 (21.496 secs)\n"
     ]
    },
    {
     "name": "stdout",
     "output_type": "stream",
     "text": [
      "Eval has finished\n",
      "###############SEED:  550\n",
      "True\n",
      "generating evaluation sets...\n",
      "Generating Evaluation Sets with rbf kernel\n",
      "Generating Evaluation sets with context and target points:   None None\n"
     ]
    },
    {
     "name": "stderr",
     "output_type": "stream",
     "text": [
      "100%|##########| 3000/3000 [00:08<00:00, 374.07it/s]\n"
     ]
    },
    {
     "name": "stdout",
     "output_type": "stream",
     "text": [
      "Starting evaluation\n",
      "ROOT:  /rds/user/fz287/hpc-work/MLMI4/results\\gp\\np\\np\n"
     ]
    },
    {
     "name": "stderr",
     "output_type": "stream",
     "text": [
      "100%|##########| 3000/3000 [00:15<00:00, 192.07it/s]\n",
      "np:np rbf ctx_ll 0.5778 tar_ll -0.1227 (15.624 secs)\n"
     ]
    },
    {
     "name": "stdout",
     "output_type": "stream",
     "text": [
      "Eval has finished\n",
      "###############SEED:  1200\n",
      "True\n",
      "generating evaluation sets...\n",
      "Generating Evaluation Sets with rbf kernel\n",
      "Generating Evaluation sets with context and target points:   None None\n"
     ]
    },
    {
     "name": "stderr",
     "output_type": "stream",
     "text": [
      "100%|##########| 3000/3000 [00:08<00:00, 344.55it/s]\n"
     ]
    },
    {
     "name": "stdout",
     "output_type": "stream",
     "text": [
      "Starting evaluation\n",
      "ROOT:  /rds/user/fz287/hpc-work/MLMI4/results\\gp\\np\\np\n"
     ]
    },
    {
     "name": "stderr",
     "output_type": "stream",
     "text": [
      "100%|##########| 3000/3000 [00:16<00:00, 184.67it/s]\n",
      "np:np rbf ctx_ll 0.5866 tar_ll -0.0921 (16.248 secs)\n"
     ]
    },
    {
     "name": "stdout",
     "output_type": "stream",
     "text": [
      "Eval has finished\n",
      "###############MODEL:  anp\n",
      "###############SEED:  0\n",
      "True\n",
      "generating evaluation sets...\n",
      "Generating Evaluation Sets with rbf kernel\n",
      "Generating Evaluation sets with context and target points:   None None\n"
     ]
    },
    {
     "name": "stderr",
     "output_type": "stream",
     "text": [
      "100%|##########| 3000/3000 [00:07<00:00, 375.59it/s]\n"
     ]
    },
    {
     "name": "stdout",
     "output_type": "stream",
     "text": [
      "Starting evaluation\n",
      "ROOT:  /rds/user/fz287/hpc-work/MLMI4/results\\gp\\anp\\anp\n"
     ]
    },
    {
     "name": "stderr",
     "output_type": "stream",
     "text": [
      "100%|##########| 3000/3000 [00:27<00:00, 107.22it/s]\n",
      "anp:anp rbf ctx_ll 1.3707 tar_ll 0.7193 (27.984 secs)\n"
     ]
    },
    {
     "name": "stdout",
     "output_type": "stream",
     "text": [
      "Eval has finished\n",
      "###############SEED:  58\n",
      "True\n",
      "generating evaluation sets...\n",
      "Generating Evaluation Sets with rbf kernel\n",
      "Generating Evaluation sets with context and target points:   None None\n"
     ]
    },
    {
     "name": "stderr",
     "output_type": "stream",
     "text": [
      "100%|##########| 3000/3000 [00:08<00:00, 336.43it/s]\n"
     ]
    },
    {
     "name": "stdout",
     "output_type": "stream",
     "text": [
      "Starting evaluation\n",
      "ROOT:  /rds/user/fz287/hpc-work/MLMI4/results\\gp\\anp\\anp\n"
     ]
    },
    {
     "name": "stderr",
     "output_type": "stream",
     "text": [
      "100%|##########| 3000/3000 [00:30<00:00, 99.08it/s] \n",
      "anp:anp rbf ctx_ll 1.3707 tar_ll 0.7027 (30.283 secs)\n"
     ]
    },
    {
     "name": "stdout",
     "output_type": "stream",
     "text": [
      "Eval has finished\n",
      "###############SEED:  100\n",
      "True\n",
      "generating evaluation sets...\n",
      "Generating Evaluation Sets with rbf kernel\n",
      "Generating Evaluation sets with context and target points:   None None\n"
     ]
    },
    {
     "name": "stderr",
     "output_type": "stream",
     "text": [
      "100%|##########| 3000/3000 [00:10<00:00, 279.40it/s]\n"
     ]
    },
    {
     "name": "stdout",
     "output_type": "stream",
     "text": [
      "Starting evaluation\n",
      "ROOT:  /rds/user/fz287/hpc-work/MLMI4/results\\gp\\anp\\anp\n"
     ]
    },
    {
     "name": "stderr",
     "output_type": "stream",
     "text": [
      "100%|##########| 3000/3000 [00:30<00:00, 97.64it/s] \n",
      "anp:anp rbf ctx_ll 1.3707 tar_ll 0.7265 (30.727 secs)\n"
     ]
    },
    {
     "name": "stdout",
     "output_type": "stream",
     "text": [
      "Eval has finished\n",
      "###############SEED:  250\n",
      "True\n",
      "generating evaluation sets...\n",
      "Generating Evaluation Sets with rbf kernel\n",
      "Generating Evaluation sets with context and target points:   None None\n"
     ]
    },
    {
     "name": "stderr",
     "output_type": "stream",
     "text": [
      "100%|##########| 3000/3000 [00:09<00:00, 301.78it/s]\n"
     ]
    },
    {
     "name": "stdout",
     "output_type": "stream",
     "text": [
      "Starting evaluation\n",
      "ROOT:  /rds/user/fz287/hpc-work/MLMI4/results\\gp\\anp\\anp\n"
     ]
    },
    {
     "name": "stderr",
     "output_type": "stream",
     "text": [
      "100%|##########| 3000/3000 [00:30<00:00, 98.00it/s] \n",
      "anp:anp rbf ctx_ll 1.3706 tar_ll 0.6902 (30.616 secs)\n"
     ]
    },
    {
     "name": "stdout",
     "output_type": "stream",
     "text": [
      "Eval has finished\n",
      "###############SEED:  550\n",
      "True\n",
      "generating evaluation sets...\n",
      "Generating Evaluation Sets with rbf kernel\n",
      "Generating Evaluation sets with context and target points:   None None\n"
     ]
    },
    {
     "name": "stderr",
     "output_type": "stream",
     "text": [
      "100%|##########| 3000/3000 [00:10<00:00, 293.80it/s]\n"
     ]
    },
    {
     "name": "stdout",
     "output_type": "stream",
     "text": [
      "Starting evaluation\n",
      "ROOT:  /rds/user/fz287/hpc-work/MLMI4/results\\gp\\anp\\anp\n"
     ]
    },
    {
     "name": "stderr",
     "output_type": "stream",
     "text": [
      "100%|##########| 3000/3000 [00:37<00:00, 80.26it/s] \n",
      "anp:anp rbf ctx_ll 1.3706 tar_ll 0.7014 (37.381 secs)\n"
     ]
    },
    {
     "name": "stdout",
     "output_type": "stream",
     "text": [
      "Eval has finished\n",
      "###############SEED:  1200\n",
      "True\n",
      "generating evaluation sets...\n",
      "Generating Evaluation Sets with rbf kernel\n",
      "Generating Evaluation sets with context and target points:   None None\n"
     ]
    },
    {
     "name": "stderr",
     "output_type": "stream",
     "text": [
      "100%|##########| 3000/3000 [00:11<00:00, 251.43it/s]\n"
     ]
    },
    {
     "name": "stdout",
     "output_type": "stream",
     "text": [
      "Starting evaluation\n",
      "ROOT:  /rds/user/fz287/hpc-work/MLMI4/results\\gp\\anp\\anp\n"
     ]
    },
    {
     "name": "stderr",
     "output_type": "stream",
     "text": [
      "100%|##########| 3000/3000 [00:35<00:00, 84.12it/s] \n",
      "anp:anp rbf ctx_ll 1.3706 tar_ll 0.7137 (35.667 secs)\n"
     ]
    },
    {
     "name": "stdout",
     "output_type": "stream",
     "text": [
      "Eval has finished\n",
      "###############MODEL:  bnp\n",
      "###############SEED:  0\n",
      "True\n",
      "generating evaluation sets...\n",
      "Generating Evaluation Sets with rbf kernel\n",
      "Generating Evaluation sets with context and target points:   None None\n"
     ]
    },
    {
     "name": "stderr",
     "output_type": "stream",
     "text": [
      "100%|##########| 3000/3000 [00:09<00:00, 304.43it/s]\n"
     ]
    },
    {
     "name": "stdout",
     "output_type": "stream",
     "text": [
      "Starting evaluation\n",
      "ROOT:  /rds/user/fz287/hpc-work/MLMI4/results\\gp\\bnp\\bnp\n"
     ]
    },
    {
     "name": "stderr",
     "output_type": "stream",
     "text": [
      "100%|##########| 3000/3000 [00:39<00:00, 75.18it/s]\n",
      "bnp:bnp rbf ctx_ll 0.6223 tar_ll 0.2815 (39.911 secs)\n"
     ]
    },
    {
     "name": "stdout",
     "output_type": "stream",
     "text": [
      "Eval has finished\n",
      "###############SEED:  58\n",
      "True\n",
      "generating evaluation sets...\n",
      "Generating Evaluation Sets with rbf kernel\n",
      "Generating Evaluation sets with context and target points:   None None\n"
     ]
    },
    {
     "name": "stderr",
     "output_type": "stream",
     "text": [
      "100%|##########| 3000/3000 [00:11<00:00, 251.63it/s]\n"
     ]
    },
    {
     "name": "stdout",
     "output_type": "stream",
     "text": [
      "Starting evaluation\n",
      "ROOT:  /rds/user/fz287/hpc-work/MLMI4/results\\gp\\bnp\\bnp\n"
     ]
    },
    {
     "name": "stderr",
     "output_type": "stream",
     "text": [
      "100%|##########| 3000/3000 [00:47<00:00, 62.99it/s]\n",
      "bnp:bnp rbf ctx_ll 0.6096 tar_ll 0.2692 (47.632 secs)\n"
     ]
    },
    {
     "name": "stdout",
     "output_type": "stream",
     "text": [
      "Eval has finished\n",
      "###############SEED:  100\n",
      "True\n",
      "generating evaluation sets...\n",
      "Generating Evaluation Sets with rbf kernel\n",
      "Generating Evaluation sets with context and target points:   None None\n"
     ]
    },
    {
     "name": "stderr",
     "output_type": "stream",
     "text": [
      "100%|##########| 3000/3000 [00:12<00:00, 244.13it/s]\n"
     ]
    },
    {
     "name": "stdout",
     "output_type": "stream",
     "text": [
      "Starting evaluation\n",
      "ROOT:  /rds/user/fz287/hpc-work/MLMI4/results\\gp\\bnp\\bnp\n"
     ]
    },
    {
     "name": "stderr",
     "output_type": "stream",
     "text": [
      "100%|##########| 3000/3000 [00:38<00:00, 78.22it/s]\n",
      "bnp:bnp rbf ctx_ll 0.6189 tar_ll 0.2841 (38.358 secs)\n"
     ]
    },
    {
     "name": "stdout",
     "output_type": "stream",
     "text": [
      "Eval has finished\n",
      "###############SEED:  250\n",
      "True\n",
      "generating evaluation sets...\n",
      "Generating Evaluation Sets with rbf kernel\n",
      "Generating Evaluation sets with context and target points:   None None\n"
     ]
    },
    {
     "name": "stderr",
     "output_type": "stream",
     "text": [
      "100%|##########| 3000/3000 [00:08<00:00, 336.46it/s]\n"
     ]
    },
    {
     "name": "stdout",
     "output_type": "stream",
     "text": [
      "Starting evaluation\n",
      "ROOT:  /rds/user/fz287/hpc-work/MLMI4/results\\gp\\bnp\\bnp\n"
     ]
    },
    {
     "name": "stderr",
     "output_type": "stream",
     "text": [
      "100%|##########| 3000/3000 [00:36<00:00, 82.55it/s] \n",
      "bnp:bnp rbf ctx_ll 0.6041 tar_ll 0.2592 (36.345 secs)\n"
     ]
    },
    {
     "name": "stdout",
     "output_type": "stream",
     "text": [
      "Eval has finished\n",
      "###############SEED:  550\n",
      "True\n",
      "generating evaluation sets...\n",
      "Generating Evaluation Sets with rbf kernel\n",
      "Generating Evaluation sets with context and target points:   None None\n"
     ]
    },
    {
     "name": "stderr",
     "output_type": "stream",
     "text": [
      "100%|##########| 3000/3000 [00:08<00:00, 346.17it/s]\n"
     ]
    },
    {
     "name": "stdout",
     "output_type": "stream",
     "text": [
      "Starting evaluation\n",
      "ROOT:  /rds/user/fz287/hpc-work/MLMI4/results\\gp\\bnp\\bnp\n"
     ]
    },
    {
     "name": "stderr",
     "output_type": "stream",
     "text": [
      "100%|##########| 3000/3000 [00:34<00:00, 86.93it/s] \n",
      "bnp:bnp rbf ctx_ll 0.6055 tar_ll 0.2630 (34.515 secs)\n"
     ]
    },
    {
     "name": "stdout",
     "output_type": "stream",
     "text": [
      "Eval has finished\n",
      "###############SEED:  1200\n",
      "True\n",
      "generating evaluation sets...\n",
      "Generating Evaluation Sets with rbf kernel\n",
      "Generating Evaluation sets with context and target points:   None None\n"
     ]
    },
    {
     "name": "stderr",
     "output_type": "stream",
     "text": [
      "100%|##########| 3000/3000 [00:09<00:00, 315.99it/s]\n"
     ]
    },
    {
     "name": "stdout",
     "output_type": "stream",
     "text": [
      "Starting evaluation\n",
      "ROOT:  /rds/user/fz287/hpc-work/MLMI4/results\\gp\\bnp\\bnp\n"
     ]
    },
    {
     "name": "stderr",
     "output_type": "stream",
     "text": [
      "100%|##########| 3000/3000 [00:37<00:00, 79.33it/s] \n",
      "bnp:bnp rbf ctx_ll 0.6143 tar_ll 0.2762 (37.821 secs)\n"
     ]
    },
    {
     "name": "stdout",
     "output_type": "stream",
     "text": [
      "Eval has finished\n",
      "###############MODEL:  tnpd\n",
      "###############SEED:  0\n",
      "Overriding argument d_model: 64\n",
      "Overriding argument emb_depth: 4\n",
      "Overriding argument dim_feedforward: 128\n",
      "Overriding argument nhead: 4\n",
      "Overriding argument dropout: 0.0\n",
      "Overriding argument num_layers: 6\n",
      "True\n",
      "generating evaluation sets...\n",
      "Generating Evaluation Sets with rbf kernel\n",
      "Generating Evaluation sets with context and target points:   None None\n"
     ]
    },
    {
     "name": "stderr",
     "output_type": "stream",
     "text": [
      "100%|##########| 3000/3000 [00:10<00:00, 297.69it/s]\n"
     ]
    },
    {
     "name": "stdout",
     "output_type": "stream",
     "text": [
      "Starting evaluation\n",
      "ROOT:  /rds/user/fz287/hpc-work/MLMI4/results\\gp\\tnpd\\tnpd\n"
     ]
    },
    {
     "name": "stderr",
     "output_type": "stream",
     "text": [
      "  0%|          | 0/3000 [00:00<?, ?it/s]C:\\Users\\jmlr9\\AppData\\Roaming\\Python\\Python311\\site-packages\\torch\\nn\\modules\\transformer.py:562: UserWarning: Converting mask without torch.bool dtype to bool; this will negatively affect performance. Prefer to use a boolean mask directly. (Triggered internally at ..\\aten\\src\\ATen\\native\\transformers\\attention.cpp:152.)\n",
      "  return torch._transformer_encoder_layer_fwd(\n",
      "100%|##########| 3000/3000 [00:23<00:00, 125.31it/s]\n",
      "tnpd:tnpd rbf tar_ll 1.0365 loss -1.0365 (23.944 secs)\n"
     ]
    },
    {
     "name": "stdout",
     "output_type": "stream",
     "text": [
      "Eval has finished\n",
      "###############SEED:  58\n",
      "Overriding argument d_model: 64\n",
      "Overriding argument emb_depth: 4\n",
      "Overriding argument dim_feedforward: 128\n",
      "Overriding argument nhead: 4\n",
      "Overriding argument dropout: 0.0\n",
      "Overriding argument num_layers: 6\n",
      "True\n",
      "generating evaluation sets...\n",
      "Generating Evaluation Sets with rbf kernel\n",
      "Generating Evaluation sets with context and target points:   None None\n"
     ]
    },
    {
     "name": "stderr",
     "output_type": "stream",
     "text": [
      "100%|##########| 3000/3000 [00:09<00:00, 301.51it/s]\n"
     ]
    },
    {
     "name": "stdout",
     "output_type": "stream",
     "text": [
      "Starting evaluation\n",
      "ROOT:  /rds/user/fz287/hpc-work/MLMI4/results\\gp\\tnpd\\tnpd\n"
     ]
    },
    {
     "name": "stderr",
     "output_type": "stream",
     "text": [
      "100%|##########| 3000/3000 [00:26<00:00, 111.99it/s]\n",
      "tnpd:tnpd rbf tar_ll 1.0245 loss -1.0245 (26.792 secs)\n"
     ]
    },
    {
     "name": "stdout",
     "output_type": "stream",
     "text": [
      "Eval has finished\n",
      "###############SEED:  100\n",
      "Overriding argument d_model: 64\n",
      "Overriding argument emb_depth: 4\n",
      "Overriding argument dim_feedforward: 128\n",
      "Overriding argument nhead: 4\n",
      "Overriding argument dropout: 0.0\n",
      "Overriding argument num_layers: 6\n",
      "True\n",
      "generating evaluation sets...\n",
      "Generating Evaluation Sets with rbf kernel\n",
      "Generating Evaluation sets with context and target points:   None None\n"
     ]
    },
    {
     "name": "stderr",
     "output_type": "stream",
     "text": [
      "100%|##########| 3000/3000 [00:13<00:00, 230.25it/s]\n"
     ]
    },
    {
     "name": "stdout",
     "output_type": "stream",
     "text": [
      "Starting evaluation\n",
      "ROOT:  /rds/user/fz287/hpc-work/MLMI4/results\\gp\\tnpd\\tnpd\n"
     ]
    },
    {
     "name": "stderr",
     "output_type": "stream",
     "text": [
      "100%|##########| 3000/3000 [00:26<00:00, 111.17it/s]\n",
      "tnpd:tnpd rbf tar_ll 1.0395 loss -1.0395 (26.989 secs)\n"
     ]
    },
    {
     "name": "stdout",
     "output_type": "stream",
     "text": [
      "Eval has finished\n",
      "###############SEED:  250\n",
      "Overriding argument d_model: 64\n",
      "Overriding argument emb_depth: 4\n",
      "Overriding argument dim_feedforward: 128\n",
      "Overriding argument nhead: 4\n",
      "Overriding argument dropout: 0.0\n",
      "Overriding argument num_layers: 6\n",
      "True\n",
      "generating evaluation sets...\n",
      "Generating Evaluation Sets with rbf kernel\n",
      "Generating Evaluation sets with context and target points:   None None\n"
     ]
    },
    {
     "name": "stderr",
     "output_type": "stream",
     "text": [
      "100%|##########| 3000/3000 [00:11<00:00, 258.66it/s]\n"
     ]
    },
    {
     "name": "stdout",
     "output_type": "stream",
     "text": [
      "Starting evaluation\n",
      "ROOT:  /rds/user/fz287/hpc-work/MLMI4/results\\gp\\tnpd\\tnpd\n"
     ]
    },
    {
     "name": "stderr",
     "output_type": "stream",
     "text": [
      "100%|##########| 3000/3000 [00:25<00:00, 119.47it/s]\n",
      "tnpd:tnpd rbf tar_ll 1.0006 loss -1.0006 (25.114 secs)\n"
     ]
    },
    {
     "name": "stdout",
     "output_type": "stream",
     "text": [
      "Eval has finished\n",
      "###############SEED:  550\n",
      "Overriding argument d_model: 64\n",
      "Overriding argument emb_depth: 4\n",
      "Overriding argument dim_feedforward: 128\n",
      "Overriding argument nhead: 4\n",
      "Overriding argument dropout: 0.0\n",
      "Overriding argument num_layers: 6\n",
      "True\n",
      "generating evaluation sets...\n",
      "Generating Evaluation Sets with rbf kernel\n",
      "Generating Evaluation sets with context and target points:   None None\n"
     ]
    },
    {
     "name": "stderr",
     "output_type": "stream",
     "text": [
      "100%|##########| 3000/3000 [00:09<00:00, 305.36it/s]\n"
     ]
    },
    {
     "name": "stdout",
     "output_type": "stream",
     "text": [
      "Starting evaluation\n",
      "ROOT:  /rds/user/fz287/hpc-work/MLMI4/results\\gp\\tnpd\\tnpd\n"
     ]
    },
    {
     "name": "stderr",
     "output_type": "stream",
     "text": [
      "100%|##########| 3000/3000 [00:26<00:00, 114.93it/s]\n",
      "tnpd:tnpd rbf tar_ll 1.0087 loss -1.0087 (26.111 secs)\n"
     ]
    },
    {
     "name": "stdout",
     "output_type": "stream",
     "text": [
      "Eval has finished\n",
      "###############SEED:  1200\n",
      "Overriding argument d_model: 64\n",
      "Overriding argument emb_depth: 4\n",
      "Overriding argument dim_feedforward: 128\n",
      "Overriding argument nhead: 4\n",
      "Overriding argument dropout: 0.0\n",
      "Overriding argument num_layers: 6\n",
      "True\n",
      "generating evaluation sets...\n",
      "Generating Evaluation Sets with rbf kernel\n",
      "Generating Evaluation sets with context and target points:   None None\n"
     ]
    },
    {
     "name": "stderr",
     "output_type": "stream",
     "text": [
      "100%|##########| 3000/3000 [00:12<00:00, 247.20it/s]\n"
     ]
    },
    {
     "name": "stdout",
     "output_type": "stream",
     "text": [
      "Starting evaluation\n",
      "ROOT:  /rds/user/fz287/hpc-work/MLMI4/results\\gp\\tnpd\\tnpd\n"
     ]
    },
    {
     "name": "stderr",
     "output_type": "stream",
     "text": [
      "100%|##########| 3000/3000 [00:29<00:00, 100.31it/s]\n",
      "tnpd:tnpd rbf tar_ll 1.0264 loss -1.0264 (29.912 secs)\n"
     ]
    },
    {
     "name": "stdout",
     "output_type": "stream",
     "text": [
      "Eval has finished\n",
      "###############MODEL:  tnpa\n",
      "###############SEED:  0\n",
      "Overriding argument pretrain: False\n",
      "Overriding argument d_model: 64\n",
      "Overriding argument emb_depth: 4\n",
      "Overriding argument dim_feedforward: 128\n",
      "Overriding argument nhead: 4\n",
      "Overriding argument dropout: 0.0\n",
      "Overriding argument num_layers: 6\n",
      "True\n",
      "generating evaluation sets...\n",
      "Generating Evaluation Sets with rbf kernel\n",
      "Generating Evaluation sets with context and target points:   None None\n"
     ]
    },
    {
     "name": "stderr",
     "output_type": "stream",
     "text": [
      "100%|##########| 3000/3000 [00:13<00:00, 225.27it/s]\n"
     ]
    },
    {
     "name": "stdout",
     "output_type": "stream",
     "text": [
      "Starting evaluation\n",
      "ROOT:  /rds/user/fz287/hpc-work/MLMI4/results\\gp\\tnpa\\tnpa\n"
     ]
    },
    {
     "name": "stderr",
     "output_type": "stream",
     "text": [
      "100%|##########| 3000/3000 [00:30<00:00, 97.89it/s] \n",
      "tnpa:tnpa rbf tar_ll 1.5095 loss -1.5095 (30.652 secs)\n"
     ]
    },
    {
     "name": "stdout",
     "output_type": "stream",
     "text": [
      "Eval has finished\n",
      "###############SEED:  58\n",
      "Overriding argument pretrain: False\n",
      "Overriding argument d_model: 64\n",
      "Overriding argument emb_depth: 4\n",
      "Overriding argument dim_feedforward: 128\n",
      "Overriding argument nhead: 4\n",
      "Overriding argument dropout: 0.0\n",
      "Overriding argument num_layers: 6\n",
      "True\n",
      "generating evaluation sets...\n",
      "Generating Evaluation Sets with rbf kernel\n",
      "Generating Evaluation sets with context and target points:   None None\n"
     ]
    },
    {
     "name": "stderr",
     "output_type": "stream",
     "text": [
      "100%|##########| 3000/3000 [00:12<00:00, 246.99it/s]\n"
     ]
    },
    {
     "name": "stdout",
     "output_type": "stream",
     "text": [
      "Starting evaluation\n",
      "ROOT:  /rds/user/fz287/hpc-work/MLMI4/results\\gp\\tnpa\\tnpa\n"
     ]
    },
    {
     "name": "stderr",
     "output_type": "stream",
     "text": [
      "100%|##########| 3000/3000 [00:20<00:00, 143.68it/s]\n",
      "tnpa:tnpa rbf tar_ll 1.5021 loss -1.5021 (20.884 secs)\n"
     ]
    },
    {
     "name": "stdout",
     "output_type": "stream",
     "text": [
      "Eval has finished\n",
      "###############SEED:  100\n",
      "Overriding argument pretrain: False\n",
      "Overriding argument d_model: 64\n",
      "Overriding argument emb_depth: 4\n",
      "Overriding argument dim_feedforward: 128\n",
      "Overriding argument nhead: 4\n",
      "Overriding argument dropout: 0.0\n",
      "Overriding argument num_layers: 6\n",
      "True\n",
      "generating evaluation sets...\n",
      "Generating Evaluation Sets with rbf kernel\n",
      "Generating Evaluation sets with context and target points:   None None\n"
     ]
    },
    {
     "name": "stderr",
     "output_type": "stream",
     "text": [
      "100%|##########| 3000/3000 [00:08<00:00, 371.01it/s]\n"
     ]
    },
    {
     "name": "stdout",
     "output_type": "stream",
     "text": [
      "Starting evaluation\n",
      "ROOT:  /rds/user/fz287/hpc-work/MLMI4/results\\gp\\tnpa\\tnpa\n"
     ]
    },
    {
     "name": "stderr",
     "output_type": "stream",
     "text": [
      "100%|##########| 3000/3000 [00:21<00:00, 140.63it/s]\n",
      "tnpa:tnpa rbf tar_ll 1.5108 loss -1.5108 (21.336 secs)\n"
     ]
    },
    {
     "name": "stdout",
     "output_type": "stream",
     "text": [
      "Eval has finished\n",
      "###############SEED:  250\n",
      "Overriding argument pretrain: False\n",
      "Overriding argument d_model: 64\n",
      "Overriding argument emb_depth: 4\n",
      "Overriding argument dim_feedforward: 128\n",
      "Overriding argument nhead: 4\n",
      "Overriding argument dropout: 0.0\n",
      "Overriding argument num_layers: 6\n",
      "True\n",
      "generating evaluation sets...\n",
      "Generating Evaluation Sets with rbf kernel\n",
      "Generating Evaluation sets with context and target points:   None None\n"
     ]
    },
    {
     "name": "stderr",
     "output_type": "stream",
     "text": [
      "100%|##########| 3000/3000 [00:09<00:00, 319.43it/s]\n"
     ]
    },
    {
     "name": "stdout",
     "output_type": "stream",
     "text": [
      "Starting evaluation\n",
      "ROOT:  /rds/user/fz287/hpc-work/MLMI4/results\\gp\\tnpa\\tnpa\n"
     ]
    },
    {
     "name": "stderr",
     "output_type": "stream",
     "text": [
      "100%|##########| 3000/3000 [00:21<00:00, 137.75it/s]\n",
      "tnpa:tnpa rbf tar_ll 1.4908 loss -1.4908 (21.782 secs)\n"
     ]
    },
    {
     "name": "stdout",
     "output_type": "stream",
     "text": [
      "Eval has finished\n",
      "###############SEED:  550\n",
      "Overriding argument pretrain: False\n",
      "Overriding argument d_model: 64\n",
      "Overriding argument emb_depth: 4\n",
      "Overriding argument dim_feedforward: 128\n",
      "Overriding argument nhead: 4\n",
      "Overriding argument dropout: 0.0\n",
      "Overriding argument num_layers: 6\n",
      "True\n",
      "generating evaluation sets...\n",
      "Generating Evaluation Sets with rbf kernel\n",
      "Generating Evaluation sets with context and target points:   None None\n"
     ]
    },
    {
     "name": "stderr",
     "output_type": "stream",
     "text": [
      "100%|##########| 3000/3000 [00:08<00:00, 334.85it/s]\n"
     ]
    },
    {
     "name": "stdout",
     "output_type": "stream",
     "text": [
      "Starting evaluation\n",
      "ROOT:  /rds/user/fz287/hpc-work/MLMI4/results\\gp\\tnpa\\tnpa\n"
     ]
    },
    {
     "name": "stderr",
     "output_type": "stream",
     "text": [
      "100%|##########| 3000/3000 [00:22<00:00, 131.86it/s]\n",
      "tnpa:tnpa rbf tar_ll 1.4963 loss -1.4963 (22.754 secs)\n"
     ]
    },
    {
     "name": "stdout",
     "output_type": "stream",
     "text": [
      "Eval has finished\n",
      "###############SEED:  1200\n",
      "Overriding argument pretrain: False\n",
      "Overriding argument d_model: 64\n",
      "Overriding argument emb_depth: 4\n",
      "Overriding argument dim_feedforward: 128\n",
      "Overriding argument nhead: 4\n",
      "Overriding argument dropout: 0.0\n",
      "Overriding argument num_layers: 6\n",
      "True\n",
      "generating evaluation sets...\n",
      "Generating Evaluation Sets with rbf kernel\n",
      "Generating Evaluation sets with context and target points:   None None\n"
     ]
    },
    {
     "name": "stderr",
     "output_type": "stream",
     "text": [
      "100%|##########| 3000/3000 [00:10<00:00, 299.10it/s]\n"
     ]
    },
    {
     "name": "stdout",
     "output_type": "stream",
     "text": [
      "Starting evaluation\n",
      "ROOT:  /rds/user/fz287/hpc-work/MLMI4/results\\gp\\tnpa\\tnpa\n"
     ]
    },
    {
     "name": "stderr",
     "output_type": "stream",
     "text": [
      "100%|##########| 3000/3000 [00:25<00:00, 119.68it/s]\n",
      "tnpa:tnpa rbf tar_ll 1.5008 loss -1.5008 (25.070 secs)\n"
     ]
    },
    {
     "name": "stdout",
     "output_type": "stream",
     "text": [
      "Eval has finished\n"
     ]
    }
   ],
   "source": [
    "model_names=['cnp','canp','np','anp','bnp','tnpd','tnpa']\n",
    "modelitos=['cnp','canp','np','anp','bnp','tnpd','tnpa']\n",
    "\n",
    "for model_name, modelito in zip(model_names, modelitos):\n",
    "    print('###############MODEL: ',model_name)\n",
    "    for seed in [0,58,100,250,550,1200]:\n",
    "        print('###############SEED: ',seed)\n",
    "        %run gp_track.py --mode eval --expid {model_name} --model {modelito} --custom_eval True --eval_num_batches 3000 --eval_seed {seed}"
   ]
  },
  {
   "cell_type": "code",
   "execution_count": 7,
   "id": "6b5fc3e2-7fe9-47bc-85ec-8f16b5399e7d",
   "metadata": {
    "collapsed": true,
    "jupyter": {
     "outputs_hidden": true
    },
    "tags": []
   },
   "outputs": [
    {
     "name": "stdout",
     "output_type": "stream",
     "text": [
      "Overriding argument num_latents: 64\n",
      "Overriding argument d_model: 64\n",
      "Overriding argument emb_depth: 4\n",
      "Overriding argument dim_feedforward: 128\n",
      "Overriding argument nhead: 4\n",
      "Overriding argument dropout: 0.0\n",
      "Overriding argument num_layers: 6\n",
      "True\n",
      "generating evaluation sets...\n",
      "Generating Evaluation Sets with rbf kernel\n",
      "Generating Evaluation sets with context and target points:   None None\n"
     ]
    },
    {
     "name": "stderr",
     "output_type": "stream",
     "text": [
      "100%|##########| 3000/3000 [00:12<00:00, 247.16it/s]\n"
     ]
    },
    {
     "name": "stdout",
     "output_type": "stream",
     "text": [
      "Starting evaluation\n",
      "ROOT:  /rds/user/fz287/hpc-work/MLMI4/results\\gp\\lbanp\\lbanp-num_latents-64_rbf\n"
     ]
    },
    {
     "name": "stderr",
     "output_type": "stream",
     "text": [
      "100%|##########| 3000/3000 [01:37<00:00, 30.86it/s]\n",
      "lbanp:lbanp-num_latents-64_rbf rbf tar_ll 1.2739 loss -1.2739 (97.228 secs)\n"
     ]
    },
    {
     "name": "stdout",
     "output_type": "stream",
     "text": [
      "Eval has finished\n",
      "Overriding argument num_latents: 64\n",
      "Overriding argument d_model: 64\n",
      "Overriding argument emb_depth: 4\n",
      "Overriding argument dim_feedforward: 128\n",
      "Overriding argument nhead: 4\n",
      "Overriding argument dropout: 0.0\n",
      "Overriding argument num_layers: 6\n",
      "generating evaluation sets...\n",
      "Generating Evaluation Sets with rbf kernel\n",
      "Generating Evaluation sets with context and target points:   None None\n"
     ]
    },
    {
     "name": "stderr",
     "output_type": "stream",
     "text": [
      "100%|##########| 3000/3000 [00:08<00:00, 338.55it/s]\n"
     ]
    },
    {
     "name": "stdout",
     "output_type": "stream",
     "text": [
      "True\n",
      "generating evaluation sets...\n",
      "Generating Evaluation Sets with rbf kernel\n",
      "Generating Evaluation sets with context and target points:   None None\n"
     ]
    },
    {
     "name": "stderr",
     "output_type": "stream",
     "text": [
      "100%|##########| 3000/3000 [00:09<00:00, 301.54it/s]\n"
     ]
    },
    {
     "name": "stdout",
     "output_type": "stream",
     "text": [
      "Starting evaluation\n",
      "ROOT:  /rds/user/fz287/hpc-work/MLMI4/results\\gp\\lbanp\\lbanp-num_latents-64_rbf\n"
     ]
    },
    {
     "name": "stderr",
     "output_type": "stream",
     "text": [
      "100%|##########| 3000/3000 [01:39<00:00, 30.20it/s]\n",
      "lbanp:lbanp-num_latents-64_rbf rbf tar_ll 1.2584 loss -1.2584 (99.354 secs)\n"
     ]
    },
    {
     "name": "stdout",
     "output_type": "stream",
     "text": [
      "Eval has finished\n",
      "Overriding argument num_latents: 64\n",
      "Overriding argument d_model: 64\n",
      "Overriding argument emb_depth: 4\n",
      "Overriding argument dim_feedforward: 128\n",
      "Overriding argument nhead: 4\n",
      "Overriding argument dropout: 0.0\n",
      "Overriding argument num_layers: 6\n",
      "True\n",
      "generating evaluation sets...\n",
      "Generating Evaluation Sets with rbf kernel\n",
      "Generating Evaluation sets with context and target points:   None None\n"
     ]
    },
    {
     "name": "stderr",
     "output_type": "stream",
     "text": [
      "100%|##########| 3000/3000 [00:10<00:00, 274.56it/s]\n"
     ]
    },
    {
     "name": "stdout",
     "output_type": "stream",
     "text": [
      "Starting evaluation\n",
      "ROOT:  /rds/user/fz287/hpc-work/MLMI4/results\\gp\\lbanp\\lbanp-num_latents-64_rbf\n"
     ]
    },
    {
     "name": "stderr",
     "output_type": "stream",
     "text": [
      "100%|##########| 3000/3000 [01:54<00:00, 26.18it/s]\n",
      "lbanp:lbanp-num_latents-64_rbf rbf tar_ll 1.2797 loss -1.2797 (114.599 secs)\n"
     ]
    },
    {
     "name": "stdout",
     "output_type": "stream",
     "text": [
      "Eval has finished\n",
      "Overriding argument num_latents: 64\n",
      "Overriding argument d_model: 64\n",
      "Overriding argument emb_depth: 4\n",
      "Overriding argument dim_feedforward: 128\n",
      "Overriding argument nhead: 4\n",
      "Overriding argument dropout: 0.0\n",
      "Overriding argument num_layers: 6\n",
      "generating evaluation sets...\n",
      "Generating Evaluation Sets with rbf kernel\n",
      "Generating Evaluation sets with context and target points:   None None\n"
     ]
    },
    {
     "name": "stderr",
     "output_type": "stream",
     "text": [
      "100%|##########| 3000/3000 [00:11<00:00, 267.32it/s]\n"
     ]
    },
    {
     "name": "stdout",
     "output_type": "stream",
     "text": [
      "True\n",
      "generating evaluation sets...\n",
      "Generating Evaluation Sets with rbf kernel\n",
      "Generating Evaluation sets with context and target points:   None None\n"
     ]
    },
    {
     "name": "stderr",
     "output_type": "stream",
     "text": [
      "100%|##########| 3000/3000 [00:11<00:00, 267.42it/s]\n"
     ]
    },
    {
     "name": "stdout",
     "output_type": "stream",
     "text": [
      "Starting evaluation\n",
      "ROOT:  /rds/user/fz287/hpc-work/MLMI4/results\\gp\\lbanp\\lbanp-num_latents-64_rbf\n"
     ]
    },
    {
     "name": "stderr",
     "output_type": "stream",
     "text": [
      "100%|##########| 3000/3000 [02:07<00:00, 23.61it/s]\n",
      "lbanp:lbanp-num_latents-64_rbf rbf tar_ll 1.2352 loss -1.2352 (127.051 secs)\n"
     ]
    },
    {
     "name": "stdout",
     "output_type": "stream",
     "text": [
      "Eval has finished\n",
      "Overriding argument num_latents: 64\n",
      "Overriding argument d_model: 64\n",
      "Overriding argument emb_depth: 4\n",
      "Overriding argument dim_feedforward: 128\n",
      "Overriding argument nhead: 4\n",
      "Overriding argument dropout: 0.0\n",
      "Overriding argument num_layers: 6\n",
      "generating evaluation sets...\n",
      "Generating Evaluation Sets with rbf kernel\n",
      "Generating Evaluation sets with context and target points:   None None\n"
     ]
    },
    {
     "name": "stderr",
     "output_type": "stream",
     "text": [
      "100%|##########| 3000/3000 [00:10<00:00, 297.11it/s]\n"
     ]
    },
    {
     "name": "stdout",
     "output_type": "stream",
     "text": [
      "True\n",
      "generating evaluation sets...\n",
      "Generating Evaluation Sets with rbf kernel\n",
      "Generating Evaluation sets with context and target points:   None None\n"
     ]
    },
    {
     "name": "stderr",
     "output_type": "stream",
     "text": [
      "100%|##########| 3000/3000 [00:09<00:00, 327.31it/s]\n"
     ]
    },
    {
     "name": "stdout",
     "output_type": "stream",
     "text": [
      "Starting evaluation\n",
      "ROOT:  /rds/user/fz287/hpc-work/MLMI4/results\\gp\\lbanp\\lbanp-num_latents-64_rbf\n"
     ]
    },
    {
     "name": "stderr",
     "output_type": "stream",
     "text": [
      "100%|##########| 3000/3000 [01:37<00:00, 30.73it/s]\n",
      "lbanp:lbanp-num_latents-64_rbf rbf tar_ll 1.2521 loss -1.2521 (97.638 secs)\n"
     ]
    },
    {
     "name": "stdout",
     "output_type": "stream",
     "text": [
      "Eval has finished\n",
      "Overriding argument num_latents: 64\n",
      "Overriding argument d_model: 64\n",
      "Overriding argument emb_depth: 4\n",
      "Overriding argument dim_feedforward: 128\n",
      "Overriding argument nhead: 4\n",
      "Overriding argument dropout: 0.0\n",
      "Overriding argument num_layers: 6\n",
      "generating evaluation sets...\n",
      "Generating Evaluation Sets with rbf kernel\n",
      "Generating Evaluation sets with context and target points:   None None\n"
     ]
    },
    {
     "name": "stderr",
     "output_type": "stream",
     "text": [
      "100%|##########| 3000/3000 [00:10<00:00, 296.98it/s]\n"
     ]
    },
    {
     "name": "stdout",
     "output_type": "stream",
     "text": [
      "True\n",
      "generating evaluation sets...\n",
      "Generating Evaluation Sets with rbf kernel\n",
      "Generating Evaluation sets with context and target points:   None None\n"
     ]
    },
    {
     "name": "stderr",
     "output_type": "stream",
     "text": [
      "100%|##########| 3000/3000 [00:10<00:00, 274.36it/s]\n"
     ]
    },
    {
     "name": "stdout",
     "output_type": "stream",
     "text": [
      "Starting evaluation\n",
      "ROOT:  /rds/user/fz287/hpc-work/MLMI4/results\\gp\\lbanp\\lbanp-num_latents-64_rbf\n"
     ]
    },
    {
     "name": "stderr",
     "output_type": "stream",
     "text": [
      "100%|##########| 3000/3000 [01:41<00:00, 29.55it/s]\n",
      "lbanp:lbanp-num_latents-64_rbf rbf tar_ll 1.2678 loss -1.2678 (101.523 secs)\n"
     ]
    },
    {
     "name": "stdout",
     "output_type": "stream",
     "text": [
      "Eval has finished\n"
     ]
    }
   ],
   "source": [
    "model_name='lbanp-num_latents-64_rbf'\n",
    "modelito='lbanp'\n",
    "latents=64\n",
    "\n",
    "for seed in [0,58,100,250,550,1200]:\n",
    "    print('###############SEED: ',seed)\n",
    "    %run gp_track.py --mode eval --expid {model_name} --model {modelito} --num_latents {latents} --custom_eval True --eval_num_batches 3000 --eval_seed {seed}"
   ]
  },
  {
   "cell_type": "code",
   "execution_count": 23,
   "id": "a4ac2369-b382-440c-aea7-9043bfa8a249",
   "metadata": {
    "collapsed": true,
    "jupyter": {
     "outputs_hidden": true
    },
    "tags": []
   },
   "outputs": [
    {
     "name": "stdout",
     "output_type": "stream",
     "text": [
      "###############MODEL:  lbanp-num_latents-8 8\n",
      "###############SEED:  0\n",
      "Overriding argument num_latents: 8\n",
      "Overriding argument d_model: 64\n",
      "Overriding argument emb_depth: 4\n",
      "Overriding argument dim_feedforward: 128\n",
      "Overriding argument nhead: 4\n",
      "Overriding argument dropout: 0.0\n",
      "Overriding argument num_layers: 6\n",
      "True\n",
      "generating evaluation sets...\n",
      "Generating Evaluation Sets with rbf kernel\n",
      "Generating Evaluation sets with context and target points:   None None\n"
     ]
    },
    {
     "name": "stderr",
     "output_type": "stream",
     "text": [
      "100%|##########| 3000/3000 [00:10<00:00, 278.61it/s]\n"
     ]
    },
    {
     "name": "stdout",
     "output_type": "stream",
     "text": [
      "Starting evaluation\n",
      "ROOT:  /rds/user/fz287/hpc-work/MLMI4/results\\gp\\lbanp\\lbanp-num_latents-8\n"
     ]
    },
    {
     "name": "stderr",
     "output_type": "stream",
     "text": [
      "100%|##########| 3000/3000 [01:51<00:00, 26.95it/s]\n",
      "lbanp:lbanp-num_latents-8 rbf tar_ll -0.5588 loss 0.5588 (111.325 secs)\n"
     ]
    },
    {
     "name": "stdout",
     "output_type": "stream",
     "text": [
      "Eval has finished\n",
      "###############SEED:  58\n",
      "Overriding argument num_latents: 8\n",
      "Overriding argument d_model: 64\n",
      "Overriding argument emb_depth: 4\n",
      "Overriding argument dim_feedforward: 128\n",
      "Overriding argument nhead: 4\n",
      "Overriding argument dropout: 0.0\n",
      "Overriding argument num_layers: 6\n",
      "True\n",
      "generating evaluation sets...\n",
      "Generating Evaluation Sets with rbf kernel\n",
      "Generating Evaluation sets with context and target points:   None None\n"
     ]
    },
    {
     "name": "stderr",
     "output_type": "stream",
     "text": [
      "100%|##########| 3000/3000 [00:12<00:00, 233.10it/s]\n"
     ]
    },
    {
     "name": "stdout",
     "output_type": "stream",
     "text": [
      "Starting evaluation\n",
      "ROOT:  /rds/user/fz287/hpc-work/MLMI4/results\\gp\\lbanp\\lbanp-num_latents-8\n"
     ]
    },
    {
     "name": "stderr",
     "output_type": "stream",
     "text": [
      "100%|##########| 3000/3000 [02:02<00:00, 24.52it/s]\n",
      "lbanp:lbanp-num_latents-8 rbf tar_ll -0.5668 loss 0.5668 (122.363 secs)\n"
     ]
    },
    {
     "name": "stdout",
     "output_type": "stream",
     "text": [
      "Eval has finished\n",
      "###############SEED:  100\n",
      "Overriding argument num_latents: 8\n",
      "Overriding argument d_model: 64\n",
      "Overriding argument emb_depth: 4\n",
      "Overriding argument dim_feedforward: 128\n",
      "Overriding argument nhead: 4\n",
      "Overriding argument dropout: 0.0\n",
      "Overriding argument num_layers: 6\n",
      "True\n",
      "generating evaluation sets...\n",
      "Generating Evaluation Sets with rbf kernel\n",
      "Generating Evaluation sets with context and target points:   None None\n"
     ]
    },
    {
     "name": "stderr",
     "output_type": "stream",
     "text": [
      "100%|##########| 3000/3000 [00:15<00:00, 195.84it/s]\n"
     ]
    },
    {
     "name": "stdout",
     "output_type": "stream",
     "text": [
      "Starting evaluation\n",
      "ROOT:  /rds/user/fz287/hpc-work/MLMI4/results\\gp\\lbanp\\lbanp-num_latents-8\n"
     ]
    },
    {
     "name": "stderr",
     "output_type": "stream",
     "text": [
      "100%|##########| 3000/3000 [02:01<00:00, 24.65it/s]\n",
      "lbanp:lbanp-num_latents-8 rbf tar_ll -0.5625 loss 0.5625 (121.727 secs)\n"
     ]
    },
    {
     "name": "stdout",
     "output_type": "stream",
     "text": [
      "Eval has finished\n",
      "###############SEED:  250\n",
      "Overriding argument num_latents: 8\n",
      "Overriding argument d_model: 64\n",
      "Overriding argument emb_depth: 4\n",
      "Overriding argument dim_feedforward: 128\n",
      "Overriding argument nhead: 4\n",
      "Overriding argument dropout: 0.0\n",
      "Overriding argument num_layers: 6\n",
      "True\n",
      "generating evaluation sets...\n",
      "Generating Evaluation Sets with rbf kernel\n",
      "Generating Evaluation sets with context and target points:   None None\n"
     ]
    },
    {
     "name": "stderr",
     "output_type": "stream",
     "text": [
      "100%|##########| 3000/3000 [00:11<00:00, 255.11it/s]\n"
     ]
    },
    {
     "name": "stdout",
     "output_type": "stream",
     "text": [
      "Starting evaluation\n",
      "ROOT:  /rds/user/fz287/hpc-work/MLMI4/results\\gp\\lbanp\\lbanp-num_latents-8\n"
     ]
    },
    {
     "name": "stderr",
     "output_type": "stream",
     "text": [
      "100%|##########| 3000/3000 [01:52<00:00, 26.72it/s]\n",
      "lbanp:lbanp-num_latents-8 rbf tar_ll -0.5683 loss 0.5683 (112.281 secs)\n"
     ]
    },
    {
     "name": "stdout",
     "output_type": "stream",
     "text": [
      "Eval has finished\n",
      "###############SEED:  550\n",
      "Overriding argument num_latents: 8\n",
      "Overriding argument d_model: 64\n",
      "Overriding argument emb_depth: 4\n",
      "Overriding argument dim_feedforward: 128\n",
      "Overriding argument nhead: 4\n",
      "Overriding argument dropout: 0.0\n",
      "Overriding argument num_layers: 6\n",
      "True\n",
      "generating evaluation sets...\n",
      "Generating Evaluation Sets with rbf kernel\n",
      "Generating Evaluation sets with context and target points:   None None\n"
     ]
    },
    {
     "name": "stderr",
     "output_type": "stream",
     "text": [
      "100%|##########| 3000/3000 [00:11<00:00, 251.38it/s]\n"
     ]
    },
    {
     "name": "stdout",
     "output_type": "stream",
     "text": [
      "Starting evaluation\n",
      "ROOT:  /rds/user/fz287/hpc-work/MLMI4/results\\gp\\lbanp\\lbanp-num_latents-8\n"
     ]
    },
    {
     "name": "stderr",
     "output_type": "stream",
     "text": [
      "100%|##########| 3000/3000 [02:10<00:00, 23.06it/s]\n",
      "lbanp:lbanp-num_latents-8 rbf tar_ll -0.5714 loss 0.5714 (130.097 secs)\n"
     ]
    },
    {
     "name": "stdout",
     "output_type": "stream",
     "text": [
      "Eval has finished\n",
      "###############SEED:  1200\n",
      "Overriding argument num_latents: 8\n",
      "Overriding argument d_model: 64\n",
      "Overriding argument emb_depth: 4\n",
      "Overriding argument dim_feedforward: 128\n",
      "Overriding argument nhead: 4\n",
      "Overriding argument dropout: 0.0\n",
      "Overriding argument num_layers: 6\n",
      "True\n",
      "generating evaluation sets...\n",
      "Generating Evaluation Sets with rbf kernel\n",
      "Generating Evaluation sets with context and target points:   None None\n"
     ]
    },
    {
     "name": "stderr",
     "output_type": "stream",
     "text": [
      "100%|##########| 3000/3000 [00:12<00:00, 233.24it/s]\n"
     ]
    },
    {
     "name": "stdout",
     "output_type": "stream",
     "text": [
      "Starting evaluation\n",
      "ROOT:  /rds/user/fz287/hpc-work/MLMI4/results\\gp\\lbanp\\lbanp-num_latents-8\n"
     ]
    },
    {
     "name": "stderr",
     "output_type": "stream",
     "text": [
      "100%|##########| 3000/3000 [02:24<00:00, 20.81it/s]\n",
      "lbanp:lbanp-num_latents-8 rbf tar_ll -0.5628 loss 0.5628 (144.150 secs)\n"
     ]
    },
    {
     "name": "stdout",
     "output_type": "stream",
     "text": [
      "Eval has finished\n",
      "###############MODEL:  lbanp-num_latents-128_rbf 128\n",
      "###############SEED:  0\n",
      "Overriding argument num_latents: 128\n",
      "Overriding argument d_model: 64\n",
      "Overriding argument emb_depth: 4\n",
      "Overriding argument dim_feedforward: 128\n",
      "Overriding argument nhead: 4\n",
      "Overriding argument dropout: 0.0\n",
      "Overriding argument num_layers: 6\n",
      "True\n",
      "generating evaluation sets...\n",
      "Generating Evaluation Sets with rbf kernel\n",
      "Generating Evaluation sets with context and target points:   None None\n"
     ]
    },
    {
     "name": "stderr",
     "output_type": "stream",
     "text": [
      "100%|##########| 3000/3000 [00:11<00:00, 268.88it/s]\n"
     ]
    },
    {
     "name": "stdout",
     "output_type": "stream",
     "text": [
      "Starting evaluation\n",
      "ROOT:  /rds/user/fz287/hpc-work/MLMI4/results\\gp\\lbanp\\lbanp-num_latents-128_rbf\n"
     ]
    },
    {
     "name": "stderr",
     "output_type": "stream",
     "text": [
      "100%|##########| 3000/3000 [01:47<00:00, 27.90it/s]\n",
      "lbanp:lbanp-num_latents-128_rbf rbf tar_ll 1.0833 loss -1.0833 (107.526 secs)\n"
     ]
    },
    {
     "name": "stdout",
     "output_type": "stream",
     "text": [
      "Eval has finished\n",
      "###############SEED:  58\n",
      "Overriding argument num_latents: 128\n",
      "Overriding argument d_model: 64\n",
      "Overriding argument emb_depth: 4\n",
      "Overriding argument dim_feedforward: 128\n",
      "Overriding argument nhead: 4\n",
      "Overriding argument dropout: 0.0\n",
      "Overriding argument num_layers: 6\n",
      "True\n",
      "generating evaluation sets...\n",
      "Generating Evaluation Sets with rbf kernel\n",
      "Generating Evaluation sets with context and target points:   None None\n"
     ]
    },
    {
     "name": "stderr",
     "output_type": "stream",
     "text": [
      "100%|##########| 3000/3000 [00:11<00:00, 261.12it/s]\n"
     ]
    },
    {
     "name": "stdout",
     "output_type": "stream",
     "text": [
      "Starting evaluation\n",
      "ROOT:  /rds/user/fz287/hpc-work/MLMI4/results\\gp\\lbanp\\lbanp-num_latents-128_rbf\n"
     ]
    },
    {
     "name": "stderr",
     "output_type": "stream",
     "text": [
      "100%|##########| 3000/3000 [01:49<00:00, 27.36it/s]\n",
      "lbanp:lbanp-num_latents-128_rbf rbf tar_ll 1.0643 loss -1.0643 (109.649 secs)\n"
     ]
    },
    {
     "name": "stdout",
     "output_type": "stream",
     "text": [
      "Eval has finished\n",
      "###############SEED:  100\n",
      "Overriding argument num_latents: 128\n",
      "Overriding argument d_model: 64\n",
      "Overriding argument emb_depth: 4\n",
      "Overriding argument dim_feedforward: 128\n",
      "Overriding argument nhead: 4\n",
      "Overriding argument dropout: 0.0\n",
      "Overriding argument num_layers: 6\n",
      "True\n",
      "generating evaluation sets...\n",
      "Generating Evaluation Sets with rbf kernel\n",
      "Generating Evaluation sets with context and target points:   None None\n"
     ]
    },
    {
     "name": "stderr",
     "output_type": "stream",
     "text": [
      "100%|##########| 3000/3000 [00:12<00:00, 248.78it/s]\n"
     ]
    },
    {
     "name": "stdout",
     "output_type": "stream",
     "text": [
      "Starting evaluation\n",
      "ROOT:  /rds/user/fz287/hpc-work/MLMI4/results\\gp\\lbanp\\lbanp-num_latents-128_rbf\n"
     ]
    },
    {
     "name": "stderr",
     "output_type": "stream",
     "text": [
      "100%|##########| 3000/3000 [02:05<00:00, 23.95it/s]\n",
      "lbanp:lbanp-num_latents-128_rbf rbf tar_ll 1.0847 loss -1.0847 (125.287 secs)\n"
     ]
    },
    {
     "name": "stdout",
     "output_type": "stream",
     "text": [
      "Eval has finished\n",
      "###############SEED:  250\n",
      "Overriding argument num_latents: 128\n",
      "Overriding argument d_model: 64\n",
      "Overriding argument emb_depth: 4\n",
      "Overriding argument dim_feedforward: 128\n",
      "Overriding argument nhead: 4\n",
      "Overriding argument dropout: 0.0\n",
      "Overriding argument num_layers: 6\n",
      "True\n",
      "generating evaluation sets...\n",
      "Generating Evaluation Sets with rbf kernel\n",
      "Generating Evaluation sets with context and target points:   None None\n"
     ]
    },
    {
     "name": "stderr",
     "output_type": "stream",
     "text": [
      "100%|##########| 3000/3000 [00:14<00:00, 206.29it/s]\n"
     ]
    },
    {
     "name": "stdout",
     "output_type": "stream",
     "text": [
      "Starting evaluation\n",
      "ROOT:  /rds/user/fz287/hpc-work/MLMI4/results\\gp\\lbanp\\lbanp-num_latents-128_rbf\n"
     ]
    },
    {
     "name": "stderr",
     "output_type": "stream",
     "text": [
      "100%|##########| 3000/3000 [01:55<00:00, 26.03it/s]\n",
      "lbanp:lbanp-num_latents-128_rbf rbf tar_ll 1.0476 loss -1.0476 (115.297 secs)\n"
     ]
    },
    {
     "name": "stdout",
     "output_type": "stream",
     "text": [
      "Eval has finished\n",
      "###############SEED:  550\n",
      "Overriding argument num_latents: 128\n",
      "Overriding argument d_model: 64\n",
      "Overriding argument emb_depth: 4\n",
      "Overriding argument dim_feedforward: 128\n",
      "Overriding argument nhead: 4\n",
      "Overriding argument dropout: 0.0\n",
      "Overriding argument num_layers: 6\n",
      "True\n",
      "generating evaluation sets...\n",
      "Generating Evaluation Sets with rbf kernel\n",
      "Generating Evaluation sets with context and target points:   None None\n"
     ]
    },
    {
     "name": "stderr",
     "output_type": "stream",
     "text": [
      "100%|##########| 3000/3000 [00:10<00:00, 290.84it/s]\n"
     ]
    },
    {
     "name": "stdout",
     "output_type": "stream",
     "text": [
      "Starting evaluation\n",
      "ROOT:  /rds/user/fz287/hpc-work/MLMI4/results\\gp\\lbanp\\lbanp-num_latents-128_rbf\n"
     ]
    },
    {
     "name": "stderr",
     "output_type": "stream",
     "text": [
      "100%|##########| 3000/3000 [01:45<00:00, 28.49it/s]\n",
      "lbanp:lbanp-num_latents-128_rbf rbf tar_ll 1.0603 loss -1.0603 (105.302 secs)\n"
     ]
    },
    {
     "name": "stdout",
     "output_type": "stream",
     "text": [
      "Eval has finished\n",
      "###############SEED:  1200\n",
      "Overriding argument num_latents: 128\n",
      "Overriding argument d_model: 64\n",
      "Overriding argument emb_depth: 4\n",
      "Overriding argument dim_feedforward: 128\n",
      "Overriding argument nhead: 4\n",
      "Overriding argument dropout: 0.0\n",
      "Overriding argument num_layers: 6\n",
      "True\n",
      "generating evaluation sets...\n",
      "Generating Evaluation Sets with rbf kernel\n",
      "Generating Evaluation sets with context and target points:   None None\n"
     ]
    },
    {
     "name": "stderr",
     "output_type": "stream",
     "text": [
      "100%|##########| 3000/3000 [00:11<00:00, 270.05it/s]\n"
     ]
    },
    {
     "name": "stdout",
     "output_type": "stream",
     "text": [
      "Starting evaluation\n",
      "ROOT:  /rds/user/fz287/hpc-work/MLMI4/results\\gp\\lbanp\\lbanp-num_latents-128_rbf\n"
     ]
    },
    {
     "name": "stderr",
     "output_type": "stream",
     "text": [
      "100%|##########| 3000/3000 [02:07<00:00, 23.62it/s]\n",
      "lbanp:lbanp-num_latents-128_rbf rbf tar_ll 1.0749 loss -1.0749 (127.029 secs)\n"
     ]
    },
    {
     "name": "stdout",
     "output_type": "stream",
     "text": [
      "Eval has finished\n"
     ]
    }
   ],
   "source": [
    "model_names=['lbanp-num_latents-8',\n",
    "             'lbanp-num_latents-128_rbf']\n",
    "latents_l=[8, 128]\n",
    "modelito='lbanp'\n",
    "\n",
    "for latents, model_name in zip(latents_l, model_names):\n",
    "    print('###############MODEL: ',model_name, latents)\n",
    "    for seed in [0,58,100,250,550,1200]:\n",
    "        print('###############SEED: ',seed)\n",
    "        %run gp_track.py --mode eval --expid {model_name} --model {modelito} --num_latents {latents} --custom_eval True --eval_num_batches 3000 --eval_seed {seed}"
   ]
  },
  {
   "cell_type": "code",
   "execution_count": 24,
   "id": "78801ff8-c08c-447d-a738-cdcdb792b420",
   "metadata": {
    "collapsed": true,
    "jupyter": {
     "outputs_hidden": true
    },
    "tags": []
   },
   "outputs": [
    {
     "name": "stdout",
     "output_type": "stream",
     "text": [
      "###############MODEL:  isanp-num_latents-8_rbf 8\n",
      "###############SEED:  0\n",
      "Overriding argument num_latents: 8\n",
      "Overriding argument d_model: 64\n",
      "Overriding argument emb_depth: 4\n",
      "Overriding argument dim_feedforward: 128\n",
      "Overriding argument nhead: 4\n",
      "Overriding argument dropout: 0.0\n",
      "Overriding argument num_layers: 6\n",
      "True\n",
      "generating evaluation sets...\n",
      "Generating Evaluation Sets with rbf kernel\n",
      "Generating Evaluation sets with context and target points:   None None\n"
     ]
    },
    {
     "name": "stderr",
     "output_type": "stream",
     "text": [
      "100%|##########| 3000/3000 [00:12<00:00, 232.27it/s]\n"
     ]
    },
    {
     "name": "stdout",
     "output_type": "stream",
     "text": [
      "Starting evaluation\n",
      "ROOT:  /rds/user/fz287/hpc-work/MLMI4/results\\gp\\isanp\\isanp-num_latents-8_rbf\n"
     ]
    },
    {
     "name": "stderr",
     "output_type": "stream",
     "text": [
      "100%|##########| 3000/3000 [02:24<00:00, 20.77it/s]\n",
      "isanp:isanp-num_latents-8_rbf rbf tar_ll 0.1894 loss -0.1894 (144.464 secs)\n"
     ]
    },
    {
     "name": "stdout",
     "output_type": "stream",
     "text": [
      "Eval has finished\n",
      "###############SEED:  58\n",
      "Overriding argument num_latents: 8\n",
      "Overriding argument d_model: 64\n",
      "Overriding argument emb_depth: 4\n",
      "Overriding argument dim_feedforward: 128\n",
      "Overriding argument nhead: 4\n",
      "Overriding argument dropout: 0.0\n",
      "Overriding argument num_layers: 6\n",
      "True\n",
      "generating evaluation sets...\n",
      "Generating Evaluation Sets with rbf kernel\n",
      "Generating Evaluation sets with context and target points:   None None\n"
     ]
    },
    {
     "name": "stderr",
     "output_type": "stream",
     "text": [
      "100%|##########| 3000/3000 [00:10<00:00, 297.57it/s]\n"
     ]
    },
    {
     "name": "stdout",
     "output_type": "stream",
     "text": [
      "Starting evaluation\n",
      "ROOT:  /rds/user/fz287/hpc-work/MLMI4/results\\gp\\isanp\\isanp-num_latents-8_rbf\n"
     ]
    },
    {
     "name": "stderr",
     "output_type": "stream",
     "text": [
      "100%|##########| 3000/3000 [01:41<00:00, 29.56it/s]\n",
      "isanp:isanp-num_latents-8_rbf rbf tar_ll 0.1736 loss -0.1736 (101.490 secs)\n"
     ]
    },
    {
     "name": "stdout",
     "output_type": "stream",
     "text": [
      "Eval has finished\n",
      "###############SEED:  100\n",
      "Overriding argument num_latents: 8\n",
      "Overriding argument d_model: 64\n",
      "Overriding argument emb_depth: 4\n",
      "Overriding argument dim_feedforward: 128\n",
      "Overriding argument nhead: 4\n",
      "Overriding argument dropout: 0.0\n",
      "Overriding argument num_layers: 6\n",
      "True\n",
      "generating evaluation sets...\n",
      "Generating Evaluation Sets with rbf kernel\n",
      "Generating Evaluation sets with context and target points:   None None\n"
     ]
    },
    {
     "name": "stderr",
     "output_type": "stream",
     "text": [
      "100%|##########| 3000/3000 [00:11<00:00, 264.33it/s]\n"
     ]
    },
    {
     "name": "stdout",
     "output_type": "stream",
     "text": [
      "Starting evaluation\n",
      "ROOT:  /rds/user/fz287/hpc-work/MLMI4/results\\gp\\isanp\\isanp-num_latents-8_rbf\n"
     ]
    },
    {
     "name": "stderr",
     "output_type": "stream",
     "text": [
      "100%|##########| 3000/3000 [01:54<00:00, 26.17it/s]\n",
      "isanp:isanp-num_latents-8_rbf rbf tar_ll 0.1904 loss -0.1904 (114.629 secs)\n"
     ]
    },
    {
     "name": "stdout",
     "output_type": "stream",
     "text": [
      "Eval has finished\n",
      "###############SEED:  250\n",
      "Overriding argument num_latents: 8\n",
      "Overriding argument d_model: 64\n",
      "Overriding argument emb_depth: 4\n",
      "Overriding argument dim_feedforward: 128\n",
      "Overriding argument nhead: 4\n",
      "Overriding argument dropout: 0.0\n",
      "Overriding argument num_layers: 6\n",
      "True\n",
      "generating evaluation sets...\n",
      "Generating Evaluation Sets with rbf kernel\n",
      "Generating Evaluation sets with context and target points:   None None\n"
     ]
    },
    {
     "name": "stderr",
     "output_type": "stream",
     "text": [
      "100%|##########| 3000/3000 [00:13<00:00, 222.88it/s]\n"
     ]
    },
    {
     "name": "stdout",
     "output_type": "stream",
     "text": [
      "Starting evaluation\n",
      "ROOT:  /rds/user/fz287/hpc-work/MLMI4/results\\gp\\isanp\\isanp-num_latents-8_rbf\n"
     ]
    },
    {
     "name": "stderr",
     "output_type": "stream",
     "text": [
      "100%|##########| 3000/3000 [02:10<00:00, 22.99it/s]\n",
      "isanp:isanp-num_latents-8_rbf rbf tar_ll 0.1654 loss -0.1654 (130.487 secs)\n"
     ]
    },
    {
     "name": "stdout",
     "output_type": "stream",
     "text": [
      "Eval has finished\n",
      "###############SEED:  550\n",
      "Overriding argument num_latents: 8\n",
      "Overriding argument d_model: 64\n",
      "Overriding argument emb_depth: 4\n",
      "Overriding argument dim_feedforward: 128\n",
      "Overriding argument nhead: 4\n",
      "Overriding argument dropout: 0.0\n",
      "Overriding argument num_layers: 6\n",
      "True\n",
      "generating evaluation sets...\n",
      "Generating Evaluation Sets with rbf kernel\n",
      "Generating Evaluation sets with context and target points:   None None\n"
     ]
    },
    {
     "name": "stderr",
     "output_type": "stream",
     "text": [
      "100%|##########| 3000/3000 [00:15<00:00, 189.25it/s]\n"
     ]
    },
    {
     "name": "stdout",
     "output_type": "stream",
     "text": [
      "Starting evaluation\n",
      "ROOT:  /rds/user/fz287/hpc-work/MLMI4/results\\gp\\isanp\\isanp-num_latents-8_rbf\n"
     ]
    },
    {
     "name": "stderr",
     "output_type": "stream",
     "text": [
      "100%|##########| 3000/3000 [01:59<00:00, 25.02it/s]\n",
      "isanp:isanp-num_latents-8_rbf rbf tar_ll 0.1706 loss -0.1706 (119.931 secs)\n"
     ]
    },
    {
     "name": "stdout",
     "output_type": "stream",
     "text": [
      "Eval has finished\n",
      "###############SEED:  1200\n",
      "Overriding argument num_latents: 8\n",
      "Overriding argument d_model: 64\n",
      "Overriding argument emb_depth: 4\n",
      "Overriding argument dim_feedforward: 128\n",
      "Overriding argument nhead: 4\n",
      "Overriding argument dropout: 0.0\n",
      "Overriding argument num_layers: 6\n",
      "True\n",
      "generating evaluation sets...\n",
      "Generating Evaluation Sets with rbf kernel\n",
      "Generating Evaluation sets with context and target points:   None None\n"
     ]
    },
    {
     "name": "stderr",
     "output_type": "stream",
     "text": [
      "100%|##########| 3000/3000 [00:09<00:00, 315.64it/s]\n"
     ]
    },
    {
     "name": "stdout",
     "output_type": "stream",
     "text": [
      "Starting evaluation\n",
      "ROOT:  /rds/user/fz287/hpc-work/MLMI4/results\\gp\\isanp\\isanp-num_latents-8_rbf\n"
     ]
    },
    {
     "name": "stderr",
     "output_type": "stream",
     "text": [
      "100%|##########| 3000/3000 [01:44<00:00, 28.76it/s]\n",
      "isanp:isanp-num_latents-8_rbf rbf tar_ll 0.1811 loss -0.1811 (104.318 secs)\n"
     ]
    },
    {
     "name": "stdout",
     "output_type": "stream",
     "text": [
      "Eval has finished\n",
      "###############MODEL:  isanp-num_latents-16_rbf_0 16\n",
      "###############SEED:  0\n",
      "Overriding argument num_latents: 16\n",
      "Overriding argument d_model: 64\n",
      "Overriding argument emb_depth: 4\n",
      "Overriding argument dim_feedforward: 128\n",
      "Overriding argument nhead: 4\n",
      "Overriding argument dropout: 0.0\n",
      "Overriding argument num_layers: 6\n",
      "True\n",
      "generating evaluation sets...\n",
      "Generating Evaluation Sets with rbf kernel\n",
      "Generating Evaluation sets with context and target points:   None None\n"
     ]
    },
    {
     "name": "stderr",
     "output_type": "stream",
     "text": [
      "100%|##########| 3000/3000 [00:10<00:00, 283.40it/s]\n"
     ]
    },
    {
     "name": "stdout",
     "output_type": "stream",
     "text": [
      "Starting evaluation\n",
      "ROOT:  /rds/user/fz287/hpc-work/MLMI4/results\\gp\\isanp\\isanp-num_latents-16_rbf_0\n"
     ]
    },
    {
     "name": "stderr",
     "output_type": "stream",
     "text": [
      "100%|##########| 3000/3000 [02:02<00:00, 24.54it/s]\n",
      "isanp:isanp-num_latents-16_rbf_0 rbf tar_ll 1.3519 loss -1.3519 (122.231 secs)\n"
     ]
    },
    {
     "name": "stdout",
     "output_type": "stream",
     "text": [
      "Eval has finished\n",
      "###############SEED:  58\n",
      "Overriding argument num_latents: 16\n",
      "Overriding argument d_model: 64\n",
      "Overriding argument emb_depth: 4\n",
      "Overriding argument dim_feedforward: 128\n",
      "Overriding argument nhead: 4\n",
      "Overriding argument dropout: 0.0\n",
      "Overriding argument num_layers: 6\n",
      "True\n",
      "generating evaluation sets...\n",
      "Generating Evaluation Sets with rbf kernel\n",
      "Generating Evaluation sets with context and target points:   None None\n"
     ]
    },
    {
     "name": "stderr",
     "output_type": "stream",
     "text": [
      "100%|##########| 3000/3000 [00:11<00:00, 253.03it/s]\n"
     ]
    },
    {
     "name": "stdout",
     "output_type": "stream",
     "text": [
      "Starting evaluation\n",
      "ROOT:  /rds/user/fz287/hpc-work/MLMI4/results\\gp\\isanp\\isanp-num_latents-16_rbf_0\n"
     ]
    },
    {
     "name": "stderr",
     "output_type": "stream",
     "text": [
      "100%|##########| 3000/3000 [02:16<00:00, 22.05it/s]\n",
      "isanp:isanp-num_latents-16_rbf_0 rbf tar_ll 1.3362 loss -1.3362 (136.084 secs)\n"
     ]
    },
    {
     "name": "stdout",
     "output_type": "stream",
     "text": [
      "Eval has finished\n",
      "###############SEED:  100\n",
      "Overriding argument num_latents: 16\n",
      "Overriding argument d_model: 64\n",
      "Overriding argument emb_depth: 4\n",
      "Overriding argument dim_feedforward: 128\n",
      "Overriding argument nhead: 4\n",
      "Overriding argument dropout: 0.0\n",
      "Overriding argument num_layers: 6\n",
      "True\n",
      "generating evaluation sets...\n",
      "Generating Evaluation Sets with rbf kernel\n",
      "Generating Evaluation sets with context and target points:   None None\n"
     ]
    },
    {
     "name": "stderr",
     "output_type": "stream",
     "text": [
      "100%|##########| 3000/3000 [00:11<00:00, 265.45it/s]\n"
     ]
    },
    {
     "name": "stdout",
     "output_type": "stream",
     "text": [
      "Starting evaluation\n",
      "ROOT:  /rds/user/fz287/hpc-work/MLMI4/results\\gp\\isanp\\isanp-num_latents-16_rbf_0\n"
     ]
    },
    {
     "name": "stderr",
     "output_type": "stream",
     "text": [
      "100%|##########| 3000/3000 [01:41<00:00, 29.65it/s]\n",
      "isanp:isanp-num_latents-16_rbf_0 rbf tar_ll 1.3581 loss -1.3581 (101.177 secs)\n"
     ]
    },
    {
     "name": "stdout",
     "output_type": "stream",
     "text": [
      "Eval has finished\n",
      "###############SEED:  250\n",
      "Overriding argument num_latents: 16\n",
      "Overriding argument d_model: 64\n",
      "Overriding argument emb_depth: 4\n",
      "Overriding argument dim_feedforward: 128\n",
      "Overriding argument nhead: 4\n",
      "Overriding argument dropout: 0.0\n",
      "Overriding argument num_layers: 6\n",
      "True\n",
      "generating evaluation sets...\n",
      "Generating Evaluation Sets with rbf kernel\n",
      "Generating Evaluation sets with context and target points:   None None\n"
     ]
    },
    {
     "name": "stderr",
     "output_type": "stream",
     "text": [
      "100%|##########| 3000/3000 [00:09<00:00, 310.47it/s]\n"
     ]
    },
    {
     "name": "stdout",
     "output_type": "stream",
     "text": [
      "Starting evaluation\n",
      "ROOT:  /rds/user/fz287/hpc-work/MLMI4/results\\gp\\isanp\\isanp-num_latents-16_rbf_0\n"
     ]
    },
    {
     "name": "stderr",
     "output_type": "stream",
     "text": [
      "100%|##########| 3000/3000 [01:53<00:00, 26.35it/s]\n",
      "isanp:isanp-num_latents-16_rbf_0 rbf tar_ll 1.3134 loss -1.3134 (113.851 secs)\n"
     ]
    },
    {
     "name": "stdout",
     "output_type": "stream",
     "text": [
      "Eval has finished\n",
      "###############SEED:  550\n",
      "Overriding argument num_latents: 16\n",
      "Overriding argument d_model: 64\n",
      "Overriding argument emb_depth: 4\n",
      "Overriding argument dim_feedforward: 128\n",
      "Overriding argument nhead: 4\n",
      "Overriding argument dropout: 0.0\n",
      "Overriding argument num_layers: 6\n",
      "True\n",
      "generating evaluation sets...\n",
      "Generating Evaluation Sets with rbf kernel\n",
      "Generating Evaluation sets with context and target points:   None None\n"
     ]
    },
    {
     "name": "stderr",
     "output_type": "stream",
     "text": [
      "100%|##########| 3000/3000 [00:13<00:00, 217.21it/s]\n"
     ]
    },
    {
     "name": "stdout",
     "output_type": "stream",
     "text": [
      "Starting evaluation\n",
      "ROOT:  /rds/user/fz287/hpc-work/MLMI4/results\\gp\\isanp\\isanp-num_latents-16_rbf_0\n"
     ]
    },
    {
     "name": "stderr",
     "output_type": "stream",
     "text": [
      "100%|##########| 3000/3000 [02:04<00:00, 24.16it/s]\n",
      "isanp:isanp-num_latents-16_rbf_0 rbf tar_ll 1.3269 loss -1.3269 (124.188 secs)\n"
     ]
    },
    {
     "name": "stdout",
     "output_type": "stream",
     "text": [
      "Eval has finished\n",
      "###############SEED:  1200\n",
      "Overriding argument num_latents: 16\n",
      "Overriding argument d_model: 64\n",
      "Overriding argument emb_depth: 4\n",
      "Overriding argument dim_feedforward: 128\n",
      "Overriding argument nhead: 4\n",
      "Overriding argument dropout: 0.0\n",
      "Overriding argument num_layers: 6\n",
      "True\n",
      "generating evaluation sets...\n",
      "Generating Evaluation Sets with rbf kernel\n",
      "Generating Evaluation sets with context and target points:   None None\n"
     ]
    },
    {
     "name": "stderr",
     "output_type": "stream",
     "text": [
      "100%|##########| 3000/3000 [00:16<00:00, 182.81it/s]\n"
     ]
    },
    {
     "name": "stdout",
     "output_type": "stream",
     "text": [
      "Starting evaluation\n",
      "ROOT:  /rds/user/fz287/hpc-work/MLMI4/results\\gp\\isanp\\isanp-num_latents-16_rbf_0\n"
     ]
    },
    {
     "name": "stderr",
     "output_type": "stream",
     "text": [
      "100%|##########| 3000/3000 [02:05<00:00, 23.85it/s]\n",
      "isanp:isanp-num_latents-16_rbf_0 rbf tar_ll 1.3470 loss -1.3470 (125.776 secs)\n"
     ]
    },
    {
     "name": "stdout",
     "output_type": "stream",
     "text": [
      "Eval has finished\n",
      "###############MODEL:  isanp-num_latents-32_rbf_0 32\n",
      "###############SEED:  0\n",
      "Overriding argument num_latents: 32\n",
      "Overriding argument d_model: 64\n",
      "Overriding argument emb_depth: 4\n",
      "Overriding argument dim_feedforward: 128\n",
      "Overriding argument nhead: 4\n",
      "Overriding argument dropout: 0.0\n",
      "Overriding argument num_layers: 6\n",
      "True\n",
      "generating evaluation sets...\n",
      "Generating Evaluation Sets with rbf kernel\n",
      "Generating Evaluation sets with context and target points:   None None\n"
     ]
    },
    {
     "name": "stderr",
     "output_type": "stream",
     "text": [
      "100%|##########| 3000/3000 [00:10<00:00, 298.90it/s]\n"
     ]
    },
    {
     "name": "stdout",
     "output_type": "stream",
     "text": [
      "Starting evaluation\n",
      "ROOT:  /rds/user/fz287/hpc-work/MLMI4/results\\gp\\isanp\\isanp-num_latents-32_rbf_0\n"
     ]
    },
    {
     "name": "stderr",
     "output_type": "stream",
     "text": [
      "100%|##########| 3000/3000 [01:47<00:00, 27.91it/s]\n",
      "isanp:isanp-num_latents-32_rbf_0 rbf tar_ll 1.3781 loss -1.3781 (107.512 secs)\n"
     ]
    },
    {
     "name": "stdout",
     "output_type": "stream",
     "text": [
      "Eval has finished\n",
      "###############SEED:  58\n",
      "Overriding argument num_latents: 32\n",
      "Overriding argument d_model: 64\n",
      "Overriding argument emb_depth: 4\n",
      "Overriding argument dim_feedforward: 128\n",
      "Overriding argument nhead: 4\n",
      "Overriding argument dropout: 0.0\n",
      "Overriding argument num_layers: 6\n",
      "True\n",
      "generating evaluation sets...\n",
      "Generating Evaluation Sets with rbf kernel\n",
      "Generating Evaluation sets with context and target points:   None None\n"
     ]
    },
    {
     "name": "stderr",
     "output_type": "stream",
     "text": [
      "100%|##########| 3000/3000 [00:11<00:00, 269.42it/s]\n"
     ]
    },
    {
     "name": "stdout",
     "output_type": "stream",
     "text": [
      "Starting evaluation\n",
      "ROOT:  /rds/user/fz287/hpc-work/MLMI4/results\\gp\\isanp\\isanp-num_latents-32_rbf_0\n"
     ]
    },
    {
     "name": "stderr",
     "output_type": "stream",
     "text": [
      "100%|##########| 3000/3000 [02:06<00:00, 23.78it/s]\n",
      "isanp:isanp-num_latents-32_rbf_0 rbf tar_ll 1.3636 loss -1.3636 (126.151 secs)\n"
     ]
    },
    {
     "name": "stdout",
     "output_type": "stream",
     "text": [
      "Eval has finished\n",
      "###############SEED:  100\n",
      "Overriding argument num_latents: 32\n",
      "Overriding argument d_model: 64\n",
      "Overriding argument emb_depth: 4\n",
      "Overriding argument dim_feedforward: 128\n",
      "Overriding argument nhead: 4\n",
      "Overriding argument dropout: 0.0\n",
      "Overriding argument num_layers: 6\n",
      "True\n",
      "generating evaluation sets...\n",
      "Generating Evaluation Sets with rbf kernel\n",
      "Generating Evaluation sets with context and target points:   None None\n"
     ]
    },
    {
     "name": "stderr",
     "output_type": "stream",
     "text": [
      "100%|##########| 3000/3000 [00:12<00:00, 238.91it/s]\n"
     ]
    },
    {
     "name": "stdout",
     "output_type": "stream",
     "text": [
      "Starting evaluation\n",
      "ROOT:  /rds/user/fz287/hpc-work/MLMI4/results\\gp\\isanp\\isanp-num_latents-32_rbf_0\n"
     ]
    },
    {
     "name": "stderr",
     "output_type": "stream",
     "text": [
      "100%|##########| 3000/3000 [02:13<00:00, 22.54it/s]\n",
      "isanp:isanp-num_latents-32_rbf_0 rbf tar_ll 1.3861 loss -1.3861 (133.082 secs)\n"
     ]
    },
    {
     "name": "stdout",
     "output_type": "stream",
     "text": [
      "Eval has finished\n",
      "###############SEED:  250\n",
      "Overriding argument num_latents: 32\n",
      "Overriding argument d_model: 64\n",
      "Overriding argument emb_depth: 4\n",
      "Overriding argument dim_feedforward: 128\n",
      "Overriding argument nhead: 4\n",
      "Overriding argument dropout: 0.0\n",
      "Overriding argument num_layers: 6\n",
      "True\n",
      "generating evaluation sets...\n",
      "Generating Evaluation Sets with rbf kernel\n",
      "Generating Evaluation sets with context and target points:   None None\n"
     ]
    },
    {
     "name": "stderr",
     "output_type": "stream",
     "text": [
      "100%|##########| 3000/3000 [00:12<00:00, 236.13it/s]\n"
     ]
    },
    {
     "name": "stdout",
     "output_type": "stream",
     "text": [
      "Starting evaluation\n",
      "ROOT:  /rds/user/fz287/hpc-work/MLMI4/results\\gp\\isanp\\isanp-num_latents-32_rbf_0\n"
     ]
    },
    {
     "name": "stderr",
     "output_type": "stream",
     "text": [
      "100%|##########| 3000/3000 [01:38<00:00, 30.51it/s]\n",
      "isanp:isanp-num_latents-32_rbf_0 rbf tar_ll 1.3408 loss -1.3408 (98.335 secs)\n"
     ]
    },
    {
     "name": "stdout",
     "output_type": "stream",
     "text": [
      "Eval has finished\n",
      "###############SEED:  550\n",
      "Overriding argument num_latents: 32\n",
      "Overriding argument d_model: 64\n",
      "Overriding argument emb_depth: 4\n",
      "Overriding argument dim_feedforward: 128\n",
      "Overriding argument nhead: 4\n",
      "Overriding argument dropout: 0.0\n",
      "Overriding argument num_layers: 6\n",
      "True\n",
      "generating evaluation sets...\n",
      "Generating Evaluation Sets with rbf kernel\n",
      "Generating Evaluation sets with context and target points:   None None\n"
     ]
    },
    {
     "name": "stderr",
     "output_type": "stream",
     "text": [
      "100%|##########| 3000/3000 [00:09<00:00, 312.60it/s]\n"
     ]
    },
    {
     "name": "stdout",
     "output_type": "stream",
     "text": [
      "Starting evaluation\n",
      "ROOT:  /rds/user/fz287/hpc-work/MLMI4/results\\gp\\isanp\\isanp-num_latents-32_rbf_0\n"
     ]
    },
    {
     "name": "stderr",
     "output_type": "stream",
     "text": [
      "100%|##########| 3000/3000 [01:45<00:00, 28.45it/s]\n",
      "isanp:isanp-num_latents-32_rbf_0 rbf tar_ll 1.3546 loss -1.3546 (105.447 secs)\n"
     ]
    },
    {
     "name": "stdout",
     "output_type": "stream",
     "text": [
      "Eval has finished\n",
      "###############SEED:  1200\n",
      "Overriding argument num_latents: 32\n",
      "Overriding argument d_model: 64\n",
      "Overriding argument emb_depth: 4\n",
      "Overriding argument dim_feedforward: 128\n",
      "Overriding argument nhead: 4\n",
      "Overriding argument dropout: 0.0\n",
      "Overriding argument num_layers: 6\n",
      "True\n",
      "generating evaluation sets...\n",
      "Generating Evaluation Sets with rbf kernel\n",
      "Generating Evaluation sets with context and target points:   None None\n"
     ]
    },
    {
     "name": "stderr",
     "output_type": "stream",
     "text": [
      "100%|##########| 3000/3000 [00:11<00:00, 255.45it/s]\n"
     ]
    },
    {
     "name": "stdout",
     "output_type": "stream",
     "text": [
      "Starting evaluation\n",
      "ROOT:  /rds/user/fz287/hpc-work/MLMI4/results\\gp\\isanp\\isanp-num_latents-32_rbf_0\n"
     ]
    },
    {
     "name": "stderr",
     "output_type": "stream",
     "text": [
      "100%|##########| 3000/3000 [01:58<00:00, 25.32it/s]\n",
      "isanp:isanp-num_latents-32_rbf_0 rbf tar_ll 1.3748 loss -1.3748 (118.477 secs)\n"
     ]
    },
    {
     "name": "stdout",
     "output_type": "stream",
     "text": [
      "Eval has finished\n",
      "###############MODEL:  isanp-num_latents-64_rbf_0 64\n",
      "###############SEED:  0\n",
      "Overriding argument num_latents: 64\n",
      "Overriding argument d_model: 64\n",
      "Overriding argument emb_depth: 4\n",
      "Overriding argument dim_feedforward: 128\n",
      "Overriding argument nhead: 4\n",
      "Overriding argument dropout: 0.0\n",
      "Overriding argument num_layers: 6\n",
      "True\n",
      "generating evaluation sets...\n",
      "Generating Evaluation Sets with rbf kernel\n",
      "Generating Evaluation sets with context and target points:   None None\n"
     ]
    },
    {
     "name": "stderr",
     "output_type": "stream",
     "text": [
      "100%|##########| 3000/3000 [00:11<00:00, 251.09it/s]\n"
     ]
    },
    {
     "name": "stdout",
     "output_type": "stream",
     "text": [
      "Starting evaluation\n",
      "ROOT:  /rds/user/fz287/hpc-work/MLMI4/results\\gp\\isanp\\isanp-num_latents-64_rbf_0\n"
     ]
    },
    {
     "name": "stderr",
     "output_type": "stream",
     "text": [
      "100%|##########| 3000/3000 [02:06<00:00, 23.71it/s]\n",
      "isanp:isanp-num_latents-64_rbf_0 rbf tar_ll 1.3358 loss -1.3358 (126.557 secs)\n"
     ]
    },
    {
     "name": "stdout",
     "output_type": "stream",
     "text": [
      "Eval has finished\n",
      "###############SEED:  58\n",
      "Overriding argument num_latents: 64\n",
      "Overriding argument d_model: 64\n",
      "Overriding argument emb_depth: 4\n",
      "Overriding argument dim_feedforward: 128\n",
      "Overriding argument nhead: 4\n",
      "Overriding argument dropout: 0.0\n",
      "Overriding argument num_layers: 6\n",
      "True\n",
      "generating evaluation sets...\n",
      "Generating Evaluation Sets with rbf kernel\n",
      "Generating Evaluation sets with context and target points:   None None\n"
     ]
    },
    {
     "name": "stderr",
     "output_type": "stream",
     "text": [
      "100%|##########| 3000/3000 [00:08<00:00, 366.20it/s]\n"
     ]
    },
    {
     "name": "stdout",
     "output_type": "stream",
     "text": [
      "Starting evaluation\n",
      "ROOT:  /rds/user/fz287/hpc-work/MLMI4/results\\gp\\isanp\\isanp-num_latents-64_rbf_0\n"
     ]
    },
    {
     "name": "stderr",
     "output_type": "stream",
     "text": [
      "100%|##########| 3000/3000 [01:26<00:00, 34.71it/s]\n",
      "isanp:isanp-num_latents-64_rbf_0 rbf tar_ll 1.3218 loss -1.3218 (86.422 secs)\n"
     ]
    },
    {
     "name": "stdout",
     "output_type": "stream",
     "text": [
      "Eval has finished\n",
      "###############SEED:  100\n",
      "Overriding argument num_latents: 64\n",
      "Overriding argument d_model: 64\n",
      "Overriding argument emb_depth: 4\n",
      "Overriding argument dim_feedforward: 128\n",
      "Overriding argument nhead: 4\n",
      "Overriding argument dropout: 0.0\n",
      "Overriding argument num_layers: 6\n",
      "True\n",
      "generating evaluation sets...\n",
      "Generating Evaluation Sets with rbf kernel\n",
      "Generating Evaluation sets with context and target points:   None None\n"
     ]
    },
    {
     "name": "stderr",
     "output_type": "stream",
     "text": [
      "100%|##########| 3000/3000 [00:09<00:00, 322.49it/s]\n"
     ]
    },
    {
     "name": "stdout",
     "output_type": "stream",
     "text": [
      "Starting evaluation\n",
      "ROOT:  /rds/user/fz287/hpc-work/MLMI4/results\\gp\\isanp\\isanp-num_latents-64_rbf_0\n"
     ]
    },
    {
     "name": "stderr",
     "output_type": "stream",
     "text": [
      "100%|##########| 3000/3000 [01:35<00:00, 31.51it/s]\n",
      "isanp:isanp-num_latents-64_rbf_0 rbf tar_ll 1.3439 loss -1.3439 (95.198 secs)\n"
     ]
    },
    {
     "name": "stdout",
     "output_type": "stream",
     "text": [
      "Eval has finished\n",
      "###############SEED:  250\n",
      "Overriding argument num_latents: 64\n",
      "Overriding argument d_model: 64\n",
      "Overriding argument emb_depth: 4\n",
      "Overriding argument dim_feedforward: 128\n",
      "Overriding argument nhead: 4\n",
      "Overriding argument dropout: 0.0\n",
      "Overriding argument num_layers: 6\n",
      "True\n",
      "generating evaluation sets...\n",
      "Generating Evaluation Sets with rbf kernel\n",
      "Generating Evaluation sets with context and target points:   None None\n"
     ]
    },
    {
     "name": "stderr",
     "output_type": "stream",
     "text": [
      "100%|##########| 3000/3000 [00:09<00:00, 300.98it/s]\n"
     ]
    },
    {
     "name": "stdout",
     "output_type": "stream",
     "text": [
      "Starting evaluation\n",
      "ROOT:  /rds/user/fz287/hpc-work/MLMI4/results\\gp\\isanp\\isanp-num_latents-64_rbf_0\n"
     ]
    },
    {
     "name": "stderr",
     "output_type": "stream",
     "text": [
      "100%|##########| 3000/3000 [01:48<00:00, 27.70it/s]\n",
      "isanp:isanp-num_latents-64_rbf_0 rbf tar_ll 1.2994 loss -1.2994 (108.291 secs)\n"
     ]
    },
    {
     "name": "stdout",
     "output_type": "stream",
     "text": [
      "Eval has finished\n",
      "###############SEED:  550\n",
      "Overriding argument num_latents: 64\n",
      "Overriding argument d_model: 64\n",
      "Overriding argument emb_depth: 4\n",
      "Overriding argument dim_feedforward: 128\n",
      "Overriding argument nhead: 4\n",
      "Overriding argument dropout: 0.0\n",
      "Overriding argument num_layers: 6\n",
      "True\n",
      "generating evaluation sets...\n",
      "Generating Evaluation Sets with rbf kernel\n",
      "Generating Evaluation sets with context and target points:   None None\n"
     ]
    },
    {
     "name": "stderr",
     "output_type": "stream",
     "text": [
      "100%|##########| 3000/3000 [00:09<00:00, 307.34it/s]\n"
     ]
    },
    {
     "name": "stdout",
     "output_type": "stream",
     "text": [
      "Starting evaluation\n",
      "ROOT:  /rds/user/fz287/hpc-work/MLMI4/results\\gp\\isanp\\isanp-num_latents-64_rbf_0\n"
     ]
    },
    {
     "name": "stderr",
     "output_type": "stream",
     "text": [
      "100%|##########| 3000/3000 [01:57<00:00, 25.54it/s]\n",
      "isanp:isanp-num_latents-64_rbf_0 rbf tar_ll 1.3124 loss -1.3124 (117.464 secs)\n"
     ]
    },
    {
     "name": "stdout",
     "output_type": "stream",
     "text": [
      "Eval has finished\n",
      "###############SEED:  1200\n",
      "Overriding argument num_latents: 64\n",
      "Overriding argument d_model: 64\n",
      "Overriding argument emb_depth: 4\n",
      "Overriding argument dim_feedforward: 128\n",
      "Overriding argument nhead: 4\n",
      "Overriding argument dropout: 0.0\n",
      "Overriding argument num_layers: 6\n",
      "True\n",
      "generating evaluation sets...\n",
      "Generating Evaluation Sets with rbf kernel\n",
      "Generating Evaluation sets with context and target points:   None None\n"
     ]
    },
    {
     "name": "stderr",
     "output_type": "stream",
     "text": [
      "100%|##########| 3000/3000 [00:10<00:00, 296.51it/s]\n"
     ]
    },
    {
     "name": "stdout",
     "output_type": "stream",
     "text": [
      "Starting evaluation\n",
      "ROOT:  /rds/user/fz287/hpc-work/MLMI4/results\\gp\\isanp\\isanp-num_latents-64_rbf_0\n"
     ]
    },
    {
     "name": "stderr",
     "output_type": "stream",
     "text": [
      "100%|##########| 3000/3000 [01:26<00:00, 34.81it/s]\n",
      "isanp:isanp-num_latents-64_rbf_0 rbf tar_ll 1.3331 loss -1.3331 (86.190 secs)\n"
     ]
    },
    {
     "name": "stdout",
     "output_type": "stream",
     "text": [
      "Eval has finished\n",
      "###############MODEL:  isanp-num_latents-128_rbf_0 128\n",
      "###############SEED:  0\n",
      "Overriding argument num_latents: 128\n",
      "Overriding argument d_model: 64\n",
      "Overriding argument emb_depth: 4\n",
      "Overriding argument dim_feedforward: 128\n",
      "Overriding argument nhead: 4\n",
      "Overriding argument dropout: 0.0\n",
      "Overriding argument num_layers: 6\n",
      "True\n",
      "generating evaluation sets...\n",
      "Generating Evaluation Sets with rbf kernel\n",
      "Generating Evaluation sets with context and target points:   None None\n"
     ]
    },
    {
     "name": "stderr",
     "output_type": "stream",
     "text": [
      "100%|##########| 3000/3000 [00:08<00:00, 333.47it/s]\n"
     ]
    },
    {
     "name": "stdout",
     "output_type": "stream",
     "text": [
      "Starting evaluation\n",
      "ROOT:  /rds/user/fz287/hpc-work/MLMI4/results\\gp\\isanp\\isanp-num_latents-128_rbf_0\n"
     ]
    },
    {
     "name": "stderr",
     "output_type": "stream",
     "text": [
      "100%|##########| 3000/3000 [01:32<00:00, 32.56it/s]\n",
      "isanp:isanp-num_latents-128_rbf_0 rbf tar_ll 1.3508 loss -1.3508 (92.130 secs)\n"
     ]
    },
    {
     "name": "stdout",
     "output_type": "stream",
     "text": [
      "Eval has finished\n",
      "###############SEED:  58\n",
      "Overriding argument num_latents: 128\n",
      "Overriding argument d_model: 64\n",
      "Overriding argument emb_depth: 4\n",
      "Overriding argument dim_feedforward: 128\n",
      "Overriding argument nhead: 4\n",
      "Overriding argument dropout: 0.0\n",
      "Overriding argument num_layers: 6\n",
      "True\n",
      "generating evaluation sets...\n",
      "Generating Evaluation Sets with rbf kernel\n",
      "Generating Evaluation sets with context and target points:   None None\n"
     ]
    },
    {
     "name": "stderr",
     "output_type": "stream",
     "text": [
      "100%|##########| 3000/3000 [00:09<00:00, 316.37it/s]\n"
     ]
    },
    {
     "name": "stdout",
     "output_type": "stream",
     "text": [
      "Starting evaluation\n",
      "ROOT:  /rds/user/fz287/hpc-work/MLMI4/results\\gp\\isanp\\isanp-num_latents-128_rbf_0\n"
     ]
    },
    {
     "name": "stderr",
     "output_type": "stream",
     "text": [
      "100%|##########| 3000/3000 [01:45<00:00, 28.40it/s]\n",
      "isanp:isanp-num_latents-128_rbf_0 rbf tar_ll 1.3344 loss -1.3344 (105.697 secs)\n"
     ]
    },
    {
     "name": "stdout",
     "output_type": "stream",
     "text": [
      "Eval has finished\n",
      "###############SEED:  100\n",
      "Overriding argument num_latents: 128\n",
      "Overriding argument d_model: 64\n",
      "Overriding argument emb_depth: 4\n",
      "Overriding argument dim_feedforward: 128\n",
      "Overriding argument nhead: 4\n",
      "Overriding argument dropout: 0.0\n",
      "Overriding argument num_layers: 6\n",
      "True\n",
      "generating evaluation sets...\n",
      "Generating Evaluation Sets with rbf kernel\n",
      "Generating Evaluation sets with context and target points:   None None\n"
     ]
    },
    {
     "name": "stderr",
     "output_type": "stream",
     "text": [
      "100%|##########| 3000/3000 [00:11<00:00, 265.51it/s]\n"
     ]
    },
    {
     "name": "stdout",
     "output_type": "stream",
     "text": [
      "Starting evaluation\n",
      "ROOT:  /rds/user/fz287/hpc-work/MLMI4/results\\gp\\isanp\\isanp-num_latents-128_rbf_0\n"
     ]
    },
    {
     "name": "stderr",
     "output_type": "stream",
     "text": [
      "100%|##########| 3000/3000 [01:54<00:00, 26.29it/s]\n",
      "isanp:isanp-num_latents-128_rbf_0 rbf tar_ll 1.3578 loss -1.3578 (114.107 secs)\n"
     ]
    },
    {
     "name": "stdout",
     "output_type": "stream",
     "text": [
      "Eval has finished\n",
      "###############SEED:  250\n",
      "Overriding argument num_latents: 128\n",
      "Overriding argument d_model: 64\n",
      "Overriding argument emb_depth: 4\n",
      "Overriding argument dim_feedforward: 128\n",
      "Overriding argument nhead: 4\n",
      "Overriding argument dropout: 0.0\n",
      "Overriding argument num_layers: 6\n",
      "True\n",
      "generating evaluation sets...\n",
      "Generating Evaluation Sets with rbf kernel\n",
      "Generating Evaluation sets with context and target points:   None None\n"
     ]
    },
    {
     "name": "stderr",
     "output_type": "stream",
     "text": [
      "100%|##########| 3000/3000 [00:11<00:00, 253.52it/s]\n"
     ]
    },
    {
     "name": "stdout",
     "output_type": "stream",
     "text": [
      "Starting evaluation\n",
      "ROOT:  /rds/user/fz287/hpc-work/MLMI4/results\\gp\\isanp\\isanp-num_latents-128_rbf_0\n"
     ]
    },
    {
     "name": "stderr",
     "output_type": "stream",
     "text": [
      "100%|##########| 3000/3000 [01:28<00:00, 34.04it/s]\n",
      "isanp:isanp-num_latents-128_rbf_0 rbf tar_ll 1.3129 loss -1.3129 (88.143 secs)\n"
     ]
    },
    {
     "name": "stdout",
     "output_type": "stream",
     "text": [
      "Eval has finished\n",
      "###############SEED:  550\n",
      "Overriding argument num_latents: 128\n",
      "Overriding argument d_model: 64\n",
      "Overriding argument emb_depth: 4\n",
      "Overriding argument dim_feedforward: 128\n",
      "Overriding argument nhead: 4\n",
      "Overriding argument dropout: 0.0\n",
      "Overriding argument num_layers: 6\n",
      "True\n",
      "generating evaluation sets...\n",
      "Generating Evaluation Sets with rbf kernel\n",
      "Generating Evaluation sets with context and target points:   None None\n"
     ]
    },
    {
     "name": "stderr",
     "output_type": "stream",
     "text": [
      "100%|##########| 3000/3000 [00:08<00:00, 355.59it/s]\n"
     ]
    },
    {
     "name": "stdout",
     "output_type": "stream",
     "text": [
      "Starting evaluation\n",
      "ROOT:  /rds/user/fz287/hpc-work/MLMI4/results\\gp\\isanp\\isanp-num_latents-128_rbf_0\n"
     ]
    },
    {
     "name": "stderr",
     "output_type": "stream",
     "text": [
      "100%|##########| 3000/3000 [01:31<00:00, 32.82it/s]\n",
      "isanp:isanp-num_latents-128_rbf_0 rbf tar_ll 1.3276 loss -1.3276 (91.411 secs)\n"
     ]
    },
    {
     "name": "stdout",
     "output_type": "stream",
     "text": [
      "Eval has finished\n",
      "###############SEED:  1200\n",
      "Overriding argument num_latents: 128\n",
      "Overriding argument d_model: 64\n",
      "Overriding argument emb_depth: 4\n",
      "Overriding argument dim_feedforward: 128\n",
      "Overriding argument nhead: 4\n",
      "Overriding argument dropout: 0.0\n",
      "Overriding argument num_layers: 6\n",
      "True\n",
      "generating evaluation sets...\n",
      "Generating Evaluation Sets with rbf kernel\n",
      "Generating Evaluation sets with context and target points:   None None\n"
     ]
    },
    {
     "name": "stderr",
     "output_type": "stream",
     "text": [
      "100%|##########| 3000/3000 [00:10<00:00, 299.19it/s]\n"
     ]
    },
    {
     "name": "stdout",
     "output_type": "stream",
     "text": [
      "Starting evaluation\n",
      "ROOT:  /rds/user/fz287/hpc-work/MLMI4/results\\gp\\isanp\\isanp-num_latents-128_rbf_0\n"
     ]
    },
    {
     "name": "stderr",
     "output_type": "stream",
     "text": [
      "100%|##########| 3000/3000 [01:43<00:00, 29.04it/s]\n",
      "isanp:isanp-num_latents-128_rbf_0 rbf tar_ll 1.3466 loss -1.3466 (103.315 secs)\n"
     ]
    },
    {
     "name": "stdout",
     "output_type": "stream",
     "text": [
      "Eval has finished\n",
      "###############MODEL:  isanp-num_latents-256_rbf_0 256\n",
      "###############SEED:  0\n",
      "Overriding argument num_latents: 256\n",
      "Overriding argument d_model: 64\n",
      "Overriding argument emb_depth: 4\n",
      "Overriding argument dim_feedforward: 128\n",
      "Overriding argument nhead: 4\n",
      "Overriding argument dropout: 0.0\n",
      "Overriding argument num_layers: 6\n",
      "True\n",
      "generating evaluation sets...\n",
      "Generating Evaluation Sets with rbf kernel\n",
      "Generating Evaluation sets with context and target points:   None None\n"
     ]
    },
    {
     "name": "stderr",
     "output_type": "stream",
     "text": [
      "100%|##########| 3000/3000 [00:11<00:00, 266.40it/s]\n"
     ]
    },
    {
     "name": "stdout",
     "output_type": "stream",
     "text": [
      "Starting evaluation\n",
      "ROOT:  /rds/user/fz287/hpc-work/MLMI4/results\\gp\\isanp\\isanp-num_latents-256_rbf_0\n"
     ]
    },
    {
     "name": "stderr",
     "output_type": "stream",
     "text": [
      "100%|##########| 3000/3000 [01:56<00:00, 25.72it/s]\n",
      "isanp:isanp-num_latents-256_rbf_0 rbf tar_ll 1.3519 loss -1.3519 (116.653 secs)\n"
     ]
    },
    {
     "name": "stdout",
     "output_type": "stream",
     "text": [
      "Eval has finished\n",
      "###############SEED:  58\n",
      "Overriding argument num_latents: 256\n",
      "Overriding argument d_model: 64\n",
      "Overriding argument emb_depth: 4\n",
      "Overriding argument dim_feedforward: 128\n",
      "Overriding argument nhead: 4\n",
      "Overriding argument dropout: 0.0\n",
      "Overriding argument num_layers: 6\n",
      "True\n",
      "generating evaluation sets...\n",
      "Generating Evaluation Sets with rbf kernel\n",
      "Generating Evaluation sets with context and target points:   None None\n"
     ]
    },
    {
     "name": "stderr",
     "output_type": "stream",
     "text": [
      "100%|##########| 3000/3000 [00:13<00:00, 223.85it/s]\n"
     ]
    },
    {
     "name": "stdout",
     "output_type": "stream",
     "text": [
      "Starting evaluation\n",
      "ROOT:  /rds/user/fz287/hpc-work/MLMI4/results\\gp\\isanp\\isanp-num_latents-256_rbf_0\n"
     ]
    },
    {
     "name": "stderr",
     "output_type": "stream",
     "text": [
      "100%|##########| 3000/3000 [01:41<00:00, 29.60it/s]\n",
      "isanp:isanp-num_latents-256_rbf_0 rbf tar_ll 1.3355 loss -1.3355 (101.369 secs)\n"
     ]
    },
    {
     "name": "stdout",
     "output_type": "stream",
     "text": [
      "Eval has finished\n",
      "###############SEED:  100\n",
      "Overriding argument num_latents: 256\n",
      "Overriding argument d_model: 64\n",
      "Overriding argument emb_depth: 4\n",
      "Overriding argument dim_feedforward: 128\n",
      "Overriding argument nhead: 4\n",
      "Overriding argument dropout: 0.0\n",
      "Overriding argument num_layers: 6\n",
      "True\n",
      "generating evaluation sets...\n",
      "Generating Evaluation Sets with rbf kernel\n",
      "Generating Evaluation sets with context and target points:   None None\n"
     ]
    },
    {
     "name": "stderr",
     "output_type": "stream",
     "text": [
      "100%|##########| 3000/3000 [00:08<00:00, 361.56it/s]\n"
     ]
    },
    {
     "name": "stdout",
     "output_type": "stream",
     "text": [
      "Starting evaluation\n",
      "ROOT:  /rds/user/fz287/hpc-work/MLMI4/results\\gp\\isanp\\isanp-num_latents-256_rbf_0\n"
     ]
    },
    {
     "name": "stderr",
     "output_type": "stream",
     "text": [
      "100%|##########| 3000/3000 [01:33<00:00, 32.11it/s]\n",
      "isanp:isanp-num_latents-256_rbf_0 rbf tar_ll 1.3574 loss -1.3574 (93.447 secs)\n"
     ]
    },
    {
     "name": "stdout",
     "output_type": "stream",
     "text": [
      "Eval has finished\n",
      "###############SEED:  250\n",
      "Overriding argument num_latents: 256\n",
      "Overriding argument d_model: 64\n",
      "Overriding argument emb_depth: 4\n",
      "Overriding argument dim_feedforward: 128\n",
      "Overriding argument nhead: 4\n",
      "Overriding argument dropout: 0.0\n",
      "Overriding argument num_layers: 6\n",
      "True\n",
      "generating evaluation sets...\n",
      "Generating Evaluation Sets with rbf kernel\n",
      "Generating Evaluation sets with context and target points:   None None\n"
     ]
    },
    {
     "name": "stderr",
     "output_type": "stream",
     "text": [
      "100%|##########| 3000/3000 [00:09<00:00, 327.24it/s]\n"
     ]
    },
    {
     "name": "stdout",
     "output_type": "stream",
     "text": [
      "Starting evaluation\n",
      "ROOT:  /rds/user/fz287/hpc-work/MLMI4/results\\gp\\isanp\\isanp-num_latents-256_rbf_0\n"
     ]
    },
    {
     "name": "stderr",
     "output_type": "stream",
     "text": [
      "100%|##########| 3000/3000 [01:45<00:00, 28.55it/s]\n",
      "isanp:isanp-num_latents-256_rbf_0 rbf tar_ll 1.3127 loss -1.3127 (105.101 secs)\n"
     ]
    },
    {
     "name": "stdout",
     "output_type": "stream",
     "text": [
      "Eval has finished\n",
      "###############SEED:  550\n",
      "Overriding argument num_latents: 256\n",
      "Overriding argument d_model: 64\n",
      "Overriding argument emb_depth: 4\n",
      "Overriding argument dim_feedforward: 128\n",
      "Overriding argument nhead: 4\n",
      "Overriding argument dropout: 0.0\n",
      "Overriding argument num_layers: 6\n",
      "True\n",
      "generating evaluation sets...\n",
      "Generating Evaluation Sets with rbf kernel\n",
      "Generating Evaluation sets with context and target points:   None None\n"
     ]
    },
    {
     "name": "stderr",
     "output_type": "stream",
     "text": [
      "100%|##########| 3000/3000 [00:11<00:00, 254.82it/s]\n"
     ]
    },
    {
     "name": "stdout",
     "output_type": "stream",
     "text": [
      "Starting evaluation\n",
      "ROOT:  /rds/user/fz287/hpc-work/MLMI4/results\\gp\\isanp\\isanp-num_latents-256_rbf_0\n"
     ]
    },
    {
     "name": "stderr",
     "output_type": "stream",
     "text": [
      "100%|##########| 3000/3000 [01:52<00:00, 26.78it/s]\n",
      "isanp:isanp-num_latents-256_rbf_0 rbf tar_ll 1.3282 loss -1.3282 (112.036 secs)\n"
     ]
    },
    {
     "name": "stdout",
     "output_type": "stream",
     "text": [
      "Eval has finished\n",
      "###############SEED:  1200\n",
      "Overriding argument num_latents: 256\n",
      "Overriding argument d_model: 64\n",
      "Overriding argument emb_depth: 4\n",
      "Overriding argument dim_feedforward: 128\n",
      "Overriding argument nhead: 4\n",
      "Overriding argument dropout: 0.0\n",
      "Overriding argument num_layers: 6\n",
      "True\n",
      "generating evaluation sets...\n",
      "Generating Evaluation Sets with rbf kernel\n",
      "Generating Evaluation sets with context and target points:   None None\n"
     ]
    },
    {
     "name": "stderr",
     "output_type": "stream",
     "text": [
      "100%|##########| 3000/3000 [00:12<00:00, 248.84it/s]\n"
     ]
    },
    {
     "name": "stdout",
     "output_type": "stream",
     "text": [
      "Starting evaluation\n",
      "ROOT:  /rds/user/fz287/hpc-work/MLMI4/results\\gp\\isanp\\isanp-num_latents-256_rbf_0\n"
     ]
    },
    {
     "name": "stderr",
     "output_type": "stream",
     "text": [
      "100%|##########| 3000/3000 [01:40<00:00, 29.85it/s]\n",
      "isanp:isanp-num_latents-256_rbf_0 rbf tar_ll 1.3468 loss -1.3468 (100.512 secs)\n"
     ]
    },
    {
     "name": "stdout",
     "output_type": "stream",
     "text": [
      "Eval has finished\n"
     ]
    }
   ],
   "source": [
    "model_names=['isanp-num_latents-8_rbf',\n",
    "             'isanp-num_latents-16_rbf_0',\n",
    "             'isanp-num_latents-32_rbf_0',\n",
    "             'isanp-num_latents-64_rbf_0',\n",
    "             'isanp-num_latents-128_rbf_0',\n",
    "            'isanp-num_latents-256_rbf_0'\n",
    "            ]\n",
    "latents_l=[8, 16, 32,64, 128,256]\n",
    "modelito='isanp'\n",
    "\n",
    "for latents, model_name in zip(latents_l, model_names):\n",
    "    print('###############MODEL: ',model_name, latents)\n",
    "    for seed in [0,58,100,250,550,1200]:\n",
    "        print('###############SEED: ',seed)\n",
    "        %run gp_track.py --mode eval --expid {model_name} --model {modelito} --num_latents {latents} --custom_eval True --eval_num_batches 3000 --eval_seed {seed}"
   ]
  },
  {
   "cell_type": "code",
   "execution_count": 25,
   "id": "4f7212d6-60d0-4fa8-b047-0c46c78b7a8c",
   "metadata": {
    "collapsed": true,
    "jupyter": {
     "outputs_hidden": true
    },
    "tags": []
   },
   "outputs": [
    {
     "name": "stdout",
     "output_type": "stream",
     "text": [
      "###############MODEL:  isanp2-num_latents-8_rbf_100 8\n",
      "###############SEED:  0\n",
      "Overriding argument num_latents: 8\n",
      "Overriding argument d_model: 64\n",
      "Overriding argument emb_depth: 4\n",
      "Overriding argument dim_feedforward: 128\n",
      "Overriding argument nhead: 4\n",
      "Overriding argument dropout: 0.0\n",
      "Overriding argument num_layers: 6\n",
      "True\n",
      "generating evaluation sets...\n",
      "Generating Evaluation Sets with rbf kernel\n",
      "Generating Evaluation sets with context and target points:   None None\n"
     ]
    },
    {
     "name": "stderr",
     "output_type": "stream",
     "text": [
      "100%|##########| 3000/3000 [00:08<00:00, 369.67it/s]\n"
     ]
    },
    {
     "name": "stdout",
     "output_type": "stream",
     "text": [
      "Starting evaluation\n",
      "ROOT:  /rds/user/fz287/hpc-work/MLMI4/results\\gp\\isanp2\\isanp2-num_latents-8_rbf_100\n"
     ]
    },
    {
     "name": "stderr",
     "output_type": "stream",
     "text": [
      "100%|##########| 3000/3000 [01:31<00:00, 32.68it/s]\n",
      "isanp2:isanp2-num_latents-8_rbf_100 rbf tar_ll 1.2115 loss -1.2115 (91.800 secs)\n"
     ]
    },
    {
     "name": "stdout",
     "output_type": "stream",
     "text": [
      "Eval has finished\n",
      "###############SEED:  58\n",
      "Overriding argument num_latents: 8\n",
      "Overriding argument d_model: 64\n",
      "Overriding argument emb_depth: 4\n",
      "Overriding argument dim_feedforward: 128\n",
      "Overriding argument nhead: 4\n",
      "Overriding argument dropout: 0.0\n",
      "Overriding argument num_layers: 6\n",
      "True\n",
      "generating evaluation sets...\n",
      "Generating Evaluation Sets with rbf kernel\n",
      "Generating Evaluation sets with context and target points:   None None\n"
     ]
    },
    {
     "name": "stderr",
     "output_type": "stream",
     "text": [
      "100%|##########| 3000/3000 [00:08<00:00, 345.63it/s]\n"
     ]
    },
    {
     "name": "stdout",
     "output_type": "stream",
     "text": [
      "Starting evaluation\n",
      "ROOT:  /rds/user/fz287/hpc-work/MLMI4/results\\gp\\isanp2\\isanp2-num_latents-8_rbf_100\n"
     ]
    },
    {
     "name": "stderr",
     "output_type": "stream",
     "text": [
      "100%|##########| 3000/3000 [01:38<00:00, 30.57it/s]\n",
      "isanp2:isanp2-num_latents-8_rbf_100 rbf tar_ll 1.1968 loss -1.1968 (98.141 secs)\n"
     ]
    },
    {
     "name": "stdout",
     "output_type": "stream",
     "text": [
      "Eval has finished\n",
      "###############SEED:  100\n",
      "Overriding argument num_latents: 8\n",
      "Overriding argument d_model: 64\n",
      "Overriding argument emb_depth: 4\n",
      "Overriding argument dim_feedforward: 128\n",
      "Overriding argument nhead: 4\n",
      "Overriding argument dropout: 0.0\n",
      "Overriding argument num_layers: 6\n",
      "True\n",
      "generating evaluation sets...\n",
      "Generating Evaluation Sets with rbf kernel\n",
      "Generating Evaluation sets with context and target points:   None None\n"
     ]
    },
    {
     "name": "stderr",
     "output_type": "stream",
     "text": [
      "100%|##########| 3000/3000 [00:10<00:00, 286.59it/s]\n"
     ]
    },
    {
     "name": "stdout",
     "output_type": "stream",
     "text": [
      "Starting evaluation\n",
      "ROOT:  /rds/user/fz287/hpc-work/MLMI4/results\\gp\\isanp2\\isanp2-num_latents-8_rbf_100\n"
     ]
    },
    {
     "name": "stderr",
     "output_type": "stream",
     "text": [
      "100%|##########| 3000/3000 [01:52<00:00, 26.76it/s]\n",
      "isanp2:isanp2-num_latents-8_rbf_100 rbf tar_ll 1.2176 loss -1.2176 (112.098 secs)\n"
     ]
    },
    {
     "name": "stdout",
     "output_type": "stream",
     "text": [
      "Eval has finished\n",
      "###############SEED:  250\n",
      "Overriding argument num_latents: 8\n",
      "Overriding argument d_model: 64\n",
      "Overriding argument emb_depth: 4\n",
      "Overriding argument dim_feedforward: 128\n",
      "Overriding argument nhead: 4\n",
      "Overriding argument dropout: 0.0\n",
      "Overriding argument num_layers: 6\n",
      "True\n",
      "generating evaluation sets...\n",
      "Generating Evaluation Sets with rbf kernel\n",
      "Generating Evaluation sets with context and target points:   None None\n"
     ]
    },
    {
     "name": "stderr",
     "output_type": "stream",
     "text": [
      "100%|##########| 3000/3000 [00:12<00:00, 246.40it/s]\n"
     ]
    },
    {
     "name": "stdout",
     "output_type": "stream",
     "text": [
      "Starting evaluation\n",
      "ROOT:  /rds/user/fz287/hpc-work/MLMI4/results\\gp\\isanp2\\isanp2-num_latents-8_rbf_100\n"
     ]
    },
    {
     "name": "stderr",
     "output_type": "stream",
     "text": [
      "100%|##########| 3000/3000 [01:47<00:00, 27.92it/s]\n",
      "isanp2:isanp2-num_latents-8_rbf_100 rbf tar_ll 1.1739 loss -1.1739 (107.463 secs)\n"
     ]
    },
    {
     "name": "stdout",
     "output_type": "stream",
     "text": [
      "Eval has finished\n",
      "###############SEED:  550\n",
      "Overriding argument num_latents: 8\n",
      "Overriding argument d_model: 64\n",
      "Overriding argument emb_depth: 4\n",
      "Overriding argument dim_feedforward: 128\n",
      "Overriding argument nhead: 4\n",
      "Overriding argument dropout: 0.0\n",
      "Overriding argument num_layers: 6\n",
      "True\n",
      "generating evaluation sets...\n",
      "Generating Evaluation Sets with rbf kernel\n",
      "Generating Evaluation sets with context and target points:   None None\n"
     ]
    },
    {
     "name": "stderr",
     "output_type": "stream",
     "text": [
      "100%|##########| 3000/3000 [00:08<00:00, 351.04it/s]\n"
     ]
    },
    {
     "name": "stdout",
     "output_type": "stream",
     "text": [
      "Starting evaluation\n",
      "ROOT:  /rds/user/fz287/hpc-work/MLMI4/results\\gp\\isanp2\\isanp2-num_latents-8_rbf_100\n"
     ]
    },
    {
     "name": "stderr",
     "output_type": "stream",
     "text": [
      "100%|##########| 3000/3000 [01:30<00:00, 33.21it/s]\n",
      "isanp2:isanp2-num_latents-8_rbf_100 rbf tar_ll 1.1888 loss -1.1888 (90.336 secs)\n"
     ]
    },
    {
     "name": "stdout",
     "output_type": "stream",
     "text": [
      "Eval has finished\n",
      "###############SEED:  1200\n",
      "Overriding argument num_latents: 8\n",
      "Overriding argument d_model: 64\n",
      "Overriding argument emb_depth: 4\n",
      "Overriding argument dim_feedforward: 128\n",
      "Overriding argument nhead: 4\n",
      "Overriding argument dropout: 0.0\n",
      "Overriding argument num_layers: 6\n",
      "True\n",
      "generating evaluation sets...\n",
      "Generating Evaluation Sets with rbf kernel\n",
      "Generating Evaluation sets with context and target points:   None None\n"
     ]
    },
    {
     "name": "stderr",
     "output_type": "stream",
     "text": [
      "100%|##########| 3000/3000 [00:09<00:00, 321.00it/s]\n"
     ]
    },
    {
     "name": "stdout",
     "output_type": "stream",
     "text": [
      "Starting evaluation\n",
      "ROOT:  /rds/user/fz287/hpc-work/MLMI4/results\\gp\\isanp2\\isanp2-num_latents-8_rbf_100\n"
     ]
    },
    {
     "name": "stderr",
     "output_type": "stream",
     "text": [
      "100%|##########| 3000/3000 [01:40<00:00, 29.89it/s]\n",
      "isanp2:isanp2-num_latents-8_rbf_100 rbf tar_ll 1.2027 loss -1.2027 (100.381 secs)\n"
     ]
    },
    {
     "name": "stdout",
     "output_type": "stream",
     "text": [
      "Eval has finished\n",
      "###############MODEL:  isanp2-num_latents-16_rbf_100 16\n",
      "###############SEED:  0\n",
      "Overriding argument num_latents: 16\n",
      "Overriding argument d_model: 64\n",
      "Overriding argument emb_depth: 4\n",
      "Overriding argument dim_feedforward: 128\n",
      "Overriding argument nhead: 4\n",
      "Overriding argument dropout: 0.0\n",
      "Overriding argument num_layers: 6\n",
      "True\n",
      "generating evaluation sets...\n",
      "Generating Evaluation Sets with rbf kernel\n",
      "Generating Evaluation sets with context and target points:   None None\n"
     ]
    },
    {
     "name": "stderr",
     "output_type": "stream",
     "text": [
      "100%|##########| 3000/3000 [00:10<00:00, 286.23it/s]\n"
     ]
    },
    {
     "name": "stdout",
     "output_type": "stream",
     "text": [
      "Starting evaluation\n",
      "ROOT:  /rds/user/fz287/hpc-work/MLMI4/results\\gp\\isanp2\\isanp2-num_latents-16_rbf_100\n"
     ]
    },
    {
     "name": "stderr",
     "output_type": "stream",
     "text": [
      "100%|##########| 3000/3000 [01:49<00:00, 27.31it/s]\n",
      "isanp2:isanp2-num_latents-16_rbf_100 rbf tar_ll 1.1835 loss -1.1835 (109.860 secs)\n"
     ]
    },
    {
     "name": "stdout",
     "output_type": "stream",
     "text": [
      "Eval has finished\n",
      "###############SEED:  58\n",
      "Overriding argument num_latents: 16\n",
      "Overriding argument d_model: 64\n",
      "Overriding argument emb_depth: 4\n",
      "Overriding argument dim_feedforward: 128\n",
      "Overriding argument nhead: 4\n",
      "Overriding argument dropout: 0.0\n",
      "Overriding argument num_layers: 6\n",
      "True\n",
      "generating evaluation sets...\n",
      "Generating Evaluation Sets with rbf kernel\n",
      "Generating Evaluation sets with context and target points:   None None\n"
     ]
    },
    {
     "name": "stderr",
     "output_type": "stream",
     "text": [
      "100%|##########| 3000/3000 [00:12<00:00, 244.83it/s]\n"
     ]
    },
    {
     "name": "stdout",
     "output_type": "stream",
     "text": [
      "Starting evaluation\n",
      "ROOT:  /rds/user/fz287/hpc-work/MLMI4/results\\gp\\isanp2\\isanp2-num_latents-16_rbf_100\n"
     ]
    },
    {
     "name": "stderr",
     "output_type": "stream",
     "text": [
      "100%|##########| 3000/3000 [01:52<00:00, 26.74it/s]\n",
      "isanp2:isanp2-num_latents-16_rbf_100 rbf tar_ll 1.1687 loss -1.1687 (112.181 secs)\n"
     ]
    },
    {
     "name": "stdout",
     "output_type": "stream",
     "text": [
      "Eval has finished\n",
      "###############SEED:  100\n",
      "Overriding argument num_latents: 16\n",
      "Overriding argument d_model: 64\n",
      "Overriding argument emb_depth: 4\n",
      "Overriding argument dim_feedforward: 128\n",
      "Overriding argument nhead: 4\n",
      "Overriding argument dropout: 0.0\n",
      "Overriding argument num_layers: 6\n",
      "True\n",
      "generating evaluation sets...\n",
      "Generating Evaluation Sets with rbf kernel\n",
      "Generating Evaluation sets with context and target points:   None None\n"
     ]
    },
    {
     "name": "stderr",
     "output_type": "stream",
     "text": [
      "100%|##########| 3000/3000 [00:08<00:00, 369.28it/s]\n"
     ]
    },
    {
     "name": "stdout",
     "output_type": "stream",
     "text": [
      "Starting evaluation\n",
      "ROOT:  /rds/user/fz287/hpc-work/MLMI4/results\\gp\\isanp2\\isanp2-num_latents-16_rbf_100\n"
     ]
    },
    {
     "name": "stderr",
     "output_type": "stream",
     "text": [
      "100%|##########| 3000/3000 [01:29<00:00, 33.46it/s]\n",
      "isanp2:isanp2-num_latents-16_rbf_100 rbf tar_ll 1.1921 loss -1.1921 (89.665 secs)\n"
     ]
    },
    {
     "name": "stdout",
     "output_type": "stream",
     "text": [
      "Eval has finished\n",
      "###############SEED:  250\n",
      "Overriding argument num_latents: 16\n",
      "Overriding argument d_model: 64\n",
      "Overriding argument emb_depth: 4\n",
      "Overriding argument dim_feedforward: 128\n",
      "Overriding argument nhead: 4\n",
      "Overriding argument dropout: 0.0\n",
      "Overriding argument num_layers: 6\n",
      "True\n",
      "generating evaluation sets...\n",
      "Generating Evaluation Sets with rbf kernel\n",
      "Generating Evaluation sets with context and target points:   None None\n"
     ]
    },
    {
     "name": "stderr",
     "output_type": "stream",
     "text": [
      "100%|##########| 3000/3000 [00:09<00:00, 318.93it/s]\n"
     ]
    },
    {
     "name": "stdout",
     "output_type": "stream",
     "text": [
      "Starting evaluation\n",
      "ROOT:  /rds/user/fz287/hpc-work/MLMI4/results\\gp\\isanp2\\isanp2-num_latents-16_rbf_100\n"
     ]
    },
    {
     "name": "stderr",
     "output_type": "stream",
     "text": [
      "100%|##########| 3000/3000 [01:35<00:00, 31.38it/s]\n",
      "isanp2:isanp2-num_latents-16_rbf_100 rbf tar_ll 1.1472 loss -1.1472 (95.596 secs)\n"
     ]
    },
    {
     "name": "stdout",
     "output_type": "stream",
     "text": [
      "Eval has finished\n",
      "###############SEED:  550\n",
      "Overriding argument num_latents: 16\n",
      "Overriding argument d_model: 64\n",
      "Overriding argument emb_depth: 4\n",
      "Overriding argument dim_feedforward: 128\n",
      "Overriding argument nhead: 4\n",
      "Overriding argument dropout: 0.0\n",
      "Overriding argument num_layers: 6\n",
      "True\n",
      "generating evaluation sets...\n",
      "Generating Evaluation Sets with rbf kernel\n",
      "Generating Evaluation sets with context and target points:   None None\n"
     ]
    },
    {
     "name": "stderr",
     "output_type": "stream",
     "text": [
      "100%|##########| 3000/3000 [00:10<00:00, 286.42it/s]\n"
     ]
    },
    {
     "name": "stdout",
     "output_type": "stream",
     "text": [
      "Starting evaluation\n",
      "ROOT:  /rds/user/fz287/hpc-work/MLMI4/results\\gp\\isanp2\\isanp2-num_latents-16_rbf_100\n"
     ]
    },
    {
     "name": "stderr",
     "output_type": "stream",
     "text": [
      "100%|##########| 3000/3000 [01:46<00:00, 28.26it/s]\n",
      "isanp2:isanp2-num_latents-16_rbf_100 rbf tar_ll 1.1632 loss -1.1632 (106.152 secs)\n"
     ]
    },
    {
     "name": "stdout",
     "output_type": "stream",
     "text": [
      "Eval has finished\n",
      "###############SEED:  1200\n",
      "Overriding argument num_latents: 16\n",
      "Overriding argument d_model: 64\n",
      "Overriding argument emb_depth: 4\n",
      "Overriding argument dim_feedforward: 128\n",
      "Overriding argument nhead: 4\n",
      "Overriding argument dropout: 0.0\n",
      "Overriding argument num_layers: 6\n",
      "True\n",
      "generating evaluation sets...\n",
      "Generating Evaluation Sets with rbf kernel\n",
      "Generating Evaluation sets with context and target points:   None None\n"
     ]
    },
    {
     "name": "stderr",
     "output_type": "stream",
     "text": [
      "100%|##########| 3000/3000 [00:13<00:00, 229.04it/s]\n"
     ]
    },
    {
     "name": "stdout",
     "output_type": "stream",
     "text": [
      "Starting evaluation\n",
      "ROOT:  /rds/user/fz287/hpc-work/MLMI4/results\\gp\\isanp2\\isanp2-num_latents-16_rbf_100\n"
     ]
    },
    {
     "name": "stderr",
     "output_type": "stream",
     "text": [
      "100%|##########| 3000/3000 [01:58<00:00, 25.36it/s]\n",
      "isanp2:isanp2-num_latents-16_rbf_100 rbf tar_ll 1.1758 loss -1.1758 (118.289 secs)\n"
     ]
    },
    {
     "name": "stdout",
     "output_type": "stream",
     "text": [
      "Eval has finished\n",
      "###############MODEL:  isanp2-num_latents-32_rbf_100 32\n",
      "###############SEED:  0\n",
      "Overriding argument num_latents: 32\n",
      "Overriding argument d_model: 64\n",
      "Overriding argument emb_depth: 4\n",
      "Overriding argument dim_feedforward: 128\n",
      "Overriding argument nhead: 4\n",
      "Overriding argument dropout: 0.0\n",
      "Overriding argument num_layers: 6\n",
      "True\n",
      "generating evaluation sets...\n",
      "Generating Evaluation Sets with rbf kernel\n",
      "Generating Evaluation sets with context and target points:   None None\n"
     ]
    },
    {
     "name": "stderr",
     "output_type": "stream",
     "text": [
      "100%|##########| 3000/3000 [00:08<00:00, 362.73it/s]\n"
     ]
    },
    {
     "name": "stdout",
     "output_type": "stream",
     "text": [
      "Starting evaluation\n",
      "ROOT:  /rds/user/fz287/hpc-work/MLMI4/results\\gp\\isanp2\\isanp2-num_latents-32_rbf_100\n"
     ]
    },
    {
     "name": "stderr",
     "output_type": "stream",
     "text": [
      "100%|##########| 3000/3000 [01:27<00:00, 34.44it/s]\n",
      "isanp2:isanp2-num_latents-32_rbf_100 rbf tar_ll 1.1849 loss -1.1849 (87.111 secs)\n"
     ]
    },
    {
     "name": "stdout",
     "output_type": "stream",
     "text": [
      "Eval has finished\n",
      "###############SEED:  58\n",
      "Overriding argument num_latents: 32\n",
      "Overriding argument d_model: 64\n",
      "Overriding argument emb_depth: 4\n",
      "Overriding argument dim_feedforward: 128\n",
      "Overriding argument nhead: 4\n",
      "Overriding argument dropout: 0.0\n",
      "Overriding argument num_layers: 6\n",
      "True\n",
      "generating evaluation sets...\n",
      "Generating Evaluation Sets with rbf kernel\n",
      "Generating Evaluation sets with context and target points:   None None\n"
     ]
    },
    {
     "name": "stderr",
     "output_type": "stream",
     "text": [
      "100%|##########| 3000/3000 [00:09<00:00, 322.75it/s]\n"
     ]
    },
    {
     "name": "stdout",
     "output_type": "stream",
     "text": [
      "Starting evaluation\n",
      "ROOT:  /rds/user/fz287/hpc-work/MLMI4/results\\gp\\isanp2\\isanp2-num_latents-32_rbf_100\n"
     ]
    },
    {
     "name": "stderr",
     "output_type": "stream",
     "text": [
      "100%|##########| 3000/3000 [01:34<00:00, 31.90it/s]\n",
      "isanp2:isanp2-num_latents-32_rbf_100 rbf tar_ll 1.1668 loss -1.1668 (94.046 secs)\n"
     ]
    },
    {
     "name": "stdout",
     "output_type": "stream",
     "text": [
      "Eval has finished\n",
      "###############SEED:  100\n",
      "Overriding argument num_latents: 32\n",
      "Overriding argument d_model: 64\n",
      "Overriding argument emb_depth: 4\n",
      "Overriding argument dim_feedforward: 128\n",
      "Overriding argument nhead: 4\n",
      "Overriding argument dropout: 0.0\n",
      "Overriding argument num_layers: 6\n",
      "True\n",
      "generating evaluation sets...\n",
      "Generating Evaluation Sets with rbf kernel\n",
      "Generating Evaluation sets with context and target points:   None None\n"
     ]
    },
    {
     "name": "stderr",
     "output_type": "stream",
     "text": [
      "100%|##########| 3000/3000 [00:10<00:00, 293.14it/s]\n"
     ]
    },
    {
     "name": "stdout",
     "output_type": "stream",
     "text": [
      "Starting evaluation\n",
      "ROOT:  /rds/user/fz287/hpc-work/MLMI4/results\\gp\\isanp2\\isanp2-num_latents-32_rbf_100\n"
     ]
    },
    {
     "name": "stderr",
     "output_type": "stream",
     "text": [
      "100%|##########| 3000/3000 [01:52<00:00, 26.60it/s]\n",
      "isanp2:isanp2-num_latents-32_rbf_100 rbf tar_ll 1.1897 loss -1.1897 (112.800 secs)\n"
     ]
    },
    {
     "name": "stdout",
     "output_type": "stream",
     "text": [
      "Eval has finished\n",
      "###############SEED:  250\n",
      "Overriding argument num_latents: 32\n",
      "Overriding argument d_model: 64\n",
      "Overriding argument emb_depth: 4\n",
      "Overriding argument dim_feedforward: 128\n",
      "Overriding argument nhead: 4\n",
      "Overriding argument dropout: 0.0\n",
      "Overriding argument num_layers: 6\n",
      "True\n",
      "generating evaluation sets...\n",
      "Generating Evaluation Sets with rbf kernel\n",
      "Generating Evaluation sets with context and target points:   None None\n"
     ]
    },
    {
     "name": "stderr",
     "output_type": "stream",
     "text": [
      "100%|##########| 3000/3000 [00:10<00:00, 278.43it/s]\n"
     ]
    },
    {
     "name": "stdout",
     "output_type": "stream",
     "text": [
      "Starting evaluation\n",
      "ROOT:  /rds/user/fz287/hpc-work/MLMI4/results\\gp\\isanp2\\isanp2-num_latents-32_rbf_100\n"
     ]
    },
    {
     "name": "stderr",
     "output_type": "stream",
     "text": [
      "100%|##########| 3000/3000 [02:05<00:00, 23.91it/s]\n",
      "isanp2:isanp2-num_latents-32_rbf_100 rbf tar_ll 1.1456 loss -1.1456 (125.474 secs)\n"
     ]
    },
    {
     "name": "stdout",
     "output_type": "stream",
     "text": [
      "Eval has finished\n",
      "###############SEED:  550\n",
      "Overriding argument num_latents: 32\n",
      "Overriding argument d_model: 64\n",
      "Overriding argument emb_depth: 4\n",
      "Overriding argument dim_feedforward: 128\n",
      "Overriding argument nhead: 4\n",
      "Overriding argument dropout: 0.0\n",
      "Overriding argument num_layers: 6\n",
      "True\n",
      "generating evaluation sets...\n",
      "Generating Evaluation Sets with rbf kernel\n",
      "Generating Evaluation sets with context and target points:   None None\n"
     ]
    },
    {
     "name": "stderr",
     "output_type": "stream",
     "text": [
      "100%|##########| 3000/3000 [00:09<00:00, 323.72it/s]\n"
     ]
    },
    {
     "name": "stdout",
     "output_type": "stream",
     "text": [
      "Starting evaluation\n",
      "ROOT:  /rds/user/fz287/hpc-work/MLMI4/results\\gp\\isanp2\\isanp2-num_latents-32_rbf_100\n"
     ]
    },
    {
     "name": "stderr",
     "output_type": "stream",
     "text": [
      "100%|##########| 3000/3000 [01:28<00:00, 33.97it/s]\n",
      "isanp2:isanp2-num_latents-32_rbf_100 rbf tar_ll 1.1607 loss -1.1607 (88.320 secs)\n"
     ]
    },
    {
     "name": "stdout",
     "output_type": "stream",
     "text": [
      "Eval has finished\n",
      "###############SEED:  1200\n",
      "Overriding argument num_latents: 32\n",
      "Overriding argument d_model: 64\n",
      "Overriding argument emb_depth: 4\n",
      "Overriding argument dim_feedforward: 128\n",
      "Overriding argument nhead: 4\n",
      "Overriding argument dropout: 0.0\n",
      "Overriding argument num_layers: 6\n",
      "True\n",
      "generating evaluation sets...\n",
      "Generating Evaluation Sets with rbf kernel\n",
      "Generating Evaluation sets with context and target points:   None None\n"
     ]
    },
    {
     "name": "stderr",
     "output_type": "stream",
     "text": [
      "100%|##########| 3000/3000 [00:08<00:00, 346.22it/s]\n"
     ]
    },
    {
     "name": "stdout",
     "output_type": "stream",
     "text": [
      "Starting evaluation\n",
      "ROOT:  /rds/user/fz287/hpc-work/MLMI4/results\\gp\\isanp2\\isanp2-num_latents-32_rbf_100\n"
     ]
    },
    {
     "name": "stderr",
     "output_type": "stream",
     "text": [
      "100%|##########| 3000/3000 [01:40<00:00, 29.89it/s]\n",
      "isanp2:isanp2-num_latents-32_rbf_100 rbf tar_ll 1.1746 loss -1.1746 (100.363 secs)\n"
     ]
    },
    {
     "name": "stdout",
     "output_type": "stream",
     "text": [
      "Eval has finished\n",
      "###############MODEL:  isanp2-num_latents-64_rbf_100 64\n",
      "###############SEED:  0\n",
      "Overriding argument num_latents: 64\n",
      "Overriding argument d_model: 64\n",
      "Overriding argument emb_depth: 4\n",
      "Overriding argument dim_feedforward: 128\n",
      "Overriding argument nhead: 4\n",
      "Overriding argument dropout: 0.0\n",
      "Overriding argument num_layers: 6\n",
      "True\n",
      "generating evaluation sets...\n",
      "Generating Evaluation Sets with rbf kernel\n",
      "Generating Evaluation sets with context and target points:   None None\n"
     ]
    },
    {
     "name": "stderr",
     "output_type": "stream",
     "text": [
      "100%|##########| 3000/3000 [00:09<00:00, 312.63it/s]\n"
     ]
    },
    {
     "name": "stdout",
     "output_type": "stream",
     "text": [
      "Starting evaluation\n",
      "ROOT:  /rds/user/fz287/hpc-work/MLMI4/results\\gp\\isanp2\\isanp2-num_latents-64_rbf_100\n"
     ]
    },
    {
     "name": "stderr",
     "output_type": "stream",
     "text": [
      "100%|##########| 3000/3000 [01:49<00:00, 27.34it/s]\n",
      "isanp2:isanp2-num_latents-64_rbf_100 rbf tar_ll 1.1316 loss -1.1316 (109.744 secs)\n"
     ]
    },
    {
     "name": "stdout",
     "output_type": "stream",
     "text": [
      "Eval has finished\n",
      "###############SEED:  58\n",
      "Overriding argument num_latents: 64\n",
      "Overriding argument d_model: 64\n",
      "Overriding argument emb_depth: 4\n",
      "Overriding argument dim_feedforward: 128\n",
      "Overriding argument nhead: 4\n",
      "Overriding argument dropout: 0.0\n",
      "Overriding argument num_layers: 6\n",
      "True\n",
      "generating evaluation sets...\n",
      "Generating Evaluation Sets with rbf kernel\n",
      "Generating Evaluation sets with context and target points:   None None\n"
     ]
    },
    {
     "name": "stderr",
     "output_type": "stream",
     "text": [
      "100%|##########| 3000/3000 [00:09<00:00, 310.82it/s]\n"
     ]
    },
    {
     "name": "stdout",
     "output_type": "stream",
     "text": [
      "Starting evaluation\n",
      "ROOT:  /rds/user/fz287/hpc-work/MLMI4/results\\gp\\isanp2\\isanp2-num_latents-64_rbf_100\n"
     ]
    },
    {
     "name": "stderr",
     "output_type": "stream",
     "text": [
      "100%|##########| 3000/3000 [02:01<00:00, 24.64it/s]\n",
      "isanp2:isanp2-num_latents-64_rbf_100 rbf tar_ll 1.1125 loss -1.1125 (121.742 secs)\n"
     ]
    },
    {
     "name": "stdout",
     "output_type": "stream",
     "text": [
      "Eval has finished\n",
      "###############SEED:  100\n",
      "Overriding argument num_latents: 64\n",
      "Overriding argument d_model: 64\n",
      "Overriding argument emb_depth: 4\n",
      "Overriding argument dim_feedforward: 128\n",
      "Overriding argument nhead: 4\n",
      "Overriding argument dropout: 0.0\n",
      "Overriding argument num_layers: 6\n",
      "True\n",
      "generating evaluation sets...\n",
      "Generating Evaluation Sets with rbf kernel\n",
      "Generating Evaluation sets with context and target points:   None None\n"
     ]
    },
    {
     "name": "stderr",
     "output_type": "stream",
     "text": [
      "100%|##########| 3000/3000 [00:09<00:00, 325.00it/s]\n"
     ]
    },
    {
     "name": "stdout",
     "output_type": "stream",
     "text": [
      "Starting evaluation\n",
      "ROOT:  /rds/user/fz287/hpc-work/MLMI4/results\\gp\\isanp2\\isanp2-num_latents-64_rbf_100\n"
     ]
    },
    {
     "name": "stderr",
     "output_type": "stream",
     "text": [
      "100%|##########| 3000/3000 [01:28<00:00, 33.90it/s]\n",
      "isanp2:isanp2-num_latents-64_rbf_100 rbf tar_ll 1.1368 loss -1.1368 (88.491 secs)\n"
     ]
    },
    {
     "name": "stdout",
     "output_type": "stream",
     "text": [
      "Eval has finished\n",
      "###############SEED:  250\n",
      "Overriding argument num_latents: 64\n",
      "Overriding argument d_model: 64\n",
      "Overriding argument emb_depth: 4\n",
      "Overriding argument dim_feedforward: 128\n",
      "Overriding argument nhead: 4\n",
      "Overriding argument dropout: 0.0\n",
      "Overriding argument num_layers: 6\n",
      "True\n",
      "generating evaluation sets...\n",
      "Generating Evaluation Sets with rbf kernel\n",
      "Generating Evaluation sets with context and target points:   None None\n"
     ]
    },
    {
     "name": "stderr",
     "output_type": "stream",
     "text": [
      "100%|##########| 3000/3000 [00:09<00:00, 322.71it/s]\n"
     ]
    },
    {
     "name": "stdout",
     "output_type": "stream",
     "text": [
      "Starting evaluation\n",
      "ROOT:  /rds/user/fz287/hpc-work/MLMI4/results\\gp\\isanp2\\isanp2-num_latents-64_rbf_100\n"
     ]
    },
    {
     "name": "stderr",
     "output_type": "stream",
     "text": [
      "100%|##########| 3000/3000 [01:38<00:00, 30.39it/s]\n",
      "isanp2:isanp2-num_latents-64_rbf_100 rbf tar_ll 1.0937 loss -1.0937 (98.711 secs)\n"
     ]
    },
    {
     "name": "stdout",
     "output_type": "stream",
     "text": [
      "Eval has finished\n",
      "###############SEED:  550\n",
      "Overriding argument num_latents: 64\n",
      "Overriding argument d_model: 64\n",
      "Overriding argument emb_depth: 4\n",
      "Overriding argument dim_feedforward: 128\n",
      "Overriding argument nhead: 4\n",
      "Overriding argument dropout: 0.0\n",
      "Overriding argument num_layers: 6\n",
      "True\n",
      "generating evaluation sets...\n",
      "Generating Evaluation Sets with rbf kernel\n",
      "Generating Evaluation sets with context and target points:   None None\n"
     ]
    },
    {
     "name": "stderr",
     "output_type": "stream",
     "text": [
      "100%|##########| 3000/3000 [00:10<00:00, 298.14it/s]\n"
     ]
    },
    {
     "name": "stdout",
     "output_type": "stream",
     "text": [
      "Starting evaluation\n",
      "ROOT:  /rds/user/fz287/hpc-work/MLMI4/results\\gp\\isanp2\\isanp2-num_latents-64_rbf_100\n"
     ]
    },
    {
     "name": "stderr",
     "output_type": "stream",
     "text": [
      "100%|##########| 3000/3000 [01:51<00:00, 26.97it/s]\n",
      "isanp2:isanp2-num_latents-64_rbf_100 rbf tar_ll 1.1084 loss -1.1084 (111.249 secs)\n"
     ]
    },
    {
     "name": "stdout",
     "output_type": "stream",
     "text": [
      "Eval has finished\n",
      "###############SEED:  1200\n",
      "Overriding argument num_latents: 64\n",
      "Overriding argument d_model: 64\n",
      "Overriding argument emb_depth: 4\n",
      "Overriding argument dim_feedforward: 128\n",
      "Overriding argument nhead: 4\n",
      "Overriding argument dropout: 0.0\n",
      "Overriding argument num_layers: 6\n",
      "True\n",
      "generating evaluation sets...\n",
      "Generating Evaluation Sets with rbf kernel\n",
      "Generating Evaluation sets with context and target points:   None None\n"
     ]
    },
    {
     "name": "stderr",
     "output_type": "stream",
     "text": [
      "100%|##########| 3000/3000 [00:10<00:00, 286.68it/s]\n"
     ]
    },
    {
     "name": "stdout",
     "output_type": "stream",
     "text": [
      "Starting evaluation\n",
      "ROOT:  /rds/user/fz287/hpc-work/MLMI4/results\\gp\\isanp2\\isanp2-num_latents-64_rbf_100\n"
     ]
    },
    {
     "name": "stderr",
     "output_type": "stream",
     "text": [
      "100%|##########| 3000/3000 [02:03<00:00, 24.37it/s]\n",
      "isanp2:isanp2-num_latents-64_rbf_100 rbf tar_ll 1.1200 loss -1.1200 (123.089 secs)\n"
     ]
    },
    {
     "name": "stdout",
     "output_type": "stream",
     "text": [
      "Eval has finished\n",
      "###############MODEL:  isanp2-num_latents-128_rbf_100 128\n",
      "###############SEED:  0\n",
      "Overriding argument num_latents: 128\n",
      "Overriding argument d_model: 64\n",
      "Overriding argument emb_depth: 4\n",
      "Overriding argument dim_feedforward: 128\n",
      "Overriding argument nhead: 4\n",
      "Overriding argument dropout: 0.0\n",
      "Overriding argument num_layers: 6\n",
      "True\n",
      "generating evaluation sets...\n",
      "Generating Evaluation Sets with rbf kernel\n",
      "Generating Evaluation sets with context and target points:   None None\n"
     ]
    },
    {
     "name": "stderr",
     "output_type": "stream",
     "text": [
      "100%|##########| 3000/3000 [00:08<00:00, 344.32it/s]\n"
     ]
    },
    {
     "name": "stdout",
     "output_type": "stream",
     "text": [
      "Starting evaluation\n",
      "ROOT:  /rds/user/fz287/hpc-work/MLMI4/results\\gp\\isanp2\\isanp2-num_latents-128_rbf_100\n"
     ]
    },
    {
     "name": "stderr",
     "output_type": "stream",
     "text": [
      "100%|##########| 3000/3000 [01:31<00:00, 32.95it/s]\n",
      "isanp2:isanp2-num_latents-128_rbf_100 rbf tar_ll 1.2071 loss -1.2071 (91.056 secs)\n"
     ]
    },
    {
     "name": "stdout",
     "output_type": "stream",
     "text": [
      "Eval has finished\n",
      "###############SEED:  58\n",
      "Overriding argument num_latents: 128\n",
      "Overriding argument d_model: 64\n",
      "Overriding argument emb_depth: 4\n",
      "Overriding argument dim_feedforward: 128\n",
      "Overriding argument nhead: 4\n",
      "Overriding argument dropout: 0.0\n",
      "Overriding argument num_layers: 6\n",
      "True\n",
      "generating evaluation sets...\n",
      "Generating Evaluation Sets with rbf kernel\n",
      "Generating Evaluation sets with context and target points:   None None\n"
     ]
    },
    {
     "name": "stderr",
     "output_type": "stream",
     "text": [
      "100%|##########| 3000/3000 [00:09<00:00, 330.43it/s]\n"
     ]
    },
    {
     "name": "stdout",
     "output_type": "stream",
     "text": [
      "Starting evaluation\n",
      "ROOT:  /rds/user/fz287/hpc-work/MLMI4/results\\gp\\isanp2\\isanp2-num_latents-128_rbf_100\n"
     ]
    },
    {
     "name": "stderr",
     "output_type": "stream",
     "text": [
      "100%|##########| 3000/3000 [01:39<00:00, 30.10it/s]\n",
      "isanp2:isanp2-num_latents-128_rbf_100 rbf tar_ll 1.1903 loss -1.1903 (99.661 secs)\n"
     ]
    },
    {
     "name": "stdout",
     "output_type": "stream",
     "text": [
      "Eval has finished\n",
      "###############SEED:  100\n",
      "Overriding argument num_latents: 128\n",
      "Overriding argument d_model: 64\n",
      "Overriding argument emb_depth: 4\n",
      "Overriding argument dim_feedforward: 128\n",
      "Overriding argument nhead: 4\n",
      "Overriding argument dropout: 0.0\n",
      "Overriding argument num_layers: 6\n",
      "True\n",
      "generating evaluation sets...\n",
      "Generating Evaluation Sets with rbf kernel\n",
      "Generating Evaluation sets with context and target points:   None None\n"
     ]
    },
    {
     "name": "stderr",
     "output_type": "stream",
     "text": [
      "100%|##########| 3000/3000 [00:10<00:00, 299.14it/s]\n"
     ]
    },
    {
     "name": "stdout",
     "output_type": "stream",
     "text": [
      "Starting evaluation\n",
      "ROOT:  /rds/user/fz287/hpc-work/MLMI4/results\\gp\\isanp2\\isanp2-num_latents-128_rbf_100\n"
     ]
    },
    {
     "name": "stderr",
     "output_type": "stream",
     "text": [
      "100%|##########| 3000/3000 [01:57<00:00, 25.60it/s]\n",
      "isanp2:isanp2-num_latents-128_rbf_100 rbf tar_ll 1.2135 loss -1.2135 (117.175 secs)\n"
     ]
    },
    {
     "name": "stdout",
     "output_type": "stream",
     "text": [
      "Eval has finished\n",
      "###############SEED:  250\n",
      "Overriding argument num_latents: 128\n",
      "Overriding argument d_model: 64\n",
      "Overriding argument emb_depth: 4\n",
      "Overriding argument dim_feedforward: 128\n",
      "Overriding argument nhead: 4\n",
      "Overriding argument dropout: 0.0\n",
      "Overriding argument num_layers: 6\n",
      "True\n",
      "generating evaluation sets...\n",
      "Generating Evaluation Sets with rbf kernel\n",
      "Generating Evaluation sets with context and target points:   None None\n"
     ]
    },
    {
     "name": "stderr",
     "output_type": "stream",
     "text": [
      "100%|##########| 3000/3000 [00:10<00:00, 275.48it/s]\n"
     ]
    },
    {
     "name": "stdout",
     "output_type": "stream",
     "text": [
      "Starting evaluation\n",
      "ROOT:  /rds/user/fz287/hpc-work/MLMI4/results\\gp\\isanp2\\isanp2-num_latents-128_rbf_100\n"
     ]
    },
    {
     "name": "stderr",
     "output_type": "stream",
     "text": [
      "100%|##########| 3000/3000 [02:06<00:00, 23.80it/s]\n",
      "isanp2:isanp2-num_latents-128_rbf_100 rbf tar_ll 1.1693 loss -1.1693 (126.053 secs)\n"
     ]
    },
    {
     "name": "stdout",
     "output_type": "stream",
     "text": [
      "Eval has finished\n",
      "###############SEED:  550\n",
      "Overriding argument num_latents: 128\n",
      "Overriding argument d_model: 64\n",
      "Overriding argument emb_depth: 4\n",
      "Overriding argument dim_feedforward: 128\n",
      "Overriding argument nhead: 4\n",
      "Overriding argument dropout: 0.0\n",
      "Overriding argument num_layers: 6\n",
      "True\n",
      "generating evaluation sets...\n",
      "Generating Evaluation Sets with rbf kernel\n",
      "Generating Evaluation sets with context and target points:   None None\n"
     ]
    },
    {
     "name": "stderr",
     "output_type": "stream",
     "text": [
      "100%|##########| 3000/3000 [00:09<00:00, 301.42it/s]\n"
     ]
    },
    {
     "name": "stdout",
     "output_type": "stream",
     "text": [
      "Starting evaluation\n",
      "ROOT:  /rds/user/fz287/hpc-work/MLMI4/results\\gp\\isanp2\\isanp2-num_latents-128_rbf_100\n"
     ]
    },
    {
     "name": "stderr",
     "output_type": "stream",
     "text": [
      "100%|##########| 3000/3000 [01:32<00:00, 32.27it/s]\n",
      "isanp2:isanp2-num_latents-128_rbf_100 rbf tar_ll 1.1818 loss -1.1818 (92.979 secs)\n"
     ]
    },
    {
     "name": "stdout",
     "output_type": "stream",
     "text": [
      "Eval has finished\n",
      "###############SEED:  1200\n",
      "Overriding argument num_latents: 128\n",
      "Overriding argument d_model: 64\n",
      "Overriding argument emb_depth: 4\n",
      "Overriding argument dim_feedforward: 128\n",
      "Overriding argument nhead: 4\n",
      "Overriding argument dropout: 0.0\n",
      "Overriding argument num_layers: 6\n",
      "True\n",
      "generating evaluation sets...\n",
      "Generating Evaluation Sets with rbf kernel\n",
      "Generating Evaluation sets with context and target points:   None None\n"
     ]
    },
    {
     "name": "stderr",
     "output_type": "stream",
     "text": [
      "100%|##########| 3000/3000 [00:09<00:00, 324.30it/s]\n"
     ]
    },
    {
     "name": "stdout",
     "output_type": "stream",
     "text": [
      "Starting evaluation\n",
      "ROOT:  /rds/user/fz287/hpc-work/MLMI4/results\\gp\\isanp2\\isanp2-num_latents-128_rbf_100\n"
     ]
    },
    {
     "name": "stderr",
     "output_type": "stream",
     "text": [
      "100%|##########| 3000/3000 [01:34<00:00, 31.63it/s]\n",
      "isanp2:isanp2-num_latents-128_rbf_100 rbf tar_ll 1.1987 loss -1.1987 (94.860 secs)\n"
     ]
    },
    {
     "name": "stdout",
     "output_type": "stream",
     "text": [
      "Eval has finished\n",
      "###############MODEL:  isanp2-num_latents-256_rbf_100 256\n",
      "###############SEED:  0\n",
      "Overriding argument num_latents: 256\n",
      "Overriding argument d_model: 64\n",
      "Overriding argument emb_depth: 4\n",
      "Overriding argument dim_feedforward: 128\n",
      "Overriding argument nhead: 4\n",
      "Overriding argument dropout: 0.0\n",
      "Overriding argument num_layers: 6\n",
      "True\n",
      "generating evaluation sets...\n",
      "Generating Evaluation Sets with rbf kernel\n",
      "Generating Evaluation sets with context and target points:   None None\n"
     ]
    },
    {
     "name": "stderr",
     "output_type": "stream",
     "text": [
      "100%|##########| 3000/3000 [00:09<00:00, 327.33it/s]\n"
     ]
    },
    {
     "name": "stdout",
     "output_type": "stream",
     "text": [
      "Starting evaluation\n",
      "ROOT:  /rds/user/fz287/hpc-work/MLMI4/results\\gp\\isanp2\\isanp2-num_latents-256_rbf_100\n"
     ]
    },
    {
     "name": "stderr",
     "output_type": "stream",
     "text": [
      "100%|##########| 3000/3000 [01:49<00:00, 27.28it/s]\n",
      "isanp2:isanp2-num_latents-256_rbf_100 rbf tar_ll 1.1578 loss -1.1578 (109.995 secs)\n"
     ]
    },
    {
     "name": "stdout",
     "output_type": "stream",
     "text": [
      "Eval has finished\n",
      "###############SEED:  58\n",
      "Overriding argument num_latents: 256\n",
      "Overriding argument d_model: 64\n",
      "Overriding argument emb_depth: 4\n",
      "Overriding argument dim_feedforward: 128\n",
      "Overriding argument nhead: 4\n",
      "Overriding argument dropout: 0.0\n",
      "Overriding argument num_layers: 6\n",
      "True\n",
      "generating evaluation sets...\n",
      "Generating Evaluation Sets with rbf kernel\n",
      "Generating Evaluation sets with context and target points:   None None\n"
     ]
    },
    {
     "name": "stderr",
     "output_type": "stream",
     "text": [
      "100%|##########| 3000/3000 [00:10<00:00, 286.27it/s]\n"
     ]
    },
    {
     "name": "stdout",
     "output_type": "stream",
     "text": [
      "Starting evaluation\n",
      "ROOT:  /rds/user/fz287/hpc-work/MLMI4/results\\gp\\isanp2\\isanp2-num_latents-256_rbf_100\n"
     ]
    },
    {
     "name": "stderr",
     "output_type": "stream",
     "text": [
      "100%|##########| 3000/3000 [02:02<00:00, 24.47it/s]\n",
      "isanp2:isanp2-num_latents-256_rbf_100 rbf tar_ll 1.1446 loss -1.1446 (122.619 secs)\n"
     ]
    },
    {
     "name": "stdout",
     "output_type": "stream",
     "text": [
      "Eval has finished\n",
      "###############SEED:  100\n",
      "Overriding argument num_latents: 256\n",
      "Overriding argument d_model: 64\n",
      "Overriding argument emb_depth: 4\n",
      "Overriding argument dim_feedforward: 128\n",
      "Overriding argument nhead: 4\n",
      "Overriding argument dropout: 0.0\n",
      "Overriding argument num_layers: 6\n",
      "True\n",
      "generating evaluation sets...\n",
      "Generating Evaluation Sets with rbf kernel\n",
      "Generating Evaluation sets with context and target points:   None None\n"
     ]
    },
    {
     "name": "stderr",
     "output_type": "stream",
     "text": [
      "100%|##########| 3000/3000 [00:10<00:00, 298.45it/s]\n"
     ]
    },
    {
     "name": "stdout",
     "output_type": "stream",
     "text": [
      "Starting evaluation\n",
      "ROOT:  /rds/user/fz287/hpc-work/MLMI4/results\\gp\\isanp2\\isanp2-num_latents-256_rbf_100\n"
     ]
    },
    {
     "name": "stderr",
     "output_type": "stream",
     "text": [
      "100%|##########| 3000/3000 [01:35<00:00, 31.40it/s]\n",
      "isanp2:isanp2-num_latents-256_rbf_100 rbf tar_ll 1.1646 loss -1.1646 (95.544 secs)\n"
     ]
    },
    {
     "name": "stdout",
     "output_type": "stream",
     "text": [
      "Eval has finished\n",
      "###############SEED:  250\n",
      "Overriding argument num_latents: 256\n",
      "Overriding argument d_model: 64\n",
      "Overriding argument emb_depth: 4\n",
      "Overriding argument dim_feedforward: 128\n",
      "Overriding argument nhead: 4\n",
      "Overriding argument dropout: 0.0\n",
      "Overriding argument num_layers: 6\n",
      "True\n",
      "generating evaluation sets...\n",
      "Generating Evaluation Sets with rbf kernel\n",
      "Generating Evaluation sets with context and target points:   None None\n"
     ]
    },
    {
     "name": "stderr",
     "output_type": "stream",
     "text": [
      "100%|##########| 3000/3000 [00:08<00:00, 340.29it/s]\n"
     ]
    },
    {
     "name": "stdout",
     "output_type": "stream",
     "text": [
      "Starting evaluation\n",
      "ROOT:  /rds/user/fz287/hpc-work/MLMI4/results\\gp\\isanp2\\isanp2-num_latents-256_rbf_100\n"
     ]
    },
    {
     "name": "stderr",
     "output_type": "stream",
     "text": [
      "100%|##########| 3000/3000 [01:43<00:00, 29.02it/s]\n",
      "isanp2:isanp2-num_latents-256_rbf_100 rbf tar_ll 1.1192 loss -1.1192 (103.397 secs)\n"
     ]
    },
    {
     "name": "stdout",
     "output_type": "stream",
     "text": [
      "Eval has finished\n",
      "###############SEED:  550\n",
      "Overriding argument num_latents: 256\n",
      "Overriding argument d_model: 64\n",
      "Overriding argument emb_depth: 4\n",
      "Overriding argument dim_feedforward: 128\n",
      "Overriding argument nhead: 4\n",
      "Overriding argument dropout: 0.0\n",
      "Overriding argument num_layers: 6\n",
      "True\n",
      "generating evaluation sets...\n",
      "Generating Evaluation Sets with rbf kernel\n",
      "Generating Evaluation sets with context and target points:   None None\n"
     ]
    },
    {
     "name": "stderr",
     "output_type": "stream",
     "text": [
      "100%|##########| 3000/3000 [00:10<00:00, 284.24it/s]\n"
     ]
    },
    {
     "name": "stdout",
     "output_type": "stream",
     "text": [
      "Starting evaluation\n",
      "ROOT:  /rds/user/fz287/hpc-work/MLMI4/results\\gp\\isanp2\\isanp2-num_latents-256_rbf_100\n"
     ]
    },
    {
     "name": "stderr",
     "output_type": "stream",
     "text": [
      "100%|##########| 3000/3000 [01:50<00:00, 27.25it/s]\n",
      "isanp2:isanp2-num_latents-256_rbf_100 rbf tar_ll 1.1342 loss -1.1342 (110.084 secs)\n"
     ]
    },
    {
     "name": "stdout",
     "output_type": "stream",
     "text": [
      "Eval has finished\n",
      "###############SEED:  1200\n",
      "Overriding argument num_latents: 256\n",
      "Overriding argument d_model: 64\n",
      "Overriding argument emb_depth: 4\n",
      "Overriding argument dim_feedforward: 128\n",
      "Overriding argument nhead: 4\n",
      "Overriding argument dropout: 0.0\n",
      "Overriding argument num_layers: 6\n",
      "True\n",
      "generating evaluation sets...\n",
      "Generating Evaluation Sets with rbf kernel\n",
      "Generating Evaluation sets with context and target points:   None None\n"
     ]
    },
    {
     "name": "stderr",
     "output_type": "stream",
     "text": [
      "100%|##########| 3000/3000 [00:10<00:00, 284.73it/s]\n"
     ]
    },
    {
     "name": "stdout",
     "output_type": "stream",
     "text": [
      "Starting evaluation\n",
      "ROOT:  /rds/user/fz287/hpc-work/MLMI4/results\\gp\\isanp2\\isanp2-num_latents-256_rbf_100\n"
     ]
    },
    {
     "name": "stderr",
     "output_type": "stream",
     "text": [
      "100%|##########| 3000/3000 [02:01<00:00, 24.68it/s]\n",
      "isanp2:isanp2-num_latents-256_rbf_100 rbf tar_ll 1.1505 loss -1.1505 (121.567 secs)\n"
     ]
    },
    {
     "name": "stdout",
     "output_type": "stream",
     "text": [
      "Eval has finished\n"
     ]
    }
   ],
   "source": [
    "model_names=['isanp2-num_latents-8_rbf_100',\n",
    "             'isanp2-num_latents-16_rbf_100',\n",
    "             'isanp2-num_latents-32_rbf_100',\n",
    "             'isanp2-num_latents-64_rbf_100',\n",
    "             'isanp2-num_latents-128_rbf_100',\n",
    "            'isanp2-num_latents-256_rbf_100']\n",
    "latents_l=[8, 16, 32,64, 128,256]\n",
    "modelito='isanp2'\n",
    "\n",
    "for latents, model_name in zip(latents_l, model_names):\n",
    "    print('###############MODEL: ',model_name, latents)\n",
    "    for seed in [0,58,100,250,550,1200]:\n",
    "        print('###############SEED: ',seed)\n",
    "        %run gp_track.py --mode eval --expid {model_name} --model {modelito} --num_latents {latents} --custom_eval True --eval_num_batches 3000 --eval_seed {seed}"
   ]
  },
  {
   "cell_type": "code",
   "execution_count": null,
   "id": "2f26a3b4-a569-4613-8c1f-5b97c913dfae",
   "metadata": {},
   "outputs": [],
   "source": []
  },
  {
   "cell_type": "code",
   "execution_count": null,
   "id": "046e840c-6952-4cfc-9aaf-73022b454c2b",
   "metadata": {},
   "outputs": [],
   "source": [
    "model_names=['lbanp-num_latents-8_rbf',\n",
    "             'lbanp-num_latents-16_rbf',\n",
    "             'lbanp-num_latents-32_rbf',\n",
    "             'lbanp-num_latents-128_rbf',\n",
    "            'lbanp-num_latents-256_rbf']\n",
    "latents_l=[8, 16, 32, 128,256]\n",
    "modelito='lbanp'\n",
    "\n",
    "for latents, model_name in zip(latents_l, model_names):\n",
    "    print('###############MODEL: ',model_name, latents)\n",
    "    for seed in [0,58,100,250,550,1200]:\n",
    "        print('###############SEED: ',seed)\n",
    "        %run gp_track.py --mode eval --expid {model_name} --model {modelito} --num_latents {latents} --custom_eval True --eval_num_batches 3000 --eval_seed {seed}"
   ]
  },
  {
   "cell_type": "code",
   "execution_count": null,
   "id": "cd801372-a011-4bc6-9619-66afdf8a9359",
   "metadata": {},
   "outputs": [],
   "source": [
    "for seed in [0,58,100,250,550,1200]:\n",
    "    print('###############SEED: ',seed)\n",
    "    %run gp_track.py --mode eval --expid np_rbf --model np --custom_eval True --eval_num_batches 3000 --eval_seed {seed}"
   ]
  },
  {
   "cell_type": "code",
   "execution_count": null,
   "id": "c4a2bd83-890c-401c-9c86-293bbcac1ffd",
   "metadata": {},
   "outputs": [],
   "source": [
    "model_names=['isanp-num_latents-8_rbf']\n",
    "latents_l=[8, 16, 32,64, 128,256]\n",
    "modelito='isanp'\n",
    "\n",
    "for latents, model_name in zip(latents_l, model_names):\n",
    "    print('###############MODEL: ',model_name, latents)\n",
    "    for seed in [0,58,100,250,550,1200]:\n",
    "        print('###############SEED: ',seed)\n",
    "        %run gp_track.py --mode eval --expid {model_name} --model {modelito} --num_latents {latents} --custom_eval True --eval_num_batches 3000 --eval_seed {seed}"
   ]
  },
  {
   "cell_type": "code",
   "execution_count": 1,
   "id": "7a0abc4a-2ebc-41df-bfa6-8f068a63e760",
   "metadata": {
    "collapsed": true,
    "jupyter": {
     "outputs_hidden": true
    },
    "tags": []
   },
   "outputs": [
    {
     "name": "stdout",
     "output_type": "stream",
     "text": [
      "###############SEED:  0\n",
      "True\n",
      "generating evaluation sets...\n",
      "Generating Evaluation Sets with rbf kernel\n",
      "Generating Evaluation sets with context and target points:   None None\n"
     ]
    },
    {
     "name": "stderr",
     "output_type": "stream",
     "text": [
      "100%|##########| 3000/3000 [00:04<00:00, 733.61it/s]\n"
     ]
    },
    {
     "name": "stdout",
     "output_type": "stream",
     "text": [
      "Starting evaluation\n",
      "ROOT:  /rds/user/fz287/hpc-work/MLMI4/results\\gp\\cnp\\cnp\n"
     ]
    },
    {
     "name": "stderr",
     "output_type": "stream",
     "text": [
      "100%|##########| 3000/3000 [00:04<00:00, 640.48it/s]\n",
      "cnp:cnp rbf ctx_ll 0.7169 tar_ll 0.2602 (4.686 secs)\n"
     ]
    },
    {
     "name": "stdout",
     "output_type": "stream",
     "text": [
      "Eval has finished\n",
      "###############SEED:  58\n",
      "True\n",
      "generating evaluation sets...\n",
      "Generating Evaluation Sets with rbf kernel\n",
      "Generating Evaluation sets with context and target points:   None None\n"
     ]
    },
    {
     "name": "stderr",
     "output_type": "stream",
     "text": [
      "100%|##########| 3000/3000 [00:05<00:00, 595.22it/s]\n"
     ]
    },
    {
     "name": "stdout",
     "output_type": "stream",
     "text": [
      "Starting evaluation\n",
      "ROOT:  /rds/user/fz287/hpc-work/MLMI4/results\\gp\\cnp\\cnp\n"
     ]
    },
    {
     "name": "stderr",
     "output_type": "stream",
     "text": [
      "100%|##########| 3000/3000 [00:05<00:00, 580.43it/s]\n",
      "cnp:cnp rbf ctx_ll 0.7065 tar_ll 0.2407 (5.170 secs)\n",
      "cnp:cnp rbf ctx_ll 0.7065 tar_ll 0.2407 (5.170 secs)\n"
     ]
    },
    {
     "name": "stdout",
     "output_type": "stream",
     "text": [
      "Eval has finished\n",
      "###############SEED:  100\n",
      "True\n",
      "generating evaluation sets...\n",
      "Generating Evaluation Sets with rbf kernel\n",
      "Generating Evaluation sets with context and target points:   None None\n"
     ]
    },
    {
     "name": "stderr",
     "output_type": "stream",
     "text": [
      "100%|##########| 3000/3000 [00:04<00:00, 604.30it/s]\n"
     ]
    },
    {
     "name": "stdout",
     "output_type": "stream",
     "text": [
      "Starting evaluation\n",
      "ROOT:  /rds/user/fz287/hpc-work/MLMI4/results\\gp\\cnp\\cnp\n"
     ]
    },
    {
     "name": "stderr",
     "output_type": "stream",
     "text": [
      "100%|##########| 3000/3000 [00:04<00:00, 603.60it/s]\n",
      "cnp:cnp rbf ctx_ll 0.7114 tar_ll 0.2576 (4.971 secs)\n"
     ]
    },
    {
     "name": "stdout",
     "output_type": "stream",
     "text": [
      "Eval has finished\n",
      "###############SEED:  250\n",
      "True\n",
      "generating evaluation sets...\n",
      "Generating Evaluation Sets with rbf kernel\n",
      "Generating Evaluation sets with context and target points:   None None\n"
     ]
    },
    {
     "name": "stderr",
     "output_type": "stream",
     "text": [
      "100%|##########| 3000/3000 [00:05<00:00, 529.96it/s]\n"
     ]
    },
    {
     "name": "stdout",
     "output_type": "stream",
     "text": [
      "Starting evaluation\n",
      "ROOT:  /rds/user/fz287/hpc-work/MLMI4/results\\gp\\cnp\\cnp\n"
     ]
    },
    {
     "name": "stderr",
     "output_type": "stream",
     "text": [
      "100%|##########| 3000/3000 [00:05<00:00, 538.97it/s]\n",
      "cnp:cnp rbf ctx_ll 0.7075 tar_ll 0.2308 (5.569 secs)\n"
     ]
    },
    {
     "name": "stdout",
     "output_type": "stream",
     "text": [
      "Eval has finished\n",
      "###############SEED:  550\n",
      "True\n",
      "generating evaluation sets...\n",
      "Generating Evaluation Sets with rbf kernel\n",
      "Generating Evaluation sets with context and target points:   None None\n"
     ]
    },
    {
     "name": "stderr",
     "output_type": "stream",
     "text": [
      "100%|##########| 3000/3000 [00:05<00:00, 594.29it/s]\n"
     ]
    },
    {
     "name": "stdout",
     "output_type": "stream",
     "text": [
      "Starting evaluation\n",
      "ROOT:  /rds/user/fz287/hpc-work/MLMI4/results\\gp\\cnp\\cnp\n"
     ]
    },
    {
     "name": "stderr",
     "output_type": "stream",
     "text": [
      "100%|##########| 3000/3000 [00:05<00:00, 555.27it/s]\n",
      "cnp:cnp rbf ctx_ll 0.7055 tar_ll 0.2346 (5.405 secs)\n"
     ]
    },
    {
     "name": "stdout",
     "output_type": "stream",
     "text": [
      "Eval has finished\n",
      "###############SEED:  1200\n",
      "True\n",
      "generating evaluation sets...\n",
      "Generating Evaluation Sets with rbf kernel\n",
      "Generating Evaluation sets with context and target points:   None None\n"
     ]
    },
    {
     "name": "stderr",
     "output_type": "stream",
     "text": [
      "100%|##########| 3000/3000 [00:05<00:00, 585.71it/s]\n"
     ]
    },
    {
     "name": "stdout",
     "output_type": "stream",
     "text": [
      "Starting evaluation\n",
      "ROOT:  /rds/user/fz287/hpc-work/MLMI4/results\\gp\\cnp\\cnp\n"
     ]
    },
    {
     "name": "stderr",
     "output_type": "stream",
     "text": [
      "100%|##########| 3000/3000 [00:05<00:00, 562.72it/s]\n",
      "cnp:cnp rbf ctx_ll 0.7093 tar_ll 0.2486 (5.332 secs)\n"
     ]
    },
    {
     "name": "stdout",
     "output_type": "stream",
     "text": [
      "Eval has finished\n"
     ]
    }
   ],
   "source": [
    "for seed in [0,58,100,250,550,1200]:\n",
    "    print('###############SEED: ',seed)\n",
    "    %run gp_track.py --mode eval --expid cnp --model cnp --custom_eval True --eval_num_batches 3000 --eval_seed {seed}"
   ]
  },
  {
   "cell_type": "code",
   "execution_count": 2,
   "id": "ec284583-5329-40ef-9c29-0ebfb2a24a23",
   "metadata": {
    "collapsed": true,
    "jupyter": {
     "outputs_hidden": true
    },
    "tags": []
   },
   "outputs": [
    {
     "name": "stdout",
     "output_type": "stream",
     "text": [
      "###############MODEL:  lbanp-num_latents-128_rbf_0 128\n",
      "###############SEED:  0\n",
      "Overriding argument num_latents: 128\n",
      "Overriding argument d_model: 64\n",
      "Overriding argument emb_depth: 4\n",
      "Overriding argument dim_feedforward: 128\n",
      "Overriding argument nhead: 4\n",
      "Overriding argument dropout: 0.0\n",
      "Overriding argument num_layers: 6\n",
      "True\n",
      "generating evaluation sets...\n",
      "Generating Evaluation Sets with rbf kernel\n",
      "Generating Evaluation sets with context and target points:   None None\n"
     ]
    },
    {
     "name": "stderr",
     "output_type": "stream",
     "text": [
      "100%|##########| 3000/3000 [00:04<00:00, 605.37it/s]\n"
     ]
    },
    {
     "name": "stdout",
     "output_type": "stream",
     "text": [
      "Starting evaluation\n",
      "ROOT:  /rds/user/fz287/hpc-work/MLMI4/results\\gp\\lbanp\\lbanp-num_latents-128_rbf_0\n"
     ]
    },
    {
     "name": "stderr",
     "output_type": "stream",
     "text": [
      "100%|##########| 3000/3000 [00:43<00:00, 69.47it/s]\n",
      "lbanp:lbanp-num_latents-128_rbf_0 rbf tar_ll 1.2540 loss -1.2540 (43.185 secs)\n"
     ]
    },
    {
     "name": "stdout",
     "output_type": "stream",
     "text": [
      "Eval has finished\n",
      "###############SEED:  58\n",
      "Overriding argument num_latents: 128\n",
      "Overriding argument d_model: 64\n",
      "Overriding argument emb_depth: 4\n",
      "Overriding argument dim_feedforward: 128\n",
      "Overriding argument nhead: 4\n",
      "Overriding argument dropout: 0.0\n",
      "Overriding argument num_layers: 6\n",
      "True\n",
      "generating evaluation sets...\n",
      "Generating Evaluation Sets with rbf kernel\n",
      "Generating Evaluation sets with context and target points:   None None\n"
     ]
    },
    {
     "name": "stderr",
     "output_type": "stream",
     "text": [
      "100%|##########| 3000/3000 [00:04<00:00, 650.00it/s]\n"
     ]
    },
    {
     "name": "stdout",
     "output_type": "stream",
     "text": [
      "Starting evaluation\n",
      "ROOT:  /rds/user/fz287/hpc-work/MLMI4/results\\gp\\lbanp\\lbanp-num_latents-128_rbf_0\n"
     ]
    },
    {
     "name": "stderr",
     "output_type": "stream",
     "text": [
      "100%|##########| 3000/3000 [00:41<00:00, 72.75it/s]\n",
      "lbanp:lbanp-num_latents-128_rbf_0 rbf tar_ll 1.2411 loss -1.2411 (41.236 secs)\n"
     ]
    },
    {
     "name": "stdout",
     "output_type": "stream",
     "text": [
      "Eval has finished\n",
      "###############SEED:  100\n",
      "Overriding argument num_latents: 128\n",
      "Overriding argument d_model: 64\n",
      "Overriding argument emb_depth: 4\n",
      "Overriding argument dim_feedforward: 128\n",
      "Overriding argument nhead: 4\n",
      "Overriding argument dropout: 0.0\n",
      "Overriding argument num_layers: 6\n",
      "True\n",
      "generating evaluation sets...\n",
      "Generating Evaluation Sets with rbf kernel\n",
      "Generating Evaluation sets with context and target points:   None None\n"
     ]
    },
    {
     "name": "stderr",
     "output_type": "stream",
     "text": [
      "100%|##########| 3000/3000 [00:04<00:00, 659.44it/s]\n"
     ]
    },
    {
     "name": "stdout",
     "output_type": "stream",
     "text": [
      "Starting evaluation\n",
      "ROOT:  /rds/user/fz287/hpc-work/MLMI4/results\\gp\\lbanp\\lbanp-num_latents-128_rbf_0\n"
     ]
    },
    {
     "name": "stderr",
     "output_type": "stream",
     "text": [
      "100%|##########| 3000/3000 [00:37<00:00, 80.12it/s]\n",
      "lbanp:lbanp-num_latents-128_rbf_0 rbf tar_ll 1.2638 loss -1.2638 (37.442 secs)\n"
     ]
    },
    {
     "name": "stdout",
     "output_type": "stream",
     "text": [
      "Eval has finished\n",
      "###############SEED:  250\n",
      "Overriding argument num_latents: 128\n",
      "Overriding argument d_model: 64\n",
      "Overriding argument emb_depth: 4\n",
      "Overriding argument dim_feedforward: 128\n",
      "Overriding argument nhead: 4\n",
      "Overriding argument dropout: 0.0\n",
      "Overriding argument num_layers: 6\n",
      "True\n",
      "generating evaluation sets...\n",
      "Generating Evaluation Sets with rbf kernel\n",
      "Generating Evaluation sets with context and target points:   None None\n"
     ]
    },
    {
     "name": "stderr",
     "output_type": "stream",
     "text": [
      "100%|##########| 3000/3000 [00:04<00:00, 700.34it/s]\n"
     ]
    },
    {
     "name": "stdout",
     "output_type": "stream",
     "text": [
      "Starting evaluation\n",
      "ROOT:  /rds/user/fz287/hpc-work/MLMI4/results\\gp\\lbanp\\lbanp-num_latents-128_rbf_0\n"
     ]
    },
    {
     "name": "stderr",
     "output_type": "stream",
     "text": [
      "100%|##########| 3000/3000 [00:39<00:00, 76.61it/s]\n",
      "lbanp:lbanp-num_latents-128_rbf_0 rbf tar_ll 1.2175 loss -1.2175 (39.160 secs)\n"
     ]
    },
    {
     "name": "stdout",
     "output_type": "stream",
     "text": [
      "Eval has finished\n",
      "###############SEED:  550\n",
      "Overriding argument num_latents: 128\n",
      "Overriding argument d_model: 64\n",
      "Overriding argument emb_depth: 4\n",
      "Overriding argument dim_feedforward: 128\n",
      "Overriding argument nhead: 4\n",
      "Overriding argument dropout: 0.0\n",
      "Overriding argument num_layers: 6\n",
      "True\n",
      "generating evaluation sets...\n",
      "Generating Evaluation Sets with rbf kernel\n",
      "Generating Evaluation sets with context and target points:   None None\n"
     ]
    },
    {
     "name": "stderr",
     "output_type": "stream",
     "text": [
      "100%|##########| 3000/3000 [00:04<00:00, 683.69it/s]\n"
     ]
    },
    {
     "name": "stdout",
     "output_type": "stream",
     "text": [
      "Starting evaluation\n",
      "ROOT:  /rds/user/fz287/hpc-work/MLMI4/results\\gp\\lbanp\\lbanp-num_latents-128_rbf_0\n"
     ]
    },
    {
     "name": "stderr",
     "output_type": "stream",
     "text": [
      "100%|##########| 3000/3000 [00:35<00:00, 84.66it/s]\n",
      "lbanp:lbanp-num_latents-128_rbf_0 rbf tar_ll 1.2318 loss -1.2318 (35.438 secs)\n"
     ]
    },
    {
     "name": "stdout",
     "output_type": "stream",
     "text": [
      "Eval has finished\n",
      "###############SEED:  1200\n",
      "Overriding argument num_latents: 128\n",
      "Overriding argument d_model: 64\n",
      "Overriding argument emb_depth: 4\n",
      "Overriding argument dim_feedforward: 128\n",
      "Overriding argument nhead: 4\n",
      "Overriding argument dropout: 0.0\n",
      "Overriding argument num_layers: 6\n",
      "True\n",
      "generating evaluation sets...\n",
      "Generating Evaluation Sets with rbf kernel\n",
      "Generating Evaluation sets with context and target points:   None None\n"
     ]
    },
    {
     "name": "stderr",
     "output_type": "stream",
     "text": [
      "100%|##########| 3000/3000 [00:04<00:00, 712.68it/s]\n"
     ]
    },
    {
     "name": "stdout",
     "output_type": "stream",
     "text": [
      "Starting evaluation\n",
      "ROOT:  /rds/user/fz287/hpc-work/MLMI4/results\\gp\\lbanp\\lbanp-num_latents-128_rbf_0\n"
     ]
    },
    {
     "name": "stderr",
     "output_type": "stream",
     "text": [
      "100%|##########| 3000/3000 [00:37<00:00, 79.91it/s]\n",
      "lbanp:lbanp-num_latents-128_rbf_0 rbf tar_ll 1.2518 loss -1.2518 (37.540 secs)\n"
     ]
    },
    {
     "name": "stdout",
     "output_type": "stream",
     "text": [
      "Eval has finished\n"
     ]
    }
   ],
   "source": [
    "model_names=['lbanp-num_latents-128_rbf_0']\n",
    "latents_l=[128]\n",
    "modelito='lbanp'\n",
    "\n",
    "for latents, model_name in zip(latents_l, model_names):\n",
    "    print('###############MODEL: ',model_name, latents)\n",
    "    for seed in [0,58,100,250,550,1200]:\n",
    "        print('###############SEED: ',seed)\n",
    "        %run gp_track.py --mode eval --expid {model_name} --model {modelito} --num_latents {latents} --custom_eval True --eval_num_batches 3000 --eval_seed {seed}"
   ]
  },
  {
   "cell_type": "code",
   "execution_count": 10,
   "id": "3e6055ce-56e7-4169-a7eb-c2f924bee4c5",
   "metadata": {
    "tags": []
   },
   "outputs": [
    {
     "name": "stdout",
     "output_type": "stream",
     "text": [
      "###############MODEL:  lbanp-num_latents-256_rbf_ 256\n",
      "###############SEED:  0\n",
      "Overriding argument num_latents: 256\n",
      "Overriding argument d_model: 64\n",
      "Overriding argument emb_depth: 4\n",
      "Overriding argument dim_feedforward: 128\n",
      "Overriding argument nhead: 4\n",
      "Overriding argument dropout: 0.0\n",
      "Overriding argument num_layers: 6\n",
      "True\n",
      "generating evaluation sets...\n",
      "Generating Evaluation Sets with rbf kernel\n",
      "Generating Evaluation sets with context and target points:   None None\n"
     ]
    },
    {
     "name": "stderr",
     "output_type": "stream",
     "text": [
      "100%|##########| 3000/3000 [00:03<00:00, 758.46it/s]\n"
     ]
    },
    {
     "name": "stdout",
     "output_type": "stream",
     "text": [
      "Starting evaluation\n",
      "ROOT:  /rds/user/fz287/hpc-work/MLMI4/results\\gp\\lbanp\\lbanp-num_latents-256_rbf_\n"
     ]
    },
    {
     "name": "stderr",
     "output_type": "stream",
     "text": [
      "100%|##########| 3000/3000 [00:48<00:00, 62.48it/s]\n",
      "lbanp:lbanp-num_latents-256_rbf_ rbf tar_ll 0.8236 loss -0.8236 (48.016 secs)\n"
     ]
    },
    {
     "name": "stdout",
     "output_type": "stream",
     "text": [
      "Eval has finished\n",
      "###############SEED:  58\n",
      "Overriding argument num_latents: 256\n",
      "Overriding argument d_model: 64\n",
      "Overriding argument emb_depth: 4\n",
      "Overriding argument dim_feedforward: 128\n",
      "Overriding argument nhead: 4\n",
      "Overriding argument dropout: 0.0\n",
      "Overriding argument num_layers: 6\n",
      "True\n",
      "generating evaluation sets...\n",
      "Generating Evaluation Sets with rbf kernel\n",
      "Generating Evaluation sets with context and target points:   None None\n"
     ]
    },
    {
     "name": "stderr",
     "output_type": "stream",
     "text": [
      "100%|##########| 3000/3000 [00:04<00:00, 672.25it/s]\n"
     ]
    },
    {
     "name": "stdout",
     "output_type": "stream",
     "text": [
      "Starting evaluation\n",
      "ROOT:  /rds/user/fz287/hpc-work/MLMI4/results\\gp\\lbanp\\lbanp-num_latents-256_rbf_\n"
     ]
    },
    {
     "name": "stderr",
     "output_type": "stream",
     "text": [
      "100%|##########| 3000/3000 [00:42<00:00, 69.90it/s]\n",
      "lbanp:lbanp-num_latents-256_rbf_ rbf tar_ll 0.8041 loss -0.8041 (42.921 secs)\n"
     ]
    },
    {
     "name": "stdout",
     "output_type": "stream",
     "text": [
      "Eval has finished\n",
      "###############SEED:  100\n",
      "Overriding argument num_latents: 256\n",
      "Overriding argument d_model: 64\n",
      "Overriding argument emb_depth: 4\n",
      "Overriding argument dim_feedforward: 128\n",
      "Overriding argument nhead: 4\n",
      "Overriding argument dropout: 0.0\n",
      "Overriding argument num_layers: 6\n",
      "True\n",
      "generating evaluation sets...\n",
      "Generating Evaluation Sets with rbf kernel\n",
      "Generating Evaluation sets with context and target points:   None None\n"
     ]
    },
    {
     "name": "stderr",
     "output_type": "stream",
     "text": [
      "100%|##########| 3000/3000 [00:04<00:00, 650.64it/s]\n"
     ]
    },
    {
     "name": "stdout",
     "output_type": "stream",
     "text": [
      "Starting evaluation\n",
      "ROOT:  /rds/user/fz287/hpc-work/MLMI4/results\\gp\\lbanp\\lbanp-num_latents-256_rbf_\n"
     ]
    },
    {
     "name": "stderr",
     "output_type": "stream",
     "text": [
      "100%|##########| 3000/3000 [00:43<00:00, 69.10it/s]\n",
      "lbanp:lbanp-num_latents-256_rbf_ rbf tar_ll 0.8269 loss -0.8269 (43.418 secs)\n"
     ]
    },
    {
     "name": "stdout",
     "output_type": "stream",
     "text": [
      "Eval has finished\n",
      "###############SEED:  250\n",
      "Overriding argument num_latents: 256\n",
      "Overriding argument d_model: 64\n",
      "Overriding argument emb_depth: 4\n",
      "Overriding argument dim_feedforward: 128\n",
      "Overriding argument nhead: 4\n",
      "Overriding argument dropout: 0.0\n",
      "Overriding argument num_layers: 6\n",
      "True\n",
      "generating evaluation sets...\n",
      "Generating Evaluation Sets with rbf kernel\n",
      "Generating Evaluation sets with context and target points:   None None\n"
     ]
    },
    {
     "name": "stderr",
     "output_type": "stream",
     "text": [
      "100%|##########| 3000/3000 [00:04<00:00, 668.32it/s]\n"
     ]
    },
    {
     "name": "stdout",
     "output_type": "stream",
     "text": [
      "Starting evaluation\n",
      "ROOT:  /rds/user/fz287/hpc-work/MLMI4/results\\gp\\lbanp\\lbanp-num_latents-256_rbf_\n"
     ]
    },
    {
     "name": "stderr",
     "output_type": "stream",
     "text": [
      "100%|##########| 3000/3000 [00:44<00:00, 68.07it/s]\n",
      "lbanp:lbanp-num_latents-256_rbf_ rbf tar_ll 0.7897 loss -0.7897 (44.075 secs)\n"
     ]
    },
    {
     "name": "stdout",
     "output_type": "stream",
     "text": [
      "Eval has finished\n",
      "###############SEED:  550\n",
      "Overriding argument num_latents: 256\n",
      "Overriding argument d_model: 64\n",
      "Overriding argument emb_depth: 4\n",
      "Overriding argument dim_feedforward: 128\n",
      "Overriding argument nhead: 4\n",
      "Overriding argument dropout: 0.0\n",
      "Overriding argument num_layers: 6\n",
      "True\n",
      "generating evaluation sets...\n",
      "Generating Evaluation Sets with rbf kernel\n",
      "Generating Evaluation sets with context and target points:   None None\n"
     ]
    },
    {
     "name": "stderr",
     "output_type": "stream",
     "text": [
      "100%|##########| 3000/3000 [00:04<00:00, 617.50it/s]\n"
     ]
    },
    {
     "name": "stdout",
     "output_type": "stream",
     "text": [
      "Starting evaluation\n",
      "ROOT:  /rds/user/fz287/hpc-work/MLMI4/results\\gp\\lbanp\\lbanp-num_latents-256_rbf_\n"
     ]
    },
    {
     "name": "stderr",
     "output_type": "stream",
     "text": [
      "100%|##########| 3000/3000 [00:45<00:00, 65.89it/s]\n",
      "lbanp:lbanp-num_latents-256_rbf_ rbf tar_ll 0.7972 loss -0.7972 (45.535 secs)\n"
     ]
    },
    {
     "name": "stdout",
     "output_type": "stream",
     "text": [
      "Eval has finished\n",
      "###############SEED:  1200\n",
      "Overriding argument num_latents: 256\n",
      "Overriding argument d_model: 64\n",
      "Overriding argument emb_depth: 4\n",
      "Overriding argument dim_feedforward: 128\n",
      "Overriding argument nhead: 4\n",
      "Overriding argument dropout: 0.0\n",
      "Overriding argument num_layers: 6\n",
      "True\n",
      "generating evaluation sets...\n",
      "Generating Evaluation Sets with rbf kernel\n",
      "Generating Evaluation sets with context and target points:   None None\n"
     ]
    },
    {
     "name": "stderr",
     "output_type": "stream",
     "text": [
      "100%|##########| 3000/3000 [00:04<00:00, 603.27it/s]\n"
     ]
    },
    {
     "name": "stdout",
     "output_type": "stream",
     "text": [
      "Starting evaluation\n",
      "ROOT:  /rds/user/fz287/hpc-work/MLMI4/results\\gp\\lbanp\\lbanp-num_latents-256_rbf_\n"
     ]
    },
    {
     "name": "stderr",
     "output_type": "stream",
     "text": [
      "100%|##########| 3000/3000 [00:43<00:00, 68.19it/s]\n",
      "lbanp:lbanp-num_latents-256_rbf_ rbf tar_ll 0.8130 loss -0.8130 (43.995 secs)\n"
     ]
    },
    {
     "name": "stdout",
     "output_type": "stream",
     "text": [
      "Eval has finished\n"
     ]
    }
   ],
   "source": [
    "model_names=['lbanp-num_latents-256_rbf_']\n",
    "latents_l=[256]\n",
    "modelito='lbanp'\n",
    "\n",
    "for latents, model_name in zip(latents_l, model_names):\n",
    "    print('###############MODEL: ',model_name, latents)\n",
    "    for seed in [0,58,100,250,550,1200]:\n",
    "        print('###############SEED: ',seed)\n",
    "        %run gp_track.py --mode eval --expid {model_name} --model {modelito} --num_latents {latents} --custom_eval True --eval_num_batches 3000 --eval_seed {seed}"
   ]
  },
  {
   "cell_type": "markdown",
   "id": "272b8b24-6a08-4158-b755-c923b312e36f",
   "metadata": {},
   "source": [
    "### Mattern"
   ]
  },
  {
   "cell_type": "code",
   "execution_count": 3,
   "id": "382f44c0-e4dd-4246-bd43-8d9ed896cd83",
   "metadata": {
    "tags": []
   },
   "outputs": [
    {
     "name": "stdout",
     "output_type": "stream",
     "text": [
      "###############MODEL:  cnp_matern\n",
      "###############SEED:  0\n",
      "True\n",
      "generating evaluation sets...\n",
      "Generating Evaluation Sets with matern kernel\n",
      "Generating Evaluation sets with context and target points:   None None\n"
     ]
    },
    {
     "name": "stderr",
     "output_type": "stream",
     "text": [
      "100%|##########| 3000/3000 [00:04<00:00, 657.35it/s]\n"
     ]
    },
    {
     "name": "stdout",
     "output_type": "stream",
     "text": [
      "Starting evaluation\n",
      "ROOT:  /rds/user/fz287/hpc-work/MLMI4/results\\gp\\cnp\\cnp_matern\n"
     ]
    },
    {
     "name": "stderr",
     "output_type": "stream",
     "text": [
      "100%|##########| 3000/3000 [00:04<00:00, 702.33it/s]\n",
      "cnp:cnp_matern matern ctx_ll 0.5641 tar_ll 0.0308 (4.273 secs)\n"
     ]
    },
    {
     "name": "stdout",
     "output_type": "stream",
     "text": [
      "Eval has finished\n",
      "###############SEED:  58\n",
      "generating evaluation sets...\n",
      "Generating Evaluation Sets with matern kernel\n",
      "Generating Evaluation sets with context and target points:   None None\n"
     ]
    },
    {
     "name": "stderr",
     "output_type": "stream",
     "text": [
      "100%|##########| 3000/3000 [00:04<00:00, 660.93it/s]\n"
     ]
    },
    {
     "name": "stdout",
     "output_type": "stream",
     "text": [
      "True\n",
      "generating evaluation sets...\n",
      "Generating Evaluation Sets with matern kernel\n",
      "Generating Evaluation sets with context and target points:   None None\n"
     ]
    },
    {
     "name": "stderr",
     "output_type": "stream",
     "text": [
      "100%|##########| 3000/3000 [00:04<00:00, 694.52it/s]\n"
     ]
    },
    {
     "name": "stdout",
     "output_type": "stream",
     "text": [
      "Starting evaluation\n",
      "ROOT:  /rds/user/fz287/hpc-work/MLMI4/results\\gp\\cnp\\cnp_matern\n"
     ]
    },
    {
     "name": "stderr",
     "output_type": "stream",
     "text": [
      "100%|##########| 3000/3000 [00:04<00:00, 692.53it/s]\n",
      "cnp:cnp_matern matern ctx_ll 0.5548 tar_ll 0.0139 (4.348 secs)\n"
     ]
    },
    {
     "name": "stdout",
     "output_type": "stream",
     "text": [
      "Eval has finished\n",
      "###############SEED:  100\n",
      "True\n",
      "generating evaluation sets...\n",
      "Generating Evaluation Sets with matern kernel\n",
      "Generating Evaluation sets with context and target points:   None None\n"
     ]
    },
    {
     "name": "stderr",
     "output_type": "stream",
     "text": [
      "100%|##########| 3000/3000 [00:04<00:00, 643.63it/s]\n"
     ]
    },
    {
     "name": "stdout",
     "output_type": "stream",
     "text": [
      "Starting evaluation\n",
      "ROOT:  /rds/user/fz287/hpc-work/MLMI4/results\\gp\\cnp\\cnp_matern\n"
     ]
    },
    {
     "name": "stderr",
     "output_type": "stream",
     "text": [
      "100%|##########| 3000/3000 [00:04<00:00, 736.96it/s]\n",
      "cnp:cnp_matern matern ctx_ll 0.5580 tar_ll 0.0269 (4.071 secs)\n"
     ]
    },
    {
     "name": "stdout",
     "output_type": "stream",
     "text": [
      "Eval has finished\n",
      "###############SEED:  250\n",
      "generating evaluation sets...\n",
      "Generating Evaluation Sets with matern kernel\n",
      "Generating Evaluation sets with context and target points:   None None\n"
     ]
    },
    {
     "name": "stderr",
     "output_type": "stream",
     "text": [
      "100%|##########| 3000/3000 [00:04<00:00, 707.98it/s]\n"
     ]
    },
    {
     "name": "stdout",
     "output_type": "stream",
     "text": [
      "True\n",
      "generating evaluation sets...\n",
      "Generating Evaluation Sets with matern kernel\n",
      "Generating Evaluation sets with context and target points:   None None\n"
     ]
    },
    {
     "name": "stderr",
     "output_type": "stream",
     "text": [
      "100%|##########| 3000/3000 [00:04<00:00, 689.43it/s]\n"
     ]
    },
    {
     "name": "stdout",
     "output_type": "stream",
     "text": [
      "Starting evaluation\n",
      "ROOT:  /rds/user/fz287/hpc-work/MLMI4/results\\gp\\cnp\\cnp_matern\n"
     ]
    },
    {
     "name": "stderr",
     "output_type": "stream",
     "text": [
      "100%|##########| 3000/3000 [00:04<00:00, 724.45it/s]\n",
      "cnp:cnp_matern matern ctx_ll 0.5572 tar_ll 0.0059 (4.143 secs)\n"
     ]
    },
    {
     "name": "stdout",
     "output_type": "stream",
     "text": [
      "Eval has finished\n",
      "###############SEED:  550\n",
      "generating evaluation sets...\n",
      "Generating Evaluation Sets with matern kernel\n",
      "Generating Evaluation sets with context and target points:   None None\n"
     ]
    },
    {
     "name": "stderr",
     "output_type": "stream",
     "text": [
      "100%|##########| 3000/3000 [00:04<00:00, 677.34it/s]\n"
     ]
    },
    {
     "name": "stdout",
     "output_type": "stream",
     "text": [
      "True\n",
      "generating evaluation sets...\n",
      "Generating Evaluation Sets with matern kernel\n",
      "Generating Evaluation sets with context and target points:   None None\n"
     ]
    },
    {
     "name": "stderr",
     "output_type": "stream",
     "text": [
      "100%|##########| 3000/3000 [00:04<00:00, 692.95it/s]\n"
     ]
    },
    {
     "name": "stdout",
     "output_type": "stream",
     "text": [
      "Starting evaluation\n",
      "ROOT:  /rds/user/fz287/hpc-work/MLMI4/results\\gp\\cnp\\cnp_matern\n"
     ]
    },
    {
     "name": "stderr",
     "output_type": "stream",
     "text": [
      "100%|##########| 3000/3000 [00:04<00:00, 665.10it/s]\n",
      "cnp:cnp_matern matern ctx_ll 0.5530 tar_ll 0.0054 (4.511 secs)\n"
     ]
    },
    {
     "name": "stdout",
     "output_type": "stream",
     "text": [
      "Eval has finished\n",
      "###############SEED:  1200\n",
      "generating evaluation sets...\n",
      "Generating Evaluation Sets with matern kernel\n",
      "Generating Evaluation sets with context and target points:   None None\n"
     ]
    },
    {
     "name": "stderr",
     "output_type": "stream",
     "text": [
      "100%|##########| 3000/3000 [00:04<00:00, 632.31it/s]\n"
     ]
    },
    {
     "name": "stdout",
     "output_type": "stream",
     "text": [
      "True\n",
      "generating evaluation sets...\n",
      "Generating Evaluation Sets with matern kernel\n",
      "Generating Evaluation sets with context and target points:   None None\n"
     ]
    },
    {
     "name": "stderr",
     "output_type": "stream",
     "text": [
      "100%|##########| 3000/3000 [00:04<00:00, 614.74it/s]\n"
     ]
    },
    {
     "name": "stdout",
     "output_type": "stream",
     "text": [
      "Starting evaluation\n",
      "ROOT:  /rds/user/fz287/hpc-work/MLMI4/results\\gp\\cnp\\cnp_matern\n"
     ]
    },
    {
     "name": "stderr",
     "output_type": "stream",
     "text": [
      "100%|##########| 3000/3000 [00:04<00:00, 633.75it/s]\n",
      "cnp:cnp_matern matern ctx_ll 0.5563 tar_ll 0.0184 (4.734 secs)\n"
     ]
    },
    {
     "name": "stdout",
     "output_type": "stream",
     "text": [
      "Eval has finished\n",
      "###############MODEL:  canp_matern\n",
      "###############SEED:  0\n",
      "True\n",
      "generating evaluation sets...\n",
      "Generating Evaluation Sets with matern kernel\n",
      "Generating Evaluation sets with context and target points:   None None\n"
     ]
    },
    {
     "name": "stderr",
     "output_type": "stream",
     "text": [
      "100%|##########| 3000/3000 [00:04<00:00, 657.43it/s]\n"
     ]
    },
    {
     "name": "stdout",
     "output_type": "stream",
     "text": [
      "Starting evaluation\n",
      "ROOT:  /rds/user/fz287/hpc-work/MLMI4/results\\gp\\canp\\canp_matern\n"
     ]
    },
    {
     "name": "stderr",
     "output_type": "stream",
     "text": [
      "100%|##########| 3000/3000 [00:08<00:00, 363.59it/s]\n",
      "canp:canp_matern matern ctx_ll 1.3716 tar_ll 0.6112 (8.251 secs)\n"
     ]
    },
    {
     "name": "stdout",
     "output_type": "stream",
     "text": [
      "Eval has finished\n",
      "###############SEED:  58\n",
      "True\n",
      "generating evaluation sets...\n",
      "Generating Evaluation Sets with matern kernel\n",
      "Generating Evaluation sets with context and target points:   None None\n"
     ]
    },
    {
     "name": "stderr",
     "output_type": "stream",
     "text": [
      "100%|##########| 3000/3000 [00:05<00:00, 514.94it/s]\n"
     ]
    },
    {
     "name": "stdout",
     "output_type": "stream",
     "text": [
      "Starting evaluation\n",
      "ROOT:  /rds/user/fz287/hpc-work/MLMI4/results\\gp\\canp\\canp_matern\n"
     ]
    },
    {
     "name": "stderr",
     "output_type": "stream",
     "text": [
      "100%|##########| 3000/3000 [00:16<00:00, 182.11it/s]\n",
      "canp:canp_matern matern ctx_ll 1.3715 tar_ll 0.5974 (16.479 secs)\n"
     ]
    },
    {
     "name": "stdout",
     "output_type": "stream",
     "text": [
      "Eval has finished\n",
      "###############SEED:  100\n",
      "True\n",
      "generating evaluation sets...\n",
      "Generating Evaluation Sets with matern kernel\n",
      "Generating Evaluation sets with context and target points:   None None\n"
     ]
    },
    {
     "name": "stderr",
     "output_type": "stream",
     "text": [
      "100%|##########| 3000/3000 [00:11<00:00, 256.94it/s]\n"
     ]
    },
    {
     "name": "stdout",
     "output_type": "stream",
     "text": [
      "Starting evaluation\n",
      "ROOT:  /rds/user/fz287/hpc-work/MLMI4/results\\gp\\canp\\canp_matern\n"
     ]
    },
    {
     "name": "stderr",
     "output_type": "stream",
     "text": [
      "100%|##########| 3000/3000 [00:21<00:00, 136.58it/s]\n",
      "canp:canp_matern matern ctx_ll 1.3717 tar_ll 0.6158 (21.969 secs)\n"
     ]
    },
    {
     "name": "stdout",
     "output_type": "stream",
     "text": [
      "Eval has finished\n",
      "###############SEED:  250\n",
      "True\n",
      "generating evaluation sets...\n",
      "Generating Evaluation Sets with matern kernel\n",
      "Generating Evaluation sets with context and target points:   None None\n"
     ]
    },
    {
     "name": "stderr",
     "output_type": "stream",
     "text": [
      "100%|##########| 3000/3000 [00:09<00:00, 324.08it/s]\n"
     ]
    },
    {
     "name": "stdout",
     "output_type": "stream",
     "text": [
      "Starting evaluation\n",
      "ROOT:  /rds/user/fz287/hpc-work/MLMI4/results\\gp\\canp\\canp_matern\n"
     ]
    },
    {
     "name": "stderr",
     "output_type": "stream",
     "text": [
      "100%|##########| 3000/3000 [00:14<00:00, 204.36it/s]\n",
      "canp:canp_matern matern ctx_ll 1.3716 tar_ll 0.5830 (14.682 secs)\n"
     ]
    },
    {
     "name": "stdout",
     "output_type": "stream",
     "text": [
      "Eval has finished\n",
      "###############SEED:  550\n",
      "True\n",
      "generating evaluation sets...\n",
      "Generating Evaluation Sets with matern kernel\n",
      "Generating Evaluation sets with context and target points:   None None\n"
     ]
    },
    {
     "name": "stderr",
     "output_type": "stream",
     "text": [
      "100%|##########| 3000/3000 [00:09<00:00, 307.90it/s]\n"
     ]
    },
    {
     "name": "stdout",
     "output_type": "stream",
     "text": [
      "Starting evaluation\n",
      "ROOT:  /rds/user/fz287/hpc-work/MLMI4/results\\gp\\canp\\canp_matern\n"
     ]
    },
    {
     "name": "stderr",
     "output_type": "stream",
     "text": [
      "100%|##########| 3000/3000 [00:17<00:00, 176.23it/s]\n",
      "canp:canp_matern matern ctx_ll 1.3716 tar_ll 0.5915 (17.027 secs)\n"
     ]
    },
    {
     "name": "stdout",
     "output_type": "stream",
     "text": [
      "Eval has finished\n",
      "###############SEED:  1200\n",
      "True\n",
      "generating evaluation sets...\n",
      "Generating Evaluation Sets with matern kernel\n",
      "Generating Evaluation sets with context and target points:   None None\n"
     ]
    },
    {
     "name": "stderr",
     "output_type": "stream",
     "text": [
      "100%|##########| 3000/3000 [00:09<00:00, 326.04it/s]\n"
     ]
    },
    {
     "name": "stdout",
     "output_type": "stream",
     "text": [
      "Starting evaluation\n",
      "ROOT:  /rds/user/fz287/hpc-work/MLMI4/results\\gp\\canp\\canp_matern\n"
     ]
    },
    {
     "name": "stderr",
     "output_type": "stream",
     "text": [
      "100%|##########| 3000/3000 [00:18<00:00, 163.51it/s]\n",
      "canp:canp_matern matern ctx_ll 1.3716 tar_ll 0.5988 (18.351 secs)\n"
     ]
    },
    {
     "name": "stdout",
     "output_type": "stream",
     "text": [
      "Eval has finished\n",
      "###############MODEL:  np_matern\n",
      "###############SEED:  0\n",
      "True\n",
      "generating evaluation sets...\n",
      "Generating Evaluation Sets with matern kernel\n",
      "Generating Evaluation sets with context and target points:   None None\n"
     ]
    },
    {
     "name": "stderr",
     "output_type": "stream",
     "text": [
      "100%|##########| 3000/3000 [00:08<00:00, 334.76it/s]\n"
     ]
    },
    {
     "name": "stdout",
     "output_type": "stream",
     "text": [
      "Starting evaluation\n",
      "ROOT:  /rds/user/fz287/hpc-work/MLMI4/results\\gp\\np\\np_matern\n"
     ]
    },
    {
     "name": "stderr",
     "output_type": "stream",
     "text": [
      "100%|##########| 3000/3000 [00:19<00:00, 157.62it/s]\n",
      "np:np_matern matern ctx_ll 0.5633 tar_ll 0.0572 (19.036 secs)\n"
     ]
    },
    {
     "name": "stdout",
     "output_type": "stream",
     "text": [
      "Eval has finished\n",
      "###############SEED:  58\n",
      "True\n",
      "generating evaluation sets...\n",
      "Generating Evaluation Sets with matern kernel\n",
      "Generating Evaluation sets with context and target points:   None None\n"
     ]
    },
    {
     "name": "stderr",
     "output_type": "stream",
     "text": [
      "100%|##########| 3000/3000 [00:08<00:00, 345.67it/s]\n"
     ]
    },
    {
     "name": "stdout",
     "output_type": "stream",
     "text": [
      "Starting evaluation\n",
      "ROOT:  /rds/user/fz287/hpc-work/MLMI4/results\\gp\\np\\np_matern\n"
     ]
    },
    {
     "name": "stderr",
     "output_type": "stream",
     "text": [
      "100%|##########| 3000/3000 [00:19<00:00, 153.34it/s]\n",
      "np:np_matern matern ctx_ll 0.5553 tar_ll 0.0355 (19.565 secs)\n"
     ]
    },
    {
     "name": "stdout",
     "output_type": "stream",
     "text": [
      "Eval has finished\n",
      "###############SEED:  100\n",
      "True\n",
      "generating evaluation sets...\n",
      "Generating Evaluation Sets with matern kernel\n",
      "Generating Evaluation sets with context and target points:   None None\n"
     ]
    },
    {
     "name": "stderr",
     "output_type": "stream",
     "text": [
      "100%|##########| 3000/3000 [00:08<00:00, 341.39it/s]\n"
     ]
    },
    {
     "name": "stdout",
     "output_type": "stream",
     "text": [
      "Starting evaluation\n",
      "ROOT:  /rds/user/fz287/hpc-work/MLMI4/results\\gp\\np\\np_matern\n"
     ]
    },
    {
     "name": "stderr",
     "output_type": "stream",
     "text": [
      "100%|##########| 3000/3000 [00:19<00:00, 153.78it/s]\n",
      "np:np_matern matern ctx_ll 0.5558 tar_ll 0.0538 (19.510 secs)\n"
     ]
    },
    {
     "name": "stdout",
     "output_type": "stream",
     "text": [
      "Eval has finished\n",
      "###############SEED:  250\n",
      "True\n",
      "generating evaluation sets...\n",
      "Generating Evaluation Sets with matern kernel\n",
      "Generating Evaluation sets with context and target points:   None None\n"
     ]
    },
    {
     "name": "stderr",
     "output_type": "stream",
     "text": [
      "100%|##########| 3000/3000 [00:08<00:00, 355.08it/s]\n"
     ]
    },
    {
     "name": "stdout",
     "output_type": "stream",
     "text": [
      "Starting evaluation\n",
      "ROOT:  /rds/user/fz287/hpc-work/MLMI4/results\\gp\\np\\np_matern\n"
     ]
    },
    {
     "name": "stderr",
     "output_type": "stream",
     "text": [
      "100%|##########| 3000/3000 [00:19<00:00, 154.80it/s]\n",
      "np:np_matern matern ctx_ll 0.5573 tar_ll 0.0326 (19.383 secs)\n"
     ]
    },
    {
     "name": "stdout",
     "output_type": "stream",
     "text": [
      "Eval has finished\n",
      "###############SEED:  550\n",
      "True\n",
      "generating evaluation sets...\n",
      "Generating Evaluation Sets with matern kernel\n",
      "Generating Evaluation sets with context and target points:   None None\n"
     ]
    },
    {
     "name": "stderr",
     "output_type": "stream",
     "text": [
      "100%|##########| 3000/3000 [00:08<00:00, 349.40it/s]\n"
     ]
    },
    {
     "name": "stdout",
     "output_type": "stream",
     "text": [
      "Starting evaluation\n",
      "ROOT:  /rds/user/fz287/hpc-work/MLMI4/results\\gp\\np\\np_matern\n"
     ]
    },
    {
     "name": "stderr",
     "output_type": "stream",
     "text": [
      "100%|##########| 3000/3000 [00:19<00:00, 156.19it/s]\n",
      "np:np_matern matern ctx_ll 0.5531 tar_ll 0.0341 (19.211 secs)\n"
     ]
    },
    {
     "name": "stdout",
     "output_type": "stream",
     "text": [
      "Eval has finished\n",
      "###############SEED:  1200\n",
      "True\n",
      "generating evaluation sets...\n",
      "Generating Evaluation Sets with matern kernel\n",
      "Generating Evaluation sets with context and target points:   None None\n"
     ]
    },
    {
     "name": "stderr",
     "output_type": "stream",
     "text": [
      "100%|##########| 3000/3000 [00:08<00:00, 340.88it/s]\n"
     ]
    },
    {
     "name": "stdout",
     "output_type": "stream",
     "text": [
      "Starting evaluation\n",
      "ROOT:  /rds/user/fz287/hpc-work/MLMI4/results\\gp\\np\\np_matern\n"
     ]
    },
    {
     "name": "stderr",
     "output_type": "stream",
     "text": [
      "100%|##########| 3000/3000 [00:19<00:00, 154.34it/s]\n",
      "np:np_matern matern ctx_ll 0.5558 tar_ll 0.0490 (19.439 secs)\n"
     ]
    },
    {
     "name": "stdout",
     "output_type": "stream",
     "text": [
      "Eval has finished\n",
      "###############MODEL:  anp_matern\n",
      "###############SEED:  0\n",
      "True\n",
      "generating evaluation sets...\n",
      "Generating Evaluation Sets with matern kernel\n",
      "Generating Evaluation sets with context and target points:   None None\n"
     ]
    },
    {
     "name": "stderr",
     "output_type": "stream",
     "text": [
      "100%|##########| 3000/3000 [00:08<00:00, 342.67it/s]\n"
     ]
    },
    {
     "name": "stdout",
     "output_type": "stream",
     "text": [
      "Starting evaluation\n",
      "ROOT:  /rds/user/fz287/hpc-work/MLMI4/results\\gp\\anp\\anp_matern\n"
     ]
    },
    {
     "name": "stderr",
     "output_type": "stream",
     "text": [
      "100%|##########| 3000/3000 [00:34<00:00, 87.86it/s] \n",
      "anp:anp_matern matern ctx_ll 1.3717 tar_ll 0.6301 (34.151 secs)\n"
     ]
    },
    {
     "name": "stdout",
     "output_type": "stream",
     "text": [
      "Eval has finished\n",
      "###############SEED:  58\n",
      "True\n",
      "generating evaluation sets...\n",
      "Generating Evaluation Sets with matern kernel\n",
      "Generating Evaluation sets with context and target points:   None None\n"
     ]
    },
    {
     "name": "stderr",
     "output_type": "stream",
     "text": [
      "100%|##########| 3000/3000 [00:10<00:00, 282.12it/s]\n"
     ]
    },
    {
     "name": "stdout",
     "output_type": "stream",
     "text": [
      "Starting evaluation\n",
      "ROOT:  /rds/user/fz287/hpc-work/MLMI4/results\\gp\\anp\\anp_matern\n"
     ]
    },
    {
     "name": "stderr",
     "output_type": "stream",
     "text": [
      "100%|##########| 3000/3000 [00:31<00:00, 94.54it/s] \n",
      "anp:anp_matern matern ctx_ll 1.3716 tar_ll 0.6160 (31.737 secs)\n"
     ]
    },
    {
     "name": "stdout",
     "output_type": "stream",
     "text": [
      "Eval has finished\n",
      "###############SEED:  100\n",
      "True\n",
      "generating evaluation sets...\n",
      "Generating Evaluation Sets with matern kernel\n",
      "Generating Evaluation sets with context and target points:   None None\n"
     ]
    },
    {
     "name": "stderr",
     "output_type": "stream",
     "text": [
      "100%|##########| 3000/3000 [00:09<00:00, 315.02it/s]\n"
     ]
    },
    {
     "name": "stdout",
     "output_type": "stream",
     "text": [
      "Starting evaluation\n",
      "ROOT:  /rds/user/fz287/hpc-work/MLMI4/results\\gp\\anp\\anp_matern\n"
     ]
    },
    {
     "name": "stderr",
     "output_type": "stream",
     "text": [
      "100%|##########| 3000/3000 [00:28<00:00, 105.50it/s]\n",
      "anp:anp_matern matern ctx_ll 1.3718 tar_ll 0.6315 (28.437 secs)\n"
     ]
    },
    {
     "name": "stdout",
     "output_type": "stream",
     "text": [
      "Eval has finished\n",
      "###############SEED:  250\n",
      "True\n",
      "generating evaluation sets...\n",
      "Generating Evaluation Sets with matern kernel\n",
      "Generating Evaluation sets with context and target points:   None None\n"
     ]
    },
    {
     "name": "stderr",
     "output_type": "stream",
     "text": [
      "100%|##########| 3000/3000 [00:09<00:00, 328.00it/s]\n"
     ]
    },
    {
     "name": "stdout",
     "output_type": "stream",
     "text": [
      "Starting evaluation\n",
      "ROOT:  /rds/user/fz287/hpc-work/MLMI4/results\\gp\\anp\\anp_matern\n"
     ]
    },
    {
     "name": "stderr",
     "output_type": "stream",
     "text": [
      "100%|##########| 3000/3000 [00:28<00:00, 106.30it/s]\n",
      "anp:anp_matern matern ctx_ll 1.3716 tar_ll 0.6036 (28.225 secs)\n"
     ]
    },
    {
     "name": "stdout",
     "output_type": "stream",
     "text": [
      "Eval has finished\n",
      "###############SEED:  550\n",
      "True\n",
      "generating evaluation sets...\n",
      "Generating Evaluation Sets with matern kernel\n",
      "Generating Evaluation sets with context and target points:   None None\n"
     ]
    },
    {
     "name": "stderr",
     "output_type": "stream",
     "text": [
      "100%|##########| 3000/3000 [00:09<00:00, 330.85it/s]\n"
     ]
    },
    {
     "name": "stdout",
     "output_type": "stream",
     "text": [
      "Starting evaluation\n",
      "ROOT:  /rds/user/fz287/hpc-work/MLMI4/results\\gp\\anp\\anp_matern\n"
     ]
    },
    {
     "name": "stderr",
     "output_type": "stream",
     "text": [
      "100%|##########| 3000/3000 [00:30<00:00, 97.24it/s] \n",
      "anp:anp_matern matern ctx_ll 1.3717 tar_ll 0.6116 (30.855 secs)\n"
     ]
    },
    {
     "name": "stdout",
     "output_type": "stream",
     "text": [
      "Eval has finished\n",
      "###############SEED:  1200\n",
      "True\n",
      "generating evaluation sets...\n",
      "Generating Evaluation Sets with matern kernel\n",
      "Generating Evaluation sets with context and target points:   None None\n"
     ]
    },
    {
     "name": "stderr",
     "output_type": "stream",
     "text": [
      "100%|##########| 3000/3000 [00:09<00:00, 311.33it/s]\n"
     ]
    },
    {
     "name": "stdout",
     "output_type": "stream",
     "text": [
      "Starting evaluation\n",
      "ROOT:  /rds/user/fz287/hpc-work/MLMI4/results\\gp\\anp\\anp_matern\n"
     ]
    },
    {
     "name": "stderr",
     "output_type": "stream",
     "text": [
      "100%|##########| 3000/3000 [00:27<00:00, 108.74it/s]\n",
      "anp:anp_matern matern ctx_ll 1.3716 tar_ll 0.6197 (27.592 secs)\n"
     ]
    },
    {
     "name": "stdout",
     "output_type": "stream",
     "text": [
      "Eval has finished\n",
      "###############MODEL:  bnp_matern\n",
      "###############SEED:  0\n",
      "True\n",
      "generating evaluation sets...\n",
      "Generating Evaluation Sets with matern kernel\n",
      "Generating Evaluation sets with context and target points:   None None\n"
     ]
    },
    {
     "name": "stderr",
     "output_type": "stream",
     "text": [
      "100%|##########| 3000/3000 [00:09<00:00, 315.87it/s]\n"
     ]
    },
    {
     "name": "stdout",
     "output_type": "stream",
     "text": [
      "Starting evaluation\n",
      "ROOT:  /rds/user/fz287/hpc-work/MLMI4/results\\gp\\bnp\\bnp_matern\n"
     ]
    },
    {
     "name": "stderr",
     "output_type": "stream",
     "text": [
      "100%|##########| 3000/3000 [00:53<00:00, 56.23it/s]\n",
      "bnp:bnp_matern matern ctx_ll 0.6804 tar_ll 0.1926 (53.356 secs)\n"
     ]
    },
    {
     "name": "stdout",
     "output_type": "stream",
     "text": [
      "Eval has finished\n",
      "###############SEED:  58\n",
      "True\n",
      "generating evaluation sets...\n",
      "Generating Evaluation Sets with matern kernel\n",
      "Generating Evaluation sets with context and target points:   None None\n"
     ]
    },
    {
     "name": "stderr",
     "output_type": "stream",
     "text": [
      "100%|##########| 3000/3000 [00:09<00:00, 303.42it/s]\n"
     ]
    },
    {
     "name": "stdout",
     "output_type": "stream",
     "text": [
      "Starting evaluation\n",
      "ROOT:  /rds/user/fz287/hpc-work/MLMI4/results\\gp\\bnp\\bnp_matern\n"
     ]
    },
    {
     "name": "stderr",
     "output_type": "stream",
     "text": [
      "100%|##########| 3000/3000 [00:53<00:00, 56.41it/s]\n",
      "bnp:bnp_matern matern ctx_ll 0.6719 tar_ll 0.1751 (53.183 secs)\n"
     ]
    },
    {
     "name": "stdout",
     "output_type": "stream",
     "text": [
      "Eval has finished\n",
      "###############SEED:  100\n",
      "True\n",
      "generating evaluation sets...\n",
      "Generating Evaluation Sets with matern kernel\n",
      "Generating Evaluation sets with context and target points:   None None\n"
     ]
    },
    {
     "name": "stderr",
     "output_type": "stream",
     "text": [
      "100%|##########| 3000/3000 [00:09<00:00, 321.73it/s]\n"
     ]
    },
    {
     "name": "stdout",
     "output_type": "stream",
     "text": [
      "Starting evaluation\n",
      "ROOT:  /rds/user/fz287/hpc-work/MLMI4/results\\gp\\bnp\\bnp_matern\n"
     ]
    },
    {
     "name": "stderr",
     "output_type": "stream",
     "text": [
      "100%|##########| 3000/3000 [00:53<00:00, 55.91it/s]\n",
      "bnp:bnp_matern matern ctx_ll 0.6759 tar_ll 0.1900 (53.657 secs)\n"
     ]
    },
    {
     "name": "stdout",
     "output_type": "stream",
     "text": [
      "Eval has finished\n",
      "###############SEED:  250\n",
      "True\n",
      "generating evaluation sets...\n",
      "Generating Evaluation Sets with matern kernel\n",
      "Generating Evaluation sets with context and target points:   None None\n"
     ]
    },
    {
     "name": "stderr",
     "output_type": "stream",
     "text": [
      "100%|##########| 3000/3000 [00:08<00:00, 339.14it/s]\n"
     ]
    },
    {
     "name": "stdout",
     "output_type": "stream",
     "text": [
      "Starting evaluation\n",
      "ROOT:  /rds/user/fz287/hpc-work/MLMI4/results\\gp\\bnp\\bnp_matern\n"
     ]
    },
    {
     "name": "stderr",
     "output_type": "stream",
     "text": [
      "100%|##########| 3000/3000 [00:54<00:00, 55.03it/s]\n",
      "bnp:bnp_matern matern ctx_ll 0.6724 tar_ll 0.1723 (54.523 secs)\n"
     ]
    },
    {
     "name": "stdout",
     "output_type": "stream",
     "text": [
      "Eval has finished\n",
      "###############SEED:  550\n",
      "True\n",
      "generating evaluation sets...\n",
      "Generating Evaluation Sets with matern kernel\n",
      "Generating Evaluation sets with context and target points:   None None\n"
     ]
    },
    {
     "name": "stderr",
     "output_type": "stream",
     "text": [
      "100%|##########| 3000/3000 [00:08<00:00, 348.26it/s]\n"
     ]
    },
    {
     "name": "stdout",
     "output_type": "stream",
     "text": [
      "Starting evaluation\n",
      "ROOT:  /rds/user/fz287/hpc-work/MLMI4/results\\gp\\bnp\\bnp_matern\n"
     ]
    },
    {
     "name": "stderr",
     "output_type": "stream",
     "text": [
      "100%|##########| 3000/3000 [00:53<00:00, 56.37it/s]\n",
      "bnp:bnp_matern matern ctx_ll 0.6701 tar_ll 0.1705 (53.225 secs)\n"
     ]
    },
    {
     "name": "stdout",
     "output_type": "stream",
     "text": [
      "Eval has finished\n",
      "###############SEED:  1200\n",
      "True\n",
      "generating evaluation sets...\n",
      "Generating Evaluation Sets with matern kernel\n",
      "Generating Evaluation sets with context and target points:   None None\n"
     ]
    },
    {
     "name": "stderr",
     "output_type": "stream",
     "text": [
      "100%|##########| 3000/3000 [00:08<00:00, 340.46it/s]\n"
     ]
    },
    {
     "name": "stdout",
     "output_type": "stream",
     "text": [
      "Starting evaluation\n",
      "ROOT:  /rds/user/fz287/hpc-work/MLMI4/results\\gp\\bnp\\bnp_matern\n"
     ]
    },
    {
     "name": "stderr",
     "output_type": "stream",
     "text": [
      "100%|##########| 3000/3000 [00:53<00:00, 56.26it/s]\n",
      "bnp:bnp_matern matern ctx_ll 0.6740 tar_ll 0.1872 (53.330 secs)\n"
     ]
    },
    {
     "name": "stdout",
     "output_type": "stream",
     "text": [
      "Eval has finished\n",
      "###############MODEL:  tnpd_matern\n",
      "###############SEED:  0\n",
      "Overriding argument d_model: 64\n",
      "Overriding argument emb_depth: 4\n",
      "Overriding argument dim_feedforward: 128\n",
      "Overriding argument nhead: 4\n",
      "Overriding argument dropout: 0.0\n",
      "Overriding argument num_layers: 6\n",
      "True\n",
      "generating evaluation sets...\n",
      "Generating Evaluation Sets with matern kernel\n",
      "Generating Evaluation sets with context and target points:   None None\n"
     ]
    },
    {
     "name": "stderr",
     "output_type": "stream",
     "text": [
      "100%|##########| 3000/3000 [00:09<00:00, 319.40it/s]\n"
     ]
    },
    {
     "name": "stdout",
     "output_type": "stream",
     "text": [
      "Starting evaluation\n",
      "ROOT:  /rds/user/fz287/hpc-work/MLMI4/results\\gp\\tnpd\\tnpd_matern\n"
     ]
    },
    {
     "name": "stderr",
     "output_type": "stream",
     "text": [
      "  0%|          | 0/3000 [00:00<?, ?it/s]C:\\Users\\jmlr9\\AppData\\Roaming\\Python\\Python311\\site-packages\\torch\\nn\\modules\\transformer.py:562: UserWarning: Converting mask without torch.bool dtype to bool; this will negatively affect performance. Prefer to use a boolean mask directly. (Triggered internally at ..\\aten\\src\\ATen\\native\\transformers\\attention.cpp:152.)\n",
      "  return torch._transformer_encoder_layer_fwd(\n",
      "100%|##########| 3000/3000 [00:21<00:00, 142.72it/s]\n",
      "tnpd:tnpd_matern matern tar_ll 0.9560 loss -0.9560 (21.023 secs)\n"
     ]
    },
    {
     "name": "stdout",
     "output_type": "stream",
     "text": [
      "Eval has finished\n",
      "###############SEED:  58\n",
      "Overriding argument d_model: 64\n",
      "Overriding argument emb_depth: 4\n",
      "Overriding argument dim_feedforward: 128\n",
      "Overriding argument nhead: 4\n",
      "Overriding argument dropout: 0.0\n",
      "Overriding argument num_layers: 6\n",
      "True\n",
      "generating evaluation sets...\n",
      "Generating Evaluation Sets with matern kernel\n",
      "Generating Evaluation sets with context and target points:   None None\n"
     ]
    },
    {
     "name": "stderr",
     "output_type": "stream",
     "text": [
      "100%|##########| 3000/3000 [00:08<00:00, 346.37it/s]\n"
     ]
    },
    {
     "name": "stdout",
     "output_type": "stream",
     "text": [
      "Starting evaluation\n",
      "ROOT:  /rds/user/fz287/hpc-work/MLMI4/results\\gp\\tnpd\\tnpd_matern\n"
     ]
    },
    {
     "name": "stderr",
     "output_type": "stream",
     "text": [
      "100%|##########| 3000/3000 [00:20<00:00, 145.72it/s]\n",
      "tnpd:tnpd_matern matern tar_ll 0.9451 loss -0.9451 (20.590 secs)\n"
     ]
    },
    {
     "name": "stdout",
     "output_type": "stream",
     "text": [
      "Eval has finished\n",
      "###############SEED:  100\n",
      "Overriding argument d_model: 64\n",
      "Overriding argument emb_depth: 4\n",
      "Overriding argument dim_feedforward: 128\n",
      "Overriding argument nhead: 4\n",
      "Overriding argument dropout: 0.0\n",
      "Overriding argument num_layers: 6\n",
      "True\n",
      "generating evaluation sets...\n",
      "Generating Evaluation Sets with matern kernel\n",
      "Generating Evaluation sets with context and target points:   None None\n"
     ]
    },
    {
     "name": "stderr",
     "output_type": "stream",
     "text": [
      "100%|##########| 3000/3000 [00:08<00:00, 339.43it/s]\n"
     ]
    },
    {
     "name": "stdout",
     "output_type": "stream",
     "text": [
      "Starting evaluation\n",
      "ROOT:  /rds/user/fz287/hpc-work/MLMI4/results\\gp\\tnpd\\tnpd_matern\n"
     ]
    },
    {
     "name": "stderr",
     "output_type": "stream",
     "text": [
      "100%|##########| 3000/3000 [00:20<00:00, 145.19it/s]\n",
      "tnpd:tnpd_matern matern tar_ll 0.9595 loss -0.9595 (20.666 secs)\n"
     ]
    },
    {
     "name": "stdout",
     "output_type": "stream",
     "text": [
      "Eval has finished\n",
      "###############SEED:  250\n",
      "Overriding argument d_model: 64\n",
      "Overriding argument emb_depth: 4\n",
      "Overriding argument dim_feedforward: 128\n",
      "Overriding argument nhead: 4\n",
      "Overriding argument dropout: 0.0\n",
      "Overriding argument num_layers: 6\n",
      "True\n",
      "generating evaluation sets...\n",
      "Generating Evaluation Sets with matern kernel\n",
      "Generating Evaluation sets with context and target points:   None None\n"
     ]
    },
    {
     "name": "stderr",
     "output_type": "stream",
     "text": [
      "100%|##########| 3000/3000 [00:09<00:00, 329.51it/s]\n"
     ]
    },
    {
     "name": "stdout",
     "output_type": "stream",
     "text": [
      "Starting evaluation\n",
      "ROOT:  /rds/user/fz287/hpc-work/MLMI4/results\\gp\\tnpd\\tnpd_matern\n"
     ]
    },
    {
     "name": "stderr",
     "output_type": "stream",
     "text": [
      "100%|##########| 3000/3000 [00:21<00:00, 141.71it/s]\n",
      "tnpd:tnpd_matern matern tar_ll 0.9214 loss -0.9214 (21.172 secs)\n"
     ]
    },
    {
     "name": "stdout",
     "output_type": "stream",
     "text": [
      "Eval has finished\n",
      "###############SEED:  550\n",
      "Overriding argument d_model: 64\n",
      "Overriding argument emb_depth: 4\n",
      "Overriding argument dim_feedforward: 128\n",
      "Overriding argument nhead: 4\n",
      "Overriding argument dropout: 0.0\n",
      "Overriding argument num_layers: 6\n",
      "True\n",
      "generating evaluation sets...\n",
      "Generating Evaluation Sets with matern kernel\n",
      "Generating Evaluation sets with context and target points:   None None\n"
     ]
    },
    {
     "name": "stderr",
     "output_type": "stream",
     "text": [
      "100%|##########| 3000/3000 [00:09<00:00, 322.79it/s]\n"
     ]
    },
    {
     "name": "stdout",
     "output_type": "stream",
     "text": [
      "Starting evaluation\n",
      "ROOT:  /rds/user/fz287/hpc-work/MLMI4/results\\gp\\tnpd\\tnpd_matern\n"
     ]
    },
    {
     "name": "stderr",
     "output_type": "stream",
     "text": [
      "100%|##########| 3000/3000 [00:20<00:00, 143.15it/s]\n",
      "tnpd:tnpd_matern matern tar_ll 0.9356 loss -0.9356 (20.960 secs)\n"
     ]
    },
    {
     "name": "stdout",
     "output_type": "stream",
     "text": [
      "Eval has finished\n",
      "###############SEED:  1200\n",
      "Overriding argument d_model: 64\n",
      "Overriding argument emb_depth: 4\n",
      "Overriding argument dim_feedforward: 128\n",
      "Overriding argument nhead: 4\n",
      "Overriding argument dropout: 0.0\n",
      "Overriding argument num_layers: 6\n",
      "True\n",
      "generating evaluation sets...\n",
      "Generating Evaluation Sets with matern kernel\n",
      "Generating Evaluation sets with context and target points:   None None\n"
     ]
    },
    {
     "name": "stderr",
     "output_type": "stream",
     "text": [
      "100%|##########| 3000/3000 [00:09<00:00, 313.54it/s]\n"
     ]
    },
    {
     "name": "stdout",
     "output_type": "stream",
     "text": [
      "Starting evaluation\n",
      "ROOT:  /rds/user/fz287/hpc-work/MLMI4/results\\gp\\tnpd\\tnpd_matern\n"
     ]
    },
    {
     "name": "stderr",
     "output_type": "stream",
     "text": [
      "100%|##########| 3000/3000 [00:20<00:00, 145.69it/s]\n",
      "tnpd:tnpd_matern matern tar_ll 0.9546 loss -0.9546 (20.595 secs)\n"
     ]
    },
    {
     "name": "stdout",
     "output_type": "stream",
     "text": [
      "Eval has finished\n",
      "###############MODEL:  tnpa_matern\n",
      "###############SEED:  0\n",
      "Overriding argument pretrain: False\n",
      "Overriding argument d_model: 64\n",
      "Overriding argument emb_depth: 4\n",
      "Overriding argument dim_feedforward: 128\n",
      "Overriding argument nhead: 4\n",
      "Overriding argument dropout: 0.0\n",
      "Overriding argument num_layers: 6\n",
      "True\n",
      "generating evaluation sets...\n",
      "Generating Evaluation Sets with matern kernel\n",
      "Generating Evaluation sets with context and target points:   None None\n"
     ]
    },
    {
     "name": "stderr",
     "output_type": "stream",
     "text": [
      "100%|##########| 3000/3000 [00:09<00:00, 318.90it/s]\n"
     ]
    },
    {
     "name": "stdout",
     "output_type": "stream",
     "text": [
      "Starting evaluation\n",
      "ROOT:  /rds/user/fz287/hpc-work/MLMI4/results\\gp\\tnpa\\tnpa_matern\n"
     ]
    },
    {
     "name": "stderr",
     "output_type": "stream",
     "text": [
      "100%|##########| 3000/3000 [00:22<00:00, 134.81it/s]\n",
      "tnpa:tnpa_matern matern tar_ll 1.2208 loss -1.2208 (22.255 secs)\n"
     ]
    },
    {
     "name": "stdout",
     "output_type": "stream",
     "text": [
      "Eval has finished\n",
      "###############SEED:  58\n",
      "Overriding argument pretrain: False\n",
      "Overriding argument d_model: 64\n",
      "Overriding argument emb_depth: 4\n",
      "Overriding argument dim_feedforward: 128\n",
      "Overriding argument nhead: 4\n",
      "Overriding argument dropout: 0.0\n",
      "Overriding argument num_layers: 6\n",
      "True\n",
      "generating evaluation sets...\n",
      "Generating Evaluation Sets with matern kernel\n",
      "Generating Evaluation sets with context and target points:   None None\n"
     ]
    },
    {
     "name": "stderr",
     "output_type": "stream",
     "text": [
      "100%|##########| 3000/3000 [00:11<00:00, 267.02it/s]\n"
     ]
    },
    {
     "name": "stdout",
     "output_type": "stream",
     "text": [
      "Starting evaluation\n",
      "ROOT:  /rds/user/fz287/hpc-work/MLMI4/results\\gp\\tnpa\\tnpa_matern\n"
     ]
    },
    {
     "name": "stderr",
     "output_type": "stream",
     "text": [
      "100%|##########| 3000/3000 [00:21<00:00, 142.49it/s]\n",
      "tnpa:tnpa_matern matern tar_ll 1.2157 loss -1.2157 (21.059 secs)\n"
     ]
    },
    {
     "name": "stdout",
     "output_type": "stream",
     "text": [
      "Eval has finished\n",
      "###############SEED:  100\n",
      "Overriding argument pretrain: False\n",
      "Overriding argument d_model: 64\n",
      "Overriding argument emb_depth: 4\n",
      "Overriding argument dim_feedforward: 128\n",
      "Overriding argument nhead: 4\n",
      "Overriding argument dropout: 0.0\n",
      "Overriding argument num_layers: 6\n",
      "True\n",
      "generating evaluation sets...\n",
      "Generating Evaluation Sets with matern kernel\n",
      "Generating Evaluation sets with context and target points:   None None\n"
     ]
    },
    {
     "name": "stderr",
     "output_type": "stream",
     "text": [
      "100%|##########| 3000/3000 [00:09<00:00, 319.04it/s]\n"
     ]
    },
    {
     "name": "stdout",
     "output_type": "stream",
     "text": [
      "Starting evaluation\n",
      "ROOT:  /rds/user/fz287/hpc-work/MLMI4/results\\gp\\tnpa\\tnpa_matern\n"
     ]
    },
    {
     "name": "stderr",
     "output_type": "stream",
     "text": [
      "100%|##########| 3000/3000 [00:20<00:00, 143.45it/s]\n",
      "tnpa:tnpa_matern matern tar_ll 1.2218 loss -1.2218 (20.915 secs)\n"
     ]
    },
    {
     "name": "stdout",
     "output_type": "stream",
     "text": [
      "Eval has finished\n",
      "###############SEED:  250\n",
      "Overriding argument pretrain: False\n",
      "Overriding argument d_model: 64\n",
      "Overriding argument emb_depth: 4\n",
      "Overriding argument dim_feedforward: 128\n",
      "Overriding argument nhead: 4\n",
      "Overriding argument dropout: 0.0\n",
      "Overriding argument num_layers: 6\n",
      "True\n",
      "generating evaluation sets...\n",
      "Generating Evaluation Sets with matern kernel\n",
      "Generating Evaluation sets with context and target points:   None None\n"
     ]
    },
    {
     "name": "stderr",
     "output_type": "stream",
     "text": [
      "100%|##########| 3000/3000 [00:09<00:00, 308.88it/s]\n"
     ]
    },
    {
     "name": "stdout",
     "output_type": "stream",
     "text": [
      "Starting evaluation\n",
      "ROOT:  /rds/user/fz287/hpc-work/MLMI4/results\\gp\\tnpa\\tnpa_matern\n"
     ]
    },
    {
     "name": "stderr",
     "output_type": "stream",
     "text": [
      "100%|##########| 3000/3000 [00:21<00:00, 141.44it/s]\n",
      "tnpa:tnpa_matern matern tar_ll 1.2025 loss -1.2025 (21.213 secs)\n"
     ]
    },
    {
     "name": "stdout",
     "output_type": "stream",
     "text": [
      "Eval has finished\n",
      "###############SEED:  550\n",
      "Overriding argument pretrain: False\n",
      "Overriding argument d_model: 64\n",
      "Overriding argument emb_depth: 4\n",
      "Overriding argument dim_feedforward: 128\n",
      "Overriding argument nhead: 4\n",
      "Overriding argument dropout: 0.0\n",
      "Overriding argument num_layers: 6\n",
      "True\n",
      "generating evaluation sets...\n",
      "Generating Evaluation Sets with matern kernel\n",
      "Generating Evaluation sets with context and target points:   None None\n"
     ]
    },
    {
     "name": "stderr",
     "output_type": "stream",
     "text": [
      "100%|##########| 3000/3000 [00:09<00:00, 331.08it/s]\n"
     ]
    },
    {
     "name": "stdout",
     "output_type": "stream",
     "text": [
      "Starting evaluation\n",
      "ROOT:  /rds/user/fz287/hpc-work/MLMI4/results\\gp\\tnpa\\tnpa_matern\n"
     ]
    },
    {
     "name": "stderr",
     "output_type": "stream",
     "text": [
      "100%|##########| 3000/3000 [00:21<00:00, 137.01it/s]\n",
      "tnpa:tnpa_matern matern tar_ll 1.2080 loss -1.2080 (21.899 secs)\n"
     ]
    },
    {
     "name": "stdout",
     "output_type": "stream",
     "text": [
      "Eval has finished\n",
      "###############SEED:  1200\n",
      "Overriding argument pretrain: False\n",
      "Overriding argument d_model: 64\n",
      "Overriding argument emb_depth: 4\n",
      "Overriding argument dim_feedforward: 128\n",
      "Overriding argument nhead: 4\n",
      "Overriding argument dropout: 0.0\n",
      "Overriding argument num_layers: 6\n",
      "True\n",
      "generating evaluation sets...\n",
      "Generating Evaluation Sets with matern kernel\n",
      "Generating Evaluation sets with context and target points:   None None\n"
     ]
    },
    {
     "name": "stderr",
     "output_type": "stream",
     "text": [
      "100%|##########| 3000/3000 [00:09<00:00, 330.75it/s]\n"
     ]
    },
    {
     "name": "stdout",
     "output_type": "stream",
     "text": [
      "Starting evaluation\n",
      "ROOT:  /rds/user/fz287/hpc-work/MLMI4/results\\gp\\tnpa\\tnpa_matern\n"
     ]
    },
    {
     "name": "stderr",
     "output_type": "stream",
     "text": [
      "100%|##########| 3000/3000 [00:22<00:00, 132.04it/s]\n",
      "tnpa:tnpa_matern matern tar_ll 1.2147 loss -1.2147 (22.724 secs)\n"
     ]
    },
    {
     "name": "stdout",
     "output_type": "stream",
     "text": [
      "Eval has finished\n"
     ]
    }
   ],
   "source": [
    "model_names=['cnp_matern','canp_matern','np_matern','anp_matern','bnp_matern','tnpd_matern','tnpa_matern']\n",
    "modelitos=['cnp','canp','np','anp','bnp','tnpd','tnpa']\n",
    "\n",
    "for model_name, modelito in zip(model_names, modelitos):\n",
    "    print('###############MODEL: ',model_name)\n",
    "    for seed in [0,58,100,250,550,1200]:\n",
    "        print('###############SEED: ',seed)\n",
    "        %run gp_track.py --mode eval --expid {model_name} --model {modelito} --custom_eval True --eval_num_batches 3000 --eval_seed {seed} --eval_kernel matern"
   ]
  },
  {
   "cell_type": "code",
   "execution_count": 4,
   "id": "edf7f189-c3a0-4056-a657-35623ee6902e",
   "metadata": {
    "tags": []
   },
   "outputs": [
    {
     "name": "stdout",
     "output_type": "stream",
     "text": [
      "###############MODEL:  lbanp-num_latents-8_matern 8\n",
      "###############SEED:  0\n",
      "Overriding argument num_latents: 8\n",
      "Overriding argument d_model: 64\n",
      "Overriding argument emb_depth: 4\n",
      "Overriding argument dim_feedforward: 128\n",
      "Overriding argument nhead: 4\n",
      "Overriding argument dropout: 0.0\n",
      "Overriding argument num_layers: 6\n",
      "True\n",
      "generating evaluation sets...\n",
      "Generating Evaluation Sets with matern kernel\n",
      "Generating Evaluation sets with context and target points:   None None\n"
     ]
    },
    {
     "name": "stderr",
     "output_type": "stream",
     "text": [
      "100%|##########| 3000/3000 [00:08<00:00, 357.09it/s]\n"
     ]
    },
    {
     "name": "stdout",
     "output_type": "stream",
     "text": [
      "Starting evaluation\n",
      "ROOT:  /rds/user/fz287/hpc-work/MLMI4/results\\gp\\lbanp\\lbanp-num_latents-8_matern\n"
     ]
    },
    {
     "name": "stderr",
     "output_type": "stream",
     "text": [
      "100%|##########| 3000/3000 [01:06<00:00, 45.07it/s]\n",
      "lbanp:lbanp-num_latents-8_matern matern tar_ll 0.7765 loss -0.7765 (66.562 secs)\n"
     ]
    },
    {
     "name": "stdout",
     "output_type": "stream",
     "text": [
      "Eval has finished\n",
      "###############SEED:  58\n",
      "Overriding argument num_latents: 8\n",
      "Overriding argument d_model: 64\n",
      "Overriding argument emb_depth: 4\n",
      "Overriding argument dim_feedforward: 128\n",
      "Overriding argument nhead: 4\n",
      "Overriding argument dropout: 0.0\n",
      "Overriding argument num_layers: 6\n",
      "True\n",
      "generating evaluation sets...\n",
      "Generating Evaluation Sets with matern kernel\n",
      "Generating Evaluation sets with context and target points:   None None\n"
     ]
    },
    {
     "name": "stderr",
     "output_type": "stream",
     "text": [
      "100%|##########| 3000/3000 [00:08<00:00, 343.78it/s]\n"
     ]
    },
    {
     "name": "stdout",
     "output_type": "stream",
     "text": [
      "Starting evaluation\n",
      "ROOT:  /rds/user/fz287/hpc-work/MLMI4/results\\gp\\lbanp\\lbanp-num_latents-8_matern\n"
     ]
    },
    {
     "name": "stderr",
     "output_type": "stream",
     "text": [
      "100%|##########| 3000/3000 [01:03<00:00, 47.27it/s]\n",
      "lbanp:lbanp-num_latents-8_matern matern tar_ll 0.7617 loss -0.7617 (63.469 secs)\n"
     ]
    },
    {
     "name": "stdout",
     "output_type": "stream",
     "text": [
      "Eval has finished\n",
      "###############SEED:  100\n",
      "Overriding argument num_latents: 8\n",
      "Overriding argument d_model: 64\n",
      "Overriding argument emb_depth: 4\n",
      "Overriding argument dim_feedforward: 128\n",
      "Overriding argument nhead: 4\n",
      "Overriding argument dropout: 0.0\n",
      "Overriding argument num_layers: 6\n",
      "True\n",
      "generating evaluation sets...\n",
      "Generating Evaluation Sets with matern kernel\n",
      "Generating Evaluation sets with context and target points:   None None\n"
     ]
    },
    {
     "name": "stderr",
     "output_type": "stream",
     "text": [
      "100%|##########| 3000/3000 [00:09<00:00, 324.39it/s]\n"
     ]
    },
    {
     "name": "stdout",
     "output_type": "stream",
     "text": [
      "Starting evaluation\n",
      "ROOT:  /rds/user/fz287/hpc-work/MLMI4/results\\gp\\lbanp\\lbanp-num_latents-8_matern\n"
     ]
    },
    {
     "name": "stderr",
     "output_type": "stream",
     "text": [
      "100%|##########| 3000/3000 [01:00<00:00, 49.76it/s]\n",
      "lbanp:lbanp-num_latents-8_matern matern tar_ll 0.7832 loss -0.7832 (60.296 secs)\n"
     ]
    },
    {
     "name": "stdout",
     "output_type": "stream",
     "text": [
      "Eval has finished\n",
      "###############SEED:  250\n",
      "Overriding argument num_latents: 8\n",
      "Overriding argument d_model: 64\n",
      "Overriding argument emb_depth: 4\n",
      "Overriding argument dim_feedforward: 128\n",
      "Overriding argument nhead: 4\n",
      "Overriding argument dropout: 0.0\n",
      "Overriding argument num_layers: 6\n",
      "True\n",
      "generating evaluation sets...\n",
      "Generating Evaluation Sets with matern kernel\n",
      "Generating Evaluation sets with context and target points:   None None\n"
     ]
    },
    {
     "name": "stderr",
     "output_type": "stream",
     "text": [
      "100%|##########| 3000/3000 [00:09<00:00, 302.68it/s]\n"
     ]
    },
    {
     "name": "stdout",
     "output_type": "stream",
     "text": [
      "Starting evaluation\n",
      "ROOT:  /rds/user/fz287/hpc-work/MLMI4/results\\gp\\lbanp\\lbanp-num_latents-8_matern\n"
     ]
    },
    {
     "name": "stderr",
     "output_type": "stream",
     "text": [
      "100%|##########| 3000/3000 [01:03<00:00, 47.40it/s]\n",
      "lbanp:lbanp-num_latents-8_matern matern tar_ll 0.7409 loss -0.7409 (63.297 secs)\n"
     ]
    },
    {
     "name": "stdout",
     "output_type": "stream",
     "text": [
      "Eval has finished\n",
      "###############SEED:  550\n",
      "Overriding argument num_latents: 8\n",
      "Overriding argument d_model: 64\n",
      "Overriding argument emb_depth: 4\n",
      "Overriding argument dim_feedforward: 128\n",
      "Overriding argument nhead: 4\n",
      "Overriding argument dropout: 0.0\n",
      "Overriding argument num_layers: 6\n",
      "True\n",
      "generating evaluation sets...\n",
      "Generating Evaluation Sets with matern kernel\n",
      "Generating Evaluation sets with context and target points:   None None\n"
     ]
    },
    {
     "name": "stderr",
     "output_type": "stream",
     "text": [
      "100%|##########| 3000/3000 [00:08<00:00, 338.35it/s]\n"
     ]
    },
    {
     "name": "stdout",
     "output_type": "stream",
     "text": [
      "Starting evaluation\n",
      "ROOT:  /rds/user/fz287/hpc-work/MLMI4/results\\gp\\lbanp\\lbanp-num_latents-8_matern\n"
     ]
    },
    {
     "name": "stderr",
     "output_type": "stream",
     "text": [
      "100%|##########| 3000/3000 [01:00<00:00, 49.95it/s]\n",
      "lbanp:lbanp-num_latents-8_matern matern tar_ll 0.7553 loss -0.7553 (60.059 secs)\n"
     ]
    },
    {
     "name": "stdout",
     "output_type": "stream",
     "text": [
      "Eval has finished\n",
      "###############SEED:  1200\n",
      "Overriding argument num_latents: 8\n",
      "Overriding argument d_model: 64\n",
      "Overriding argument emb_depth: 4\n",
      "Overriding argument dim_feedforward: 128\n",
      "Overriding argument nhead: 4\n",
      "Overriding argument dropout: 0.0\n",
      "Overriding argument num_layers: 6\n",
      "True\n",
      "generating evaluation sets...\n",
      "Generating Evaluation Sets with matern kernel\n",
      "Generating Evaluation sets with context and target points:   None None\n"
     ]
    },
    {
     "name": "stderr",
     "output_type": "stream",
     "text": [
      "100%|##########| 3000/3000 [00:09<00:00, 325.25it/s]\n"
     ]
    },
    {
     "name": "stdout",
     "output_type": "stream",
     "text": [
      "Starting evaluation\n",
      "ROOT:  /rds/user/fz287/hpc-work/MLMI4/results\\gp\\lbanp\\lbanp-num_latents-8_matern\n"
     ]
    },
    {
     "name": "stderr",
     "output_type": "stream",
     "text": [
      "100%|##########| 3000/3000 [00:59<00:00, 50.06it/s]\n",
      "lbanp:lbanp-num_latents-8_matern matern tar_ll 0.7701 loss -0.7701 (59.927 secs)\n"
     ]
    },
    {
     "name": "stdout",
     "output_type": "stream",
     "text": [
      "Eval has finished\n",
      "###############MODEL:  lbanp-num_latents-128_matern 128\n",
      "###############SEED:  0\n",
      "Overriding argument num_latents: 128\n",
      "Overriding argument d_model: 64\n",
      "Overriding argument emb_depth: 4\n",
      "Overriding argument dim_feedforward: 128\n",
      "Overriding argument nhead: 4\n",
      "Overriding argument dropout: 0.0\n",
      "Overriding argument num_layers: 6\n",
      "True\n",
      "generating evaluation sets...\n",
      "Generating Evaluation Sets with matern kernel\n",
      "Generating Evaluation sets with context and target points:   None None\n"
     ]
    },
    {
     "name": "stderr",
     "output_type": "stream",
     "text": [
      "100%|##########| 3000/3000 [00:07<00:00, 383.11it/s]\n"
     ]
    },
    {
     "name": "stdout",
     "output_type": "stream",
     "text": [
      "Starting evaluation\n",
      "ROOT:  /rds/user/fz287/hpc-work/MLMI4/results\\gp\\lbanp\\lbanp-num_latents-128_matern\n"
     ]
    },
    {
     "name": "stderr",
     "output_type": "stream",
     "text": [
      "100%|##########| 3000/3000 [00:59<00:00, 50.14it/s]\n",
      "lbanp:lbanp-num_latents-128_matern matern tar_ll 0.8913 loss -0.8913 (59.839 secs)\n"
     ]
    },
    {
     "name": "stdout",
     "output_type": "stream",
     "text": [
      "Eval has finished\n",
      "###############SEED:  58\n",
      "Overriding argument num_latents: 128\n",
      "Overriding argument d_model: 64\n",
      "Overriding argument emb_depth: 4\n",
      "Overriding argument dim_feedforward: 128\n",
      "Overriding argument nhead: 4\n",
      "Overriding argument dropout: 0.0\n",
      "Overriding argument num_layers: 6\n",
      "True\n",
      "generating evaluation sets...\n",
      "Generating Evaluation Sets with matern kernel\n",
      "Generating Evaluation sets with context and target points:   None None\n"
     ]
    },
    {
     "name": "stderr",
     "output_type": "stream",
     "text": [
      "100%|##########| 3000/3000 [00:10<00:00, 290.79it/s]\n"
     ]
    },
    {
     "name": "stdout",
     "output_type": "stream",
     "text": [
      "Starting evaluation\n",
      "ROOT:  /rds/user/fz287/hpc-work/MLMI4/results\\gp\\lbanp\\lbanp-num_latents-128_matern\n"
     ]
    },
    {
     "name": "stderr",
     "output_type": "stream",
     "text": [
      "100%|##########| 3000/3000 [00:55<00:00, 53.61it/s]\n",
      "lbanp:lbanp-num_latents-128_matern matern tar_ll 0.8813 loss -0.8813 (55.962 secs)\n"
     ]
    },
    {
     "name": "stdout",
     "output_type": "stream",
     "text": [
      "Eval has finished\n",
      "###############SEED:  100\n",
      "Overriding argument num_latents: 128\n",
      "Overriding argument d_model: 64\n",
      "Overriding argument emb_depth: 4\n",
      "Overriding argument dim_feedforward: 128\n",
      "Overriding argument nhead: 4\n",
      "Overriding argument dropout: 0.0\n",
      "Overriding argument num_layers: 6\n",
      "True\n",
      "generating evaluation sets...\n",
      "Generating Evaluation Sets with matern kernel\n",
      "Generating Evaluation sets with context and target points:   None None\n"
     ]
    },
    {
     "name": "stderr",
     "output_type": "stream",
     "text": [
      "100%|##########| 3000/3000 [00:09<00:00, 319.38it/s]\n"
     ]
    },
    {
     "name": "stdout",
     "output_type": "stream",
     "text": [
      "Starting evaluation\n",
      "ROOT:  /rds/user/fz287/hpc-work/MLMI4/results\\gp\\lbanp\\lbanp-num_latents-128_matern\n"
     ]
    },
    {
     "name": "stderr",
     "output_type": "stream",
     "text": [
      "100%|##########| 3000/3000 [00:58<00:00, 51.27it/s]\n",
      "lbanp:lbanp-num_latents-128_matern matern tar_ll 0.8984 loss -0.8984 (58.521 secs)\n"
     ]
    },
    {
     "name": "stdout",
     "output_type": "stream",
     "text": [
      "Eval has finished\n",
      "###############SEED:  250\n",
      "Overriding argument num_latents: 128\n",
      "Overriding argument d_model: 64\n",
      "Overriding argument emb_depth: 4\n",
      "Overriding argument dim_feedforward: 128\n",
      "Overriding argument nhead: 4\n",
      "Overriding argument dropout: 0.0\n",
      "Overriding argument num_layers: 6\n",
      "True\n",
      "generating evaluation sets...\n",
      "Generating Evaluation Sets with matern kernel\n",
      "Generating Evaluation sets with context and target points:   None None\n"
     ]
    },
    {
     "name": "stderr",
     "output_type": "stream",
     "text": [
      "100%|##########| 3000/3000 [00:11<00:00, 252.41it/s]\n"
     ]
    },
    {
     "name": "stdout",
     "output_type": "stream",
     "text": [
      "Starting evaluation\n",
      "ROOT:  /rds/user/fz287/hpc-work/MLMI4/results\\gp\\lbanp\\lbanp-num_latents-128_matern\n"
     ]
    },
    {
     "name": "stderr",
     "output_type": "stream",
     "text": [
      "100%|##########| 3000/3000 [00:54<00:00, 54.83it/s]\n",
      "lbanp:lbanp-num_latents-128_matern matern tar_ll 0.8570 loss -0.8570 (54.718 secs)\n"
     ]
    },
    {
     "name": "stdout",
     "output_type": "stream",
     "text": [
      "Eval has finished\n",
      "###############SEED:  550\n",
      "Overriding argument num_latents: 128\n",
      "Overriding argument d_model: 64\n",
      "Overriding argument emb_depth: 4\n",
      "Overriding argument dim_feedforward: 128\n",
      "Overriding argument nhead: 4\n",
      "Overriding argument dropout: 0.0\n",
      "Overriding argument num_layers: 6\n",
      "True\n",
      "generating evaluation sets...\n",
      "Generating Evaluation Sets with matern kernel\n",
      "Generating Evaluation sets with context and target points:   None None\n"
     ]
    },
    {
     "name": "stderr",
     "output_type": "stream",
     "text": [
      "100%|##########| 3000/3000 [00:08<00:00, 340.58it/s]\n"
     ]
    },
    {
     "name": "stdout",
     "output_type": "stream",
     "text": [
      "Starting evaluation\n",
      "ROOT:  /rds/user/fz287/hpc-work/MLMI4/results\\gp\\lbanp\\lbanp-num_latents-128_matern\n"
     ]
    },
    {
     "name": "stderr",
     "output_type": "stream",
     "text": [
      "100%|##########| 3000/3000 [00:55<00:00, 54.49it/s]\n",
      "lbanp:lbanp-num_latents-128_matern matern tar_ll 0.8732 loss -0.8732 (55.064 secs)\n"
     ]
    },
    {
     "name": "stdout",
     "output_type": "stream",
     "text": [
      "Eval has finished\n",
      "###############SEED:  1200\n",
      "Overriding argument num_latents: 128\n",
      "Overriding argument d_model: 64\n",
      "Overriding argument emb_depth: 4\n",
      "Overriding argument dim_feedforward: 128\n",
      "Overriding argument nhead: 4\n",
      "Overriding argument dropout: 0.0\n",
      "Overriding argument num_layers: 6\n",
      "True\n",
      "generating evaluation sets...\n",
      "Generating Evaluation Sets with matern kernel\n",
      "Generating Evaluation sets with context and target points:   None None\n"
     ]
    },
    {
     "name": "stderr",
     "output_type": "stream",
     "text": [
      "100%|##########| 3000/3000 [00:08<00:00, 335.61it/s]\n"
     ]
    },
    {
     "name": "stdout",
     "output_type": "stream",
     "text": [
      "Starting evaluation\n",
      "ROOT:  /rds/user/fz287/hpc-work/MLMI4/results\\gp\\lbanp\\lbanp-num_latents-128_matern\n"
     ]
    },
    {
     "name": "stderr",
     "output_type": "stream",
     "text": [
      "100%|##########| 3000/3000 [00:56<00:00, 53.31it/s]\n",
      "lbanp:lbanp-num_latents-128_matern matern tar_ll 0.8898 loss -0.8898 (56.278 secs)\n"
     ]
    },
    {
     "name": "stdout",
     "output_type": "stream",
     "text": [
      "Eval has finished\n"
     ]
    }
   ],
   "source": [
    "model_names=['lbanp-num_latents-8_matern',\n",
    "             'lbanp-num_latents-128_matern'\n",
    "            ]\n",
    "latents_l=[8, 128]\n",
    "modelito='lbanp'\n",
    "\n",
    "for latents, model_name in zip(latents_l, model_names):\n",
    "    print('###############MODEL: ',model_name, latents)\n",
    "    for seed in [0,58,100,250,550,1200]:\n",
    "        print('###############SEED: ',seed)\n",
    "        %run gp_track.py --mode eval --expid {model_name} --model {modelito} --num_latents {latents} --custom_eval True --eval_num_batches 3000 --eval_seed {seed} --eval_kernel matern"
   ]
  },
  {
   "cell_type": "code",
   "execution_count": 5,
   "id": "67503c35-18d1-44ca-8819-733aba8e6d2b",
   "metadata": {
    "tags": []
   },
   "outputs": [
    {
     "name": "stdout",
     "output_type": "stream",
     "text": [
      "###############MODEL:  isanp-num_latents-8_matern 8\n",
      "###############SEED:  0\n",
      "Overriding argument num_latents: 8\n",
      "Overriding argument d_model: 64\n",
      "Overriding argument emb_depth: 4\n",
      "Overriding argument dim_feedforward: 128\n",
      "Overriding argument nhead: 4\n",
      "Overriding argument dropout: 0.0\n",
      "Overriding argument num_layers: 6\n",
      "True\n",
      "generating evaluation sets...\n",
      "Generating Evaluation Sets with matern kernel\n",
      "Generating Evaluation sets with context and target points:   None None\n"
     ]
    },
    {
     "name": "stderr",
     "output_type": "stream",
     "text": [
      "100%|##########| 3000/3000 [00:08<00:00, 335.14it/s]\n"
     ]
    },
    {
     "name": "stdout",
     "output_type": "stream",
     "text": [
      "Starting evaluation\n",
      "ROOT:  /rds/user/fz287/hpc-work/MLMI4/results\\gp\\isanp\\isanp-num_latents-8_matern\n"
     ]
    },
    {
     "name": "stderr",
     "output_type": "stream",
     "text": [
      "100%|##########| 3000/3000 [01:09<00:00, 43.46it/s]\n",
      "isanp:isanp-num_latents-8_matern matern tar_ll 0.8181 loss -0.8181 (69.029 secs)\n"
     ]
    },
    {
     "name": "stdout",
     "output_type": "stream",
     "text": [
      "Eval has finished\n",
      "###############SEED:  58\n",
      "Overriding argument num_latents: 8\n",
      "Overriding argument d_model: 64\n",
      "Overriding argument emb_depth: 4\n",
      "Overriding argument dim_feedforward: 128\n",
      "Overriding argument nhead: 4\n",
      "Overriding argument dropout: 0.0\n",
      "Overriding argument num_layers: 6\n",
      "True\n",
      "generating evaluation sets...\n",
      "Generating Evaluation Sets with matern kernel\n",
      "Generating Evaluation sets with context and target points:   None None\n"
     ]
    },
    {
     "name": "stderr",
     "output_type": "stream",
     "text": [
      "100%|##########| 3000/3000 [00:08<00:00, 341.86it/s]\n"
     ]
    },
    {
     "name": "stdout",
     "output_type": "stream",
     "text": [
      "Starting evaluation\n",
      "ROOT:  /rds/user/fz287/hpc-work/MLMI4/results\\gp\\isanp\\isanp-num_latents-8_matern\n"
     ]
    },
    {
     "name": "stderr",
     "output_type": "stream",
     "text": [
      "100%|##########| 3000/3000 [01:01<00:00, 49.17it/s]\n",
      "isanp:isanp-num_latents-8_matern matern tar_ll 0.8019 loss -0.8019 (61.014 secs)\n"
     ]
    },
    {
     "name": "stdout",
     "output_type": "stream",
     "text": [
      "Eval has finished\n",
      "###############SEED:  100\n",
      "Overriding argument num_latents: 8\n",
      "Overriding argument d_model: 64\n",
      "Overriding argument emb_depth: 4\n",
      "Overriding argument dim_feedforward: 128\n",
      "Overriding argument nhead: 4\n",
      "Overriding argument dropout: 0.0\n",
      "Overriding argument num_layers: 6\n",
      "True\n",
      "generating evaluation sets...\n",
      "Generating Evaluation Sets with matern kernel\n",
      "Generating Evaluation sets with context and target points:   None None\n"
     ]
    },
    {
     "name": "stderr",
     "output_type": "stream",
     "text": [
      "100%|##########| 3000/3000 [00:09<00:00, 322.55it/s]\n"
     ]
    },
    {
     "name": "stdout",
     "output_type": "stream",
     "text": [
      "Starting evaluation\n",
      "ROOT:  /rds/user/fz287/hpc-work/MLMI4/results\\gp\\isanp\\isanp-num_latents-8_matern\n"
     ]
    },
    {
     "name": "stderr",
     "output_type": "stream",
     "text": [
      "100%|##########| 3000/3000 [01:00<00:00, 49.97it/s]\n",
      "isanp:isanp-num_latents-8_matern matern tar_ll 0.8207 loss -0.8207 (60.045 secs)\n"
     ]
    },
    {
     "name": "stdout",
     "output_type": "stream",
     "text": [
      "Eval has finished\n",
      "###############SEED:  250\n",
      "Overriding argument num_latents: 8\n",
      "Overriding argument d_model: 64\n",
      "Overriding argument emb_depth: 4\n",
      "Overriding argument dim_feedforward: 128\n",
      "Overriding argument nhead: 4\n",
      "Overriding argument dropout: 0.0\n",
      "Overriding argument num_layers: 6\n",
      "True\n",
      "generating evaluation sets...\n",
      "Generating Evaluation Sets with matern kernel\n",
      "Generating Evaluation sets with context and target points:   None None\n"
     ]
    },
    {
     "name": "stderr",
     "output_type": "stream",
     "text": [
      "100%|##########| 3000/3000 [00:08<00:00, 340.18it/s]\n"
     ]
    },
    {
     "name": "stdout",
     "output_type": "stream",
     "text": [
      "Starting evaluation\n",
      "ROOT:  /rds/user/fz287/hpc-work/MLMI4/results\\gp\\isanp\\isanp-num_latents-8_matern\n"
     ]
    },
    {
     "name": "stderr",
     "output_type": "stream",
     "text": [
      "100%|##########| 3000/3000 [01:03<00:00, 47.08it/s]\n",
      "isanp:isanp-num_latents-8_matern matern tar_ll 0.7831 loss -0.7831 (63.728 secs)\n"
     ]
    },
    {
     "name": "stdout",
     "output_type": "stream",
     "text": [
      "Eval has finished\n",
      "###############SEED:  550\n",
      "Overriding argument num_latents: 8\n",
      "Overriding argument d_model: 64\n",
      "Overriding argument emb_depth: 4\n",
      "Overriding argument dim_feedforward: 128\n",
      "Overriding argument nhead: 4\n",
      "Overriding argument dropout: 0.0\n",
      "Overriding argument num_layers: 6\n",
      "True\n",
      "generating evaluation sets...\n",
      "Generating Evaluation Sets with matern kernel\n",
      "Generating Evaluation sets with context and target points:   None None\n"
     ]
    },
    {
     "name": "stderr",
     "output_type": "stream",
     "text": [
      "100%|##########| 3000/3000 [00:10<00:00, 276.87it/s]\n"
     ]
    },
    {
     "name": "stdout",
     "output_type": "stream",
     "text": [
      "Starting evaluation\n",
      "ROOT:  /rds/user/fz287/hpc-work/MLMI4/results\\gp\\isanp\\isanp-num_latents-8_matern\n"
     ]
    },
    {
     "name": "stderr",
     "output_type": "stream",
     "text": [
      "100%|##########| 3000/3000 [00:59<00:00, 50.15it/s]\n",
      "isanp:isanp-num_latents-8_matern matern tar_ll 0.7981 loss -0.7981 (59.822 secs)\n"
     ]
    },
    {
     "name": "stdout",
     "output_type": "stream",
     "text": [
      "Eval has finished\n",
      "###############SEED:  1200\n",
      "Overriding argument num_latents: 8\n",
      "Overriding argument d_model: 64\n",
      "Overriding argument emb_depth: 4\n",
      "Overriding argument dim_feedforward: 128\n",
      "Overriding argument nhead: 4\n",
      "Overriding argument dropout: 0.0\n",
      "Overriding argument num_layers: 6\n",
      "True\n",
      "generating evaluation sets...\n",
      "Generating Evaluation Sets with matern kernel\n",
      "Generating Evaluation sets with context and target points:   None None\n"
     ]
    },
    {
     "name": "stderr",
     "output_type": "stream",
     "text": [
      "100%|##########| 3000/3000 [00:08<00:00, 351.46it/s]\n"
     ]
    },
    {
     "name": "stdout",
     "output_type": "stream",
     "text": [
      "Starting evaluation\n",
      "ROOT:  /rds/user/fz287/hpc-work/MLMI4/results\\gp\\isanp\\isanp-num_latents-8_matern\n"
     ]
    },
    {
     "name": "stderr",
     "output_type": "stream",
     "text": [
      "100%|##########| 3000/3000 [00:58<00:00, 51.26it/s]\n",
      "isanp:isanp-num_latents-8_matern matern tar_ll 0.8125 loss -0.8125 (58.525 secs)\n"
     ]
    },
    {
     "name": "stdout",
     "output_type": "stream",
     "text": [
      "Eval has finished\n",
      "###############MODEL:  isanp-num_latents-128_matern 128\n",
      "###############SEED:  0\n",
      "Overriding argument num_latents: 128\n",
      "Overriding argument d_model: 64\n",
      "Overriding argument emb_depth: 4\n",
      "Overriding argument dim_feedforward: 128\n",
      "Overriding argument nhead: 4\n",
      "Overriding argument dropout: 0.0\n",
      "Overriding argument num_layers: 6\n",
      "True\n",
      "generating evaluation sets...\n",
      "Generating Evaluation Sets with matern kernel\n",
      "Generating Evaluation sets with context and target points:   None None\n"
     ]
    },
    {
     "name": "stderr",
     "output_type": "stream",
     "text": [
      "100%|##########| 3000/3000 [00:09<00:00, 324.09it/s]\n"
     ]
    },
    {
     "name": "stdout",
     "output_type": "stream",
     "text": [
      "Starting evaluation\n",
      "ROOT:  /rds/user/fz287/hpc-work/MLMI4/results\\gp\\isanp\\isanp-num_latents-128_matern\n"
     ]
    },
    {
     "name": "stderr",
     "output_type": "stream",
     "text": [
      "100%|##########| 3000/3000 [00:56<00:00, 52.85it/s]\n",
      "isanp:isanp-num_latents-128_matern matern tar_ll 0.9146 loss -0.9146 (56.766 secs)\n"
     ]
    },
    {
     "name": "stdout",
     "output_type": "stream",
     "text": [
      "Eval has finished\n",
      "###############SEED:  58\n",
      "Overriding argument num_latents: 128\n",
      "Overriding argument d_model: 64\n",
      "Overriding argument emb_depth: 4\n",
      "Overriding argument dim_feedforward: 128\n",
      "Overriding argument nhead: 4\n",
      "Overriding argument dropout: 0.0\n",
      "Overriding argument num_layers: 6\n",
      "True\n",
      "generating evaluation sets...\n",
      "Generating Evaluation Sets with matern kernel\n",
      "Generating Evaluation sets with context and target points:   None None\n"
     ]
    },
    {
     "name": "stderr",
     "output_type": "stream",
     "text": [
      "100%|##########| 3000/3000 [00:07<00:00, 407.35it/s]\n"
     ]
    },
    {
     "name": "stdout",
     "output_type": "stream",
     "text": [
      "Starting evaluation\n",
      "ROOT:  /rds/user/fz287/hpc-work/MLMI4/results\\gp\\isanp\\isanp-num_latents-128_matern\n"
     ]
    },
    {
     "name": "stderr",
     "output_type": "stream",
     "text": [
      "100%|##########| 3000/3000 [00:54<00:00, 54.61it/s]\n",
      "isanp:isanp-num_latents-128_matern matern tar_ll 0.9031 loss -0.9031 (54.936 secs)\n"
     ]
    },
    {
     "name": "stdout",
     "output_type": "stream",
     "text": [
      "Eval has finished\n",
      "###############SEED:  100\n",
      "Overriding argument num_latents: 128\n",
      "Overriding argument d_model: 64\n",
      "Overriding argument emb_depth: 4\n",
      "Overriding argument dim_feedforward: 128\n",
      "Overriding argument nhead: 4\n",
      "Overriding argument dropout: 0.0\n",
      "Overriding argument num_layers: 6\n",
      "True\n",
      "generating evaluation sets...\n",
      "Generating Evaluation Sets with matern kernel\n",
      "Generating Evaluation sets with context and target points:   None None\n"
     ]
    },
    {
     "name": "stderr",
     "output_type": "stream",
     "text": [
      "100%|##########| 3000/3000 [00:05<00:00, 549.25it/s]\n"
     ]
    },
    {
     "name": "stdout",
     "output_type": "stream",
     "text": [
      "Starting evaluation\n",
      "ROOT:  /rds/user/fz287/hpc-work/MLMI4/results\\gp\\isanp\\isanp-num_latents-128_matern\n"
     ]
    },
    {
     "name": "stderr",
     "output_type": "stream",
     "text": [
      "100%|##########| 3000/3000 [00:54<00:00, 54.95it/s]\n",
      "isanp:isanp-num_latents-128_matern matern tar_ll 0.9188 loss -0.9188 (54.598 secs)\n"
     ]
    },
    {
     "name": "stdout",
     "output_type": "stream",
     "text": [
      "Eval has finished\n",
      "###############SEED:  250\n",
      "Overriding argument num_latents: 128\n",
      "Overriding argument d_model: 64\n",
      "Overriding argument emb_depth: 4\n",
      "Overriding argument dim_feedforward: 128\n",
      "Overriding argument nhead: 4\n",
      "Overriding argument dropout: 0.0\n",
      "Overriding argument num_layers: 6\n",
      "True\n",
      "generating evaluation sets...\n",
      "Generating Evaluation Sets with matern kernel\n",
      "Generating Evaluation sets with context and target points:   None None\n"
     ]
    },
    {
     "name": "stderr",
     "output_type": "stream",
     "text": [
      "100%|##########| 3000/3000 [00:05<00:00, 556.60it/s]\n"
     ]
    },
    {
     "name": "stdout",
     "output_type": "stream",
     "text": [
      "Starting evaluation\n",
      "ROOT:  /rds/user/fz287/hpc-work/MLMI4/results\\gp\\isanp\\isanp-num_latents-128_matern\n"
     ]
    },
    {
     "name": "stderr",
     "output_type": "stream",
     "text": [
      "100%|##########| 3000/3000 [00:45<00:00, 65.92it/s]\n",
      "isanp:isanp-num_latents-128_matern matern tar_ll 0.8813 loss -0.8813 (45.515 secs)\n"
     ]
    },
    {
     "name": "stdout",
     "output_type": "stream",
     "text": [
      "Eval has finished\n",
      "###############SEED:  550\n",
      "Overriding argument num_latents: 128\n",
      "Overriding argument d_model: 64\n",
      "Overriding argument emb_depth: 4\n",
      "Overriding argument dim_feedforward: 128\n",
      "Overriding argument nhead: 4\n",
      "Overriding argument dropout: 0.0\n",
      "Overriding argument num_layers: 6\n",
      "True\n",
      "generating evaluation sets...\n",
      "Generating Evaluation Sets with matern kernel\n",
      "Generating Evaluation sets with context and target points:   None None\n"
     ]
    },
    {
     "name": "stderr",
     "output_type": "stream",
     "text": [
      "100%|##########| 3000/3000 [00:04<00:00, 630.76it/s]\n"
     ]
    },
    {
     "name": "stdout",
     "output_type": "stream",
     "text": [
      "Starting evaluation\n",
      "ROOT:  /rds/user/fz287/hpc-work/MLMI4/results\\gp\\isanp\\isanp-num_latents-128_matern\n"
     ]
    },
    {
     "name": "stderr",
     "output_type": "stream",
     "text": [
      "100%|##########| 3000/3000 [00:45<00:00, 66.13it/s]\n",
      "isanp:isanp-num_latents-128_matern matern tar_ll 0.8929 loss -0.8929 (45.370 secs)\n"
     ]
    },
    {
     "name": "stdout",
     "output_type": "stream",
     "text": [
      "Eval has finished\n",
      "###############SEED:  1200\n",
      "Overriding argument num_latents: 128\n",
      "Overriding argument d_model: 64\n",
      "Overriding argument emb_depth: 4\n",
      "Overriding argument dim_feedforward: 128\n",
      "Overriding argument nhead: 4\n",
      "Overriding argument dropout: 0.0\n",
      "Overriding argument num_layers: 6\n",
      "True\n",
      "generating evaluation sets...\n",
      "Generating Evaluation Sets with matern kernel\n",
      "Generating Evaluation sets with context and target points:   None None\n"
     ]
    },
    {
     "name": "stderr",
     "output_type": "stream",
     "text": [
      "100%|##########| 3000/3000 [00:05<00:00, 580.79it/s]\n"
     ]
    },
    {
     "name": "stdout",
     "output_type": "stream",
     "text": [
      "Starting evaluation\n",
      "ROOT:  /rds/user/fz287/hpc-work/MLMI4/results\\gp\\isanp\\isanp-num_latents-128_matern\n"
     ]
    },
    {
     "name": "stderr",
     "output_type": "stream",
     "text": [
      "100%|##########| 3000/3000 [00:46<00:00, 63.96it/s]\n",
      "isanp:isanp-num_latents-128_matern matern tar_ll 0.9133 loss -0.9133 (46.904 secs)\n"
     ]
    },
    {
     "name": "stdout",
     "output_type": "stream",
     "text": [
      "Eval has finished\n"
     ]
    }
   ],
   "source": [
    "model_names=['isanp-num_latents-8_matern',\n",
    "             'isanp-num_latents-128_matern',\n",
    "            ]\n",
    "latents_l=[8, 128]\n",
    "modelito='isanp'\n",
    "\n",
    "for latents, model_name in zip(latents_l, model_names):\n",
    "    print('###############MODEL: ',model_name, latents)\n",
    "    for seed in [0,58,100,250,550,1200]:\n",
    "        print('###############SEED: ',seed)\n",
    "        %run gp_track.py --mode eval --expid {model_name} --model {modelito} --num_latents {latents} --custom_eval True --eval_num_batches 3000 --eval_seed {seed} --eval_kernel matern"
   ]
  },
  {
   "cell_type": "code",
   "execution_count": 8,
   "id": "5e1465b5-70e4-4dec-ba06-7319eafd00c1",
   "metadata": {
    "tags": []
   },
   "outputs": [
    {
     "name": "stdout",
     "output_type": "stream",
     "text": [
      "###############MODEL:  isanp2-num_latents-8_matern_0 8\n",
      "###############SEED:  0\n",
      "Overriding argument num_latents: 8\n",
      "Overriding argument d_model: 64\n",
      "Overriding argument emb_depth: 4\n",
      "Overriding argument dim_feedforward: 128\n",
      "Overriding argument nhead: 4\n",
      "Overriding argument dropout: 0.0\n",
      "Overriding argument num_layers: 6\n",
      "True\n",
      "generating evaluation sets...\n",
      "Generating Evaluation Sets with matern kernel\n",
      "Generating Evaluation sets with context and target points:   None None\n"
     ]
    },
    {
     "name": "stderr",
     "output_type": "stream",
     "text": [
      "100%|##########| 3000/3000 [00:04<00:00, 720.85it/s]\n"
     ]
    },
    {
     "name": "stdout",
     "output_type": "stream",
     "text": [
      "Starting evaluation\n",
      "ROOT:  /rds/user/fz287/hpc-work/MLMI4/results\\gp\\isanp2\\isanp2-num_latents-8_matern_0\n"
     ]
    },
    {
     "name": "stderr",
     "output_type": "stream",
     "text": [
      "100%|##########| 3000/3000 [00:47<00:00, 63.51it/s]\n",
      "isanp2:isanp2-num_latents-8_matern_0 matern tar_ll 0.7646 loss -0.7646 (47.241 secs)\n"
     ]
    },
    {
     "name": "stdout",
     "output_type": "stream",
     "text": [
      "Eval has finished\n",
      "###############SEED:  58\n",
      "Overriding argument num_latents: 8\n",
      "Overriding argument d_model: 64\n",
      "Overriding argument emb_depth: 4\n",
      "Overriding argument dim_feedforward: 128\n",
      "Overriding argument nhead: 4\n",
      "Overriding argument dropout: 0.0\n",
      "Overriding argument num_layers: 6\n",
      "True\n",
      "generating evaluation sets...\n",
      "Generating Evaluation Sets with matern kernel\n",
      "Generating Evaluation sets with context and target points:   None None\n"
     ]
    },
    {
     "name": "stderr",
     "output_type": "stream",
     "text": [
      "100%|##########| 3000/3000 [00:05<00:00, 554.46it/s]\n"
     ]
    },
    {
     "name": "stdout",
     "output_type": "stream",
     "text": [
      "Starting evaluation\n",
      "ROOT:  /rds/user/fz287/hpc-work/MLMI4/results\\gp\\isanp2\\isanp2-num_latents-8_matern_0\n"
     ]
    },
    {
     "name": "stderr",
     "output_type": "stream",
     "text": [
      "100%|##########| 3000/3000 [00:47<00:00, 63.15it/s]\n",
      "isanp2:isanp2-num_latents-8_matern_0 matern tar_ll 0.7508 loss -0.7508 (47.511 secs)\n"
     ]
    },
    {
     "name": "stdout",
     "output_type": "stream",
     "text": [
      "Eval has finished\n",
      "###############SEED:  100\n",
      "Overriding argument num_latents: 8\n",
      "Overriding argument d_model: 64\n",
      "Overriding argument emb_depth: 4\n",
      "Overriding argument dim_feedforward: 128\n",
      "Overriding argument nhead: 4\n",
      "Overriding argument dropout: 0.0\n",
      "Overriding argument num_layers: 6\n",
      "True\n",
      "generating evaluation sets...\n",
      "Generating Evaluation Sets with matern kernel\n",
      "Generating Evaluation sets with context and target points:   None None\n"
     ]
    },
    {
     "name": "stderr",
     "output_type": "stream",
     "text": [
      "100%|##########| 3000/3000 [00:05<00:00, 523.94it/s]\n"
     ]
    },
    {
     "name": "stdout",
     "output_type": "stream",
     "text": [
      "Starting evaluation\n",
      "ROOT:  /rds/user/fz287/hpc-work/MLMI4/results\\gp\\isanp2\\isanp2-num_latents-8_matern_0\n"
     ]
    },
    {
     "name": "stderr",
     "output_type": "stream",
     "text": [
      "100%|##########| 3000/3000 [00:47<00:00, 62.74it/s]\n",
      "isanp2:isanp2-num_latents-8_matern_0 matern tar_ll 0.7721 loss -0.7721 (47.824 secs)\n"
     ]
    },
    {
     "name": "stdout",
     "output_type": "stream",
     "text": [
      "Eval has finished\n",
      "###############SEED:  250\n",
      "Overriding argument num_latents: 8\n",
      "Overriding argument d_model: 64\n",
      "Overriding argument emb_depth: 4\n",
      "Overriding argument dim_feedforward: 128\n",
      "Overriding argument nhead: 4\n",
      "Overriding argument dropout: 0.0\n",
      "Overriding argument num_layers: 6\n",
      "True\n",
      "generating evaluation sets...\n",
      "Generating Evaluation Sets with matern kernel\n",
      "Generating Evaluation sets with context and target points:   None None\n"
     ]
    },
    {
     "name": "stderr",
     "output_type": "stream",
     "text": [
      "100%|##########| 3000/3000 [00:05<00:00, 581.22it/s]\n"
     ]
    },
    {
     "name": "stdout",
     "output_type": "stream",
     "text": [
      "Starting evaluation\n",
      "ROOT:  /rds/user/fz287/hpc-work/MLMI4/results\\gp\\isanp2\\isanp2-num_latents-8_matern_0\n"
     ]
    },
    {
     "name": "stderr",
     "output_type": "stream",
     "text": [
      "100%|##########| 3000/3000 [00:47<00:00, 62.55it/s]\n",
      "isanp2:isanp2-num_latents-8_matern_0 matern tar_ll 0.7277 loss -0.7277 (47.968 secs)\n"
     ]
    },
    {
     "name": "stdout",
     "output_type": "stream",
     "text": [
      "Eval has finished\n",
      "###############SEED:  550\n",
      "Overriding argument num_latents: 8\n",
      "Overriding argument d_model: 64\n",
      "Overriding argument emb_depth: 4\n",
      "Overriding argument dim_feedforward: 128\n",
      "Overriding argument nhead: 4\n",
      "Overriding argument dropout: 0.0\n",
      "Overriding argument num_layers: 6\n",
      "True\n",
      "generating evaluation sets...\n",
      "Generating Evaluation Sets with matern kernel\n",
      "Generating Evaluation sets with context and target points:   None None\n"
     ]
    },
    {
     "name": "stderr",
     "output_type": "stream",
     "text": [
      "100%|##########| 3000/3000 [00:05<00:00, 539.49it/s]\n"
     ]
    },
    {
     "name": "stdout",
     "output_type": "stream",
     "text": [
      "Starting evaluation\n",
      "ROOT:  /rds/user/fz287/hpc-work/MLMI4/results\\gp\\isanp2\\isanp2-num_latents-8_matern_0\n"
     ]
    },
    {
     "name": "stderr",
     "output_type": "stream",
     "text": [
      "100%|##########| 3000/3000 [00:49<00:00, 60.22it/s]\n",
      "isanp2:isanp2-num_latents-8_matern_0 matern tar_ll 0.7373 loss -0.7373 (49.824 secs)\n"
     ]
    },
    {
     "name": "stdout",
     "output_type": "stream",
     "text": [
      "Eval has finished\n",
      "###############SEED:  1200\n",
      "Overriding argument num_latents: 8\n",
      "Overriding argument d_model: 64\n",
      "Overriding argument emb_depth: 4\n",
      "Overriding argument dim_feedforward: 128\n",
      "Overriding argument nhead: 4\n",
      "Overriding argument dropout: 0.0\n",
      "Overriding argument num_layers: 6\n",
      "True\n",
      "generating evaluation sets...\n",
      "Generating Evaluation Sets with matern kernel\n",
      "Generating Evaluation sets with context and target points:   None None\n"
     ]
    },
    {
     "name": "stderr",
     "output_type": "stream",
     "text": [
      "100%|##########| 3000/3000 [00:05<00:00, 560.83it/s]\n"
     ]
    },
    {
     "name": "stdout",
     "output_type": "stream",
     "text": [
      "Starting evaluation\n",
      "ROOT:  /rds/user/fz287/hpc-work/MLMI4/results\\gp\\isanp2\\isanp2-num_latents-8_matern_0\n"
     ]
    },
    {
     "name": "stderr",
     "output_type": "stream",
     "text": [
      "100%|##########| 3000/3000 [00:49<00:00, 60.16it/s]\n",
      "isanp2:isanp2-num_latents-8_matern_0 matern tar_ll 0.7526 loss -0.7526 (49.866 secs)\n"
     ]
    },
    {
     "name": "stdout",
     "output_type": "stream",
     "text": [
      "Eval has finished\n",
      "###############MODEL:  isanp2-num_latents-128_matern_0 128\n",
      "###############SEED:  0\n",
      "Overriding argument num_latents: 128\n",
      "Overriding argument d_model: 64\n",
      "Overriding argument emb_depth: 4\n",
      "Overriding argument dim_feedforward: 128\n",
      "Overriding argument nhead: 4\n",
      "Overriding argument dropout: 0.0\n",
      "Overriding argument num_layers: 6\n",
      "True\n",
      "generating evaluation sets...\n",
      "Generating Evaluation Sets with matern kernel\n",
      "Generating Evaluation sets with context and target points:   None None\n"
     ]
    },
    {
     "name": "stderr",
     "output_type": "stream",
     "text": [
      "100%|##########| 3000/3000 [00:06<00:00, 454.05it/s]\n"
     ]
    },
    {
     "name": "stdout",
     "output_type": "stream",
     "text": [
      "Starting evaluation\n",
      "ROOT:  /rds/user/fz287/hpc-work/MLMI4/results\\gp\\isanp2\\isanp2-num_latents-128_matern_0\n"
     ]
    },
    {
     "name": "stderr",
     "output_type": "stream",
     "text": [
      "100%|##########| 3000/3000 [00:47<00:00, 63.59it/s]\n",
      "isanp2:isanp2-num_latents-128_matern_0 matern tar_ll 0.8342 loss -0.8342 (47.177 secs)\n"
     ]
    },
    {
     "name": "stdout",
     "output_type": "stream",
     "text": [
      "Eval has finished\n",
      "###############SEED:  58\n",
      "Overriding argument num_latents: 128\n",
      "Overriding argument d_model: 64\n",
      "Overriding argument emb_depth: 4\n",
      "Overriding argument dim_feedforward: 128\n",
      "Overriding argument nhead: 4\n",
      "Overriding argument dropout: 0.0\n",
      "Overriding argument num_layers: 6\n",
      "True\n",
      "generating evaluation sets...\n",
      "Generating Evaluation Sets with matern kernel\n",
      "Generating Evaluation sets with context and target points:   None None\n"
     ]
    },
    {
     "name": "stderr",
     "output_type": "stream",
     "text": [
      "100%|##########| 3000/3000 [00:04<00:00, 612.22it/s]\n"
     ]
    },
    {
     "name": "stdout",
     "output_type": "stream",
     "text": [
      "Starting evaluation\n",
      "ROOT:  /rds/user/fz287/hpc-work/MLMI4/results\\gp\\isanp2\\isanp2-num_latents-128_matern_0\n"
     ]
    },
    {
     "name": "stderr",
     "output_type": "stream",
     "text": [
      "100%|##########| 3000/3000 [00:42<00:00, 70.23it/s]\n",
      "isanp2:isanp2-num_latents-128_matern_0 matern tar_ll 0.8210 loss -0.8210 (42.718 secs)\n"
     ]
    },
    {
     "name": "stdout",
     "output_type": "stream",
     "text": [
      "Eval has finished\n",
      "###############SEED:  100\n",
      "Overriding argument num_latents: 128\n",
      "Overriding argument d_model: 64\n",
      "Overriding argument emb_depth: 4\n",
      "Overriding argument dim_feedforward: 128\n",
      "Overriding argument nhead: 4\n",
      "Overriding argument dropout: 0.0\n",
      "Overriding argument num_layers: 6\n",
      "True\n",
      "generating evaluation sets...\n",
      "Generating Evaluation Sets with matern kernel\n",
      "Generating Evaluation sets with context and target points:   None None\n"
     ]
    },
    {
     "name": "stderr",
     "output_type": "stream",
     "text": [
      "100%|##########| 3000/3000 [00:05<00:00, 584.77it/s]\n"
     ]
    },
    {
     "name": "stdout",
     "output_type": "stream",
     "text": [
      "Starting evaluation\n",
      "ROOT:  /rds/user/fz287/hpc-work/MLMI4/results\\gp\\isanp2\\isanp2-num_latents-128_matern_0\n"
     ]
    },
    {
     "name": "stderr",
     "output_type": "stream",
     "text": [
      "100%|##########| 3000/3000 [00:43<00:00, 68.64it/s]\n",
      "isanp2:isanp2-num_latents-128_matern_0 matern tar_ll 0.8436 loss -0.8436 (43.706 secs)\n"
     ]
    },
    {
     "name": "stdout",
     "output_type": "stream",
     "text": [
      "Eval has finished\n",
      "###############SEED:  250\n",
      "Overriding argument num_latents: 128\n",
      "Overriding argument d_model: 64\n",
      "Overriding argument emb_depth: 4\n",
      "Overriding argument dim_feedforward: 128\n",
      "Overriding argument nhead: 4\n",
      "Overriding argument dropout: 0.0\n",
      "Overriding argument num_layers: 6\n",
      "True\n",
      "generating evaluation sets...\n",
      "Generating Evaluation Sets with matern kernel\n",
      "Generating Evaluation sets with context and target points:   None None\n"
     ]
    },
    {
     "name": "stderr",
     "output_type": "stream",
     "text": [
      "100%|##########| 3000/3000 [00:05<00:00, 583.55it/s]\n"
     ]
    },
    {
     "name": "stdout",
     "output_type": "stream",
     "text": [
      "Starting evaluation\n",
      "ROOT:  /rds/user/fz287/hpc-work/MLMI4/results\\gp\\isanp2\\isanp2-num_latents-128_matern_0\n"
     ]
    },
    {
     "name": "stderr",
     "output_type": "stream",
     "text": [
      "100%|##########| 3000/3000 [00:43<00:00, 69.76it/s]\n",
      "isanp2:isanp2-num_latents-128_matern_0 matern tar_ll 0.7968 loss -0.7968 (43.005 secs)\n"
     ]
    },
    {
     "name": "stdout",
     "output_type": "stream",
     "text": [
      "Eval has finished\n",
      "###############SEED:  550\n",
      "Overriding argument num_latents: 128\n",
      "Overriding argument d_model: 64\n",
      "Overriding argument emb_depth: 4\n",
      "Overriding argument dim_feedforward: 128\n",
      "Overriding argument nhead: 4\n",
      "Overriding argument dropout: 0.0\n",
      "Overriding argument num_layers: 6\n",
      "True\n",
      "generating evaluation sets...\n",
      "Generating Evaluation Sets with matern kernel\n",
      "Generating Evaluation sets with context and target points:   None None\n"
     ]
    },
    {
     "name": "stderr",
     "output_type": "stream",
     "text": [
      "100%|##########| 3000/3000 [00:05<00:00, 592.34it/s]\n"
     ]
    },
    {
     "name": "stdout",
     "output_type": "stream",
     "text": [
      "Starting evaluation\n",
      "ROOT:  /rds/user/fz287/hpc-work/MLMI4/results\\gp\\isanp2\\isanp2-num_latents-128_matern_0\n"
     ]
    },
    {
     "name": "stderr",
     "output_type": "stream",
     "text": [
      "100%|##########| 3000/3000 [00:42<00:00, 71.13it/s]\n",
      "isanp2:isanp2-num_latents-128_matern_0 matern tar_ll 0.8170 loss -0.8170 (42.178 secs)\n"
     ]
    },
    {
     "name": "stdout",
     "output_type": "stream",
     "text": [
      "Eval has finished\n",
      "###############SEED:  1200\n",
      "Overriding argument num_latents: 128\n",
      "Overriding argument d_model: 64\n",
      "Overriding argument emb_depth: 4\n",
      "Overriding argument dim_feedforward: 128\n",
      "Overriding argument nhead: 4\n",
      "Overriding argument dropout: 0.0\n",
      "Overriding argument num_layers: 6\n",
      "True\n",
      "generating evaluation sets...\n",
      "Generating Evaluation Sets with matern kernel\n",
      "Generating Evaluation sets with context and target points:   None None\n"
     ]
    },
    {
     "name": "stderr",
     "output_type": "stream",
     "text": [
      "100%|##########| 3000/3000 [00:05<00:00, 573.15it/s]\n"
     ]
    },
    {
     "name": "stdout",
     "output_type": "stream",
     "text": [
      "Starting evaluation\n",
      "ROOT:  /rds/user/fz287/hpc-work/MLMI4/results\\gp\\isanp2\\isanp2-num_latents-128_matern_0\n"
     ]
    },
    {
     "name": "stderr",
     "output_type": "stream",
     "text": [
      "100%|##########| 3000/3000 [00:43<00:00, 68.50it/s]\n",
      "isanp2:isanp2-num_latents-128_matern_0 matern tar_ll 0.8258 loss -0.8258 (43.800 secs)\n"
     ]
    },
    {
     "name": "stdout",
     "output_type": "stream",
     "text": [
      "Eval has finished\n"
     ]
    }
   ],
   "source": [
    "model_names=['isanp2-num_latents-8_matern_0',\n",
    "             'isanp2-num_latents-128_matern_0',\n",
    "            ]\n",
    "latents_l=[8, 128]\n",
    "modelito='isanp2'\n",
    "\n",
    "for latents, model_name in zip(latents_l, model_names):\n",
    "    print('###############MODEL: ',model_name, latents)\n",
    "    for seed in [0,58,100,250,550,1200]:\n",
    "        print('###############SEED: ',seed)\n",
    "        %run gp_track.py --mode eval --expid {model_name} --model {modelito} --num_latents {latents} --custom_eval True --eval_num_batches 3000 --eval_seed {seed} --eval_kernel matern"
   ]
  },
  {
   "cell_type": "code",
   "execution_count": null,
   "id": "b4185e43-c503-4dd1-97ef-c47a040bf446",
   "metadata": {},
   "outputs": [],
   "source": []
  },
  {
   "cell_type": "code",
   "execution_count": null,
   "id": "aed29204-4090-4ffc-8192-6afd434399b4",
   "metadata": {},
   "outputs": [],
   "source": []
  },
  {
   "cell_type": "code",
   "execution_count": null,
   "id": "5cc5d290-4899-44b2-9750-476878f41971",
   "metadata": {},
   "outputs": [],
   "source": []
  },
  {
   "cell_type": "code",
   "execution_count": null,
   "id": "c3b547ea-0f9b-4a8d-94e7-e104f0940d26",
   "metadata": {},
   "outputs": [],
   "source": []
  },
  {
   "cell_type": "code",
   "execution_count": null,
   "id": "749142f0-25fd-4cf6-af06-399a18e51bf0",
   "metadata": {
    "tags": []
   },
   "outputs": [
    {
     "name": "stdout",
     "output_type": "stream",
     "text": [
      "###############SEED:  0\n",
      "Overriding argument d_model: 64\n",
      "Overriding argument emb_depth: 4\n",
      "Overriding argument dim_feedforward: 128\n",
      "Overriding argument nhead: 4\n",
      "Overriding argument dropout: 0.0\n",
      "Overriding argument num_layers: 6\n",
      "True\n",
      "generating evaluation sets...\n",
      "Generating Evaluation Sets with rbf kernel\n",
      "Generating Evaluation sets with context and target points:   None None\n"
     ]
    },
    {
     "name": "stderr",
     "output_type": "stream",
     "text": [
      "100%|##########| 3000/3000 [00:07<00:00, 427.07it/s]\n"
     ]
    },
    {
     "name": "stdout",
     "output_type": "stream",
     "text": [
      "Starting evaluation\n",
      "ROOT:  /rds/user/fz287/hpc-work/MLMI4/results\\gp\\tnpd\\tnpd\n"
     ]
    },
    {
     "name": "stderr",
     "output_type": "stream",
     "text": [
      "100%|##########| 3000/3000 [00:17<00:00, 171.97it/s]\n",
      "tnpd:tnpd rbf tar_ll 1.0365 loss -1.0365 (17.447 secs)\n"
     ]
    },
    {
     "name": "stdout",
     "output_type": "stream",
     "text": [
      "Eval has finished\n",
      "###############SEED:  58\n",
      "Overriding argument d_model: 64\n",
      "Overriding argument emb_depth: 4\n",
      "Overriding argument dim_feedforward: 128\n",
      "Overriding argument nhead: 4\n",
      "Overriding argument dropout: 0.0\n",
      "Overriding argument num_layers: 6\n",
      "True\n",
      "generating evaluation sets...\n",
      "Generating Evaluation Sets with rbf kernel\n",
      "Generating Evaluation sets with context and target points:   None None\n"
     ]
    },
    {
     "name": "stderr",
     "output_type": "stream",
     "text": [
      "100%|##########| 3000/3000 [00:07<00:00, 375.01it/s]\n"
     ]
    },
    {
     "name": "stdout",
     "output_type": "stream",
     "text": [
      "Starting evaluation\n",
      "ROOT:  /rds/user/fz287/hpc-work/MLMI4/results\\gp\\tnpd\\tnpd\n"
     ]
    },
    {
     "name": "stderr",
     "output_type": "stream",
     "text": [
      "100%|##########| 3000/3000 [00:21<00:00, 140.28it/s]\n",
      "tnpd:tnpd rbf tar_ll 1.0245 loss -1.0245 (21.388 secs)\n"
     ]
    },
    {
     "name": "stdout",
     "output_type": "stream",
     "text": [
      "Eval has finished\n",
      "###############SEED:  100\n",
      "Overriding argument d_model: 64\n",
      "Overriding argument emb_depth: 4\n",
      "Overriding argument dim_feedforward: 128\n",
      "Overriding argument nhead: 4\n",
      "Overriding argument dropout: 0.0\n",
      "Overriding argument num_layers: 6\n",
      "True\n",
      "generating evaluation sets...\n",
      "Generating Evaluation Sets with rbf kernel\n",
      "Generating Evaluation sets with context and target points:   None None\n"
     ]
    },
    {
     "name": "stderr",
     "output_type": "stream",
     "text": [
      " 25%|##5       | 756/3000 [00:01<00:05, 419.41it/s]"
     ]
    }
   ],
   "source": [
    "for seed in [0,58,100,250,550,1200]:\n",
    "    print('###############SEED: ',seed)\n",
    "    %run gp_track.py --mode eval --expid tnpd --model tnpd --custom_eval True --eval_num_batches 3000 --eval_seed {seed}"
   ]
  },
  {
   "cell_type": "code",
   "execution_count": null,
   "id": "1fd3ccf1-dee7-435a-947e-c7b50b22717f",
   "metadata": {},
   "outputs": [],
   "source": []
  }
 ],
 "metadata": {
  "kernelspec": {
   "display_name": "Python 3 (ipykernel)",
   "language": "python",
   "name": "python3"
  },
  "language_info": {
   "codemirror_mode": {
    "name": "ipython",
    "version": 3
   },
   "file_extension": ".py",
   "mimetype": "text/x-python",
   "name": "python",
   "nbconvert_exporter": "python",
   "pygments_lexer": "ipython3",
   "version": "3.11.4"
  }
 },
 "nbformat": 4,
 "nbformat_minor": 5
}
